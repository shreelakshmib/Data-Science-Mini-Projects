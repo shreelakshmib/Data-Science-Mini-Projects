{
 "cells": [
  {
   "cell_type": "code",
   "execution_count": 1,
   "metadata": {},
   "outputs": [],
   "source": [
    "import pandas as pd\n",
    "import numpy as np\n",
    "import matplotlib.pyplot as plt\n",
    "import seaborn as sns\n",
    "import warnings\n",
    "\n",
    "warnings.filterwarnings('ignore')"
   ]
  },
  {
   "cell_type": "code",
   "execution_count": 2,
   "metadata": {},
   "outputs": [],
   "source": [
    "data = pd.read_csv('Data file.csv')"
   ]
  },
  {
   "cell_type": "markdown",
   "metadata": {},
   "source": [
    "# Data Summarization"
   ]
  },
  {
   "cell_type": "code",
   "execution_count": null,
   "metadata": {},
   "outputs": [],
   "source": [
    "data.head()"
   ]
  },
  {
   "cell_type": "code",
   "execution_count": 3,
   "metadata": {},
   "outputs": [],
   "source": [
    "#drop the index column from csv file\n",
    "data.drop(['Unnamed: 0'],axis=1,inplace=True)"
   ]
  },
  {
   "cell_type": "code",
   "execution_count": null,
   "metadata": {},
   "outputs": [],
   "source": [
    "data.info()"
   ]
  },
  {
   "cell_type": "markdown",
   "metadata": {},
   "source": [
    "    We have to convert features with object data types  into int or float."
   ]
  },
  {
   "cell_type": "code",
   "execution_count": null,
   "metadata": {},
   "outputs": [],
   "source": [
    "data.describe()"
   ]
  },
  {
   "cell_type": "markdown",
   "metadata": {},
   "source": [
    "Observations :\n",
    "    1. No null values are present.\n",
    "    2. Mean > Median in almost all columns except label column. Hence most of the data are right skewed.\n",
    "    3. Label column is left skewed.\n",
    "    4. There is a huge gap betweem 75% and max values, hence outliers are widely present. "
   ]
  },
  {
   "cell_type": "code",
   "execution_count": null,
   "metadata": {},
   "outputs": [],
   "source": [
    "data.columns"
   ]
  },
  {
   "cell_type": "code",
   "execution_count": 4,
   "metadata": {},
   "outputs": [],
   "source": [
    "#Since label column is our target variable, I would like to keep the column at the end.\n",
    "\n",
    "data = data[[col for col in data if col not in ['label']] + ['label']]"
   ]
  },
  {
   "cell_type": "markdown",
   "metadata": {},
   "source": [
    "# Data Visualization"
   ]
  },
  {
   "cell_type": "code",
   "execution_count": null,
   "metadata": {},
   "outputs": [],
   "source": [
    "plt.figure(figsize=(12,5))\n",
    "sns.heatmap(data.isnull())"
   ]
  },
  {
   "cell_type": "markdown",
   "metadata": {},
   "source": [
    "     No null values are present."
   ]
  },
  {
   "cell_type": "code",
   "execution_count": null,
   "metadata": {},
   "outputs": [],
   "source": [
    "data['amnt_loans90'].plot(kind='hist').set(xlim=(0,200))"
   ]
  },
  {
   "cell_type": "code",
   "execution_count": null,
   "metadata": {},
   "outputs": [],
   "source": [
    "fig,ax = plt.subplots(figsize=(3,3))\n",
    "ax.boxplot(data['aon']) \n",
    "plt.title(\"Age of Cellular Network in Days\")"
   ]
  },
  {
   "cell_type": "markdown",
   "metadata": {},
   "source": [
    "     We can see that there are outliers which lies beyond 50000. We can drop such data."
   ]
  },
  {
   "cell_type": "code",
   "execution_count": null,
   "metadata": {},
   "outputs": [],
   "source": [
    "data.columns"
   ]
  },
  {
   "cell_type": "code",
   "execution_count": null,
   "metadata": {},
   "outputs": [],
   "source": [
    "plt.figure(figsize=(10,5))\n",
    "data['fr_ma_rech90'].plot(kind='hist',color='Brown')\n",
    "plt.title(\"Frequency of Rechairge in Main Account in last 90 days\",fontsize=12)\n",
    "plt.xlabel(\"Frequency of main account recharge\")\n",
    "plt.ylabel(\"Frequency of occurence\")\n"
   ]
  },
  {
   "cell_type": "code",
   "execution_count": null,
   "metadata": {},
   "outputs": [],
   "source": [
    "plt.figure(figsize=(5,5))\n",
    "g = sns.FacetGrid(data, col = \"label\")\n",
    "plt.title(\"Average Payback time by defaulters and non-defaulters in last 90 days\")\n",
    "g.map(plt.hist,\"amnt_loans90)"
   ]
  },
  {
   "cell_type": "code",
   "execution_count": null,
   "metadata": {},
   "outputs": [],
   "source": [
    "sns.regplot(x='cnt_loans30',y='payback30',data=data)"
   ]
  },
  {
   "cell_type": "code",
   "execution_count": null,
   "metadata": {},
   "outputs": [],
   "source": [
    "sns.lmplot(x='cnt_loans30',y='payback30',data=data,hue='label')"
   ]
  },
  {
   "cell_type": "code",
   "execution_count": null,
   "metadata": {},
   "outputs": [],
   "source": [
    "sns.scatterplot(data.index,data['daily_decr30'],hue=data['label'])"
   ]
  },
  {
   "cell_type": "code",
   "execution_count": null,
   "metadata": {},
   "outputs": [],
   "source": [
    "sns.set(rc={'figure.figsize':(7,7)})\n",
    "sns.set(font_scale=1.5)\n",
    "sns.lineplot(x=data.index,y=data['payback30'],data=data)\n",
    "plt.xlabel(\"Index\")"
   ]
  },
  {
   "cell_type": "code",
   "execution_count": null,
   "metadata": {},
   "outputs": [],
   "source": [
    "#How many classes are present under target variable\n",
    "sns.set(style = 'darkgrid')\n",
    "ax = sns.countplot(data['label'])\n",
    "plt.title(\"Classes under Target Variable\")\n"
   ]
  },
  {
   "cell_type": "markdown",
   "metadata": {},
   "source": [
    "Observation : \n",
    "    0 - indicates the count for defaulter, i.e who has not paid the loan amont, which is approaximately 25000.\n",
    "    1 - indicates the count for non-defaulters, i.e who has paid the loan amount, which is near to 1,80,000.\n",
    "        \n",
    "    We can see that our data set is imbalanced."
   ]
  },
  {
   "cell_type": "markdown",
   "metadata": {},
   "source": [
    "# Data Manipulation"
   ]
  },
  {
   "cell_type": "code",
   "execution_count": null,
   "metadata": {},
   "outputs": [],
   "source": [
    "data['pcircle'].value_counts()"
   ]
  },
  {
   "cell_type": "markdown",
   "metadata": {},
   "source": [
    "    Since we have only one value for all the data, we can drop this column."
   ]
  },
  {
   "cell_type": "code",
   "execution_count": null,
   "metadata": {},
   "outputs": [],
   "source": [
    "#The loan amount can be either Rs. 6 or Rs. 12, Let us check if there are any values other than 6 or 12.\n",
    "data[(data['maxamnt_loans30'] == 6 ) | (data['maxamnt_loans30'] == 12 )]"
   ]
  },
  {
   "cell_type": "markdown",
   "metadata": {},
   "source": [
    "    We need to remove all the rows other than which has amount of rs 6 and 12,\n",
    "    as they are only two options given in the use case."
   ]
  },
  {
   "cell_type": "code",
   "execution_count": 5,
   "metadata": {},
   "outputs": [],
   "source": [
    "data = data[(data['maxamnt_loans30'] == 6 ) | (data['maxamnt_loans30'] == 12 )]"
   ]
  },
  {
   "cell_type": "code",
   "execution_count": 6,
   "metadata": {},
   "outputs": [],
   "source": [
    "#There is a letter I in each ID. Remove the alphabet.\n",
    "data['msisdn'].replace('[A-Z]','',regex=True,inplace=True)\n",
    "data['msisdn'] = data['msisdn'].astype('int64')"
   ]
  },
  {
   "cell_type": "code",
   "execution_count": null,
   "metadata": {},
   "outputs": [],
   "source": [
    "data['fr_da_rech30'].value_counts()\n",
    "#drop this column as maximum values are 0s "
   ]
  },
  {
   "cell_type": "code",
   "execution_count": null,
   "metadata": {},
   "outputs": [],
   "source": []
  },
  {
   "cell_type": "code",
   "execution_count": null,
   "metadata": {},
   "outputs": [],
   "source": [
    "data['cnt_da_rech90'].value_counts()\n",
    "#drop this column as maximum values are 0s  "
   ]
  },
  {
   "cell_type": "code",
   "execution_count": null,
   "metadata": {},
   "outputs": [],
   "source": [
    "data['cnt_da_rech30'].value_counts()\n",
    "#drop this column as  maximum values are 0s "
   ]
  },
  {
   "cell_type": "code",
   "execution_count": null,
   "metadata": {},
   "outputs": [],
   "source": [
    "data['fr_da_rech90'].value_counts()\n",
    "#drop this column as maximum values are 0s "
   ]
  },
  {
   "cell_type": "code",
   "execution_count": null,
   "metadata": {},
   "outputs": [],
   "source": [
    "data['medianamnt_loans90'].value_counts()\n",
    "#drop this column as maximum values are 0s "
   ]
  },
  {
   "cell_type": "code",
   "execution_count": null,
   "metadata": {},
   "outputs": [],
   "source": [
    "data['medianamnt_loans30'].value_counts()\n",
    "#drop this as well as maximum values are 0s "
   ]
  },
  {
   "cell_type": "code",
   "execution_count": 7,
   "metadata": {},
   "outputs": [],
   "source": [
    "drop_columns = ['pcircle','pdate','fr_da_rech90','fr_da_rech30','medianamnt_loans90','medianamnt_loans30',\n",
    "                'last_rech_date_da','cnt_da_rech90','cnt_da_rech30']\n",
    "\n",
    "for each in drop_columns:\n",
    "    data.drop(each,axis=1,inplace=True)"
   ]
  },
  {
   "cell_type": "code",
   "execution_count": null,
   "metadata": {},
   "outputs": [],
   "source": [
    "plt.figure(figsize=(20,15))\n",
    "sns.heatmap(data.corr(),annot=True,cmap='RdYlGn')"
   ]
  },
  {
   "cell_type": "code",
   "execution_count": null,
   "metadata": {},
   "outputs": [],
   "source": [
    "data.info()"
   ]
  },
  {
   "cell_type": "markdown",
   "metadata": {},
   "source": [
    "    All the following columns should be converted to integer:\n",
    "        1. aon            - Age on Cellular Network in Days\n",
    "        2. cnt_ma_rech90  - No of times, the main account was recharged in past 90 days.\n",
    "        3. cnt_ma_rech30  - No of times, the main account was recharged in past 30 days\n",
    "        4. fr_ma_rech90   - Frequency of recharge in main account in past 90 days.\n",
    "        5. fr_ma_rech30   - Frequency of recharge in main account in past 30 days.\n",
    "        6. cnt_loans90    - No. of loans taken in last 90 days.\n",
    "        7. cnt_loans30    - No. of loans taken in last 30 days.\n",
    "        8. payback30      - Average Payback time in last 30 days.\n",
    "        9. payback90      - Average Payback time in last 90 days.\n",
    "        10.last_rech_date_ma - Number of days till last recharge of main account.\n"
   ]
  },
  {
   "cell_type": "code",
   "execution_count": 8,
   "metadata": {},
   "outputs": [],
   "source": [
    "columns = ['aon','cnt_ma_rech90','cnt_ma_rech30','fr_ma_rech90',\n",
    "           'fr_ma_rech30','cnt_loans90','cnt_loans30','payback30','payback90','last_rech_date_ma']\n",
    "\n",
    "for each in columns:\n",
    "    data[each] = data[each].astype('int64')"
   ]
  },
  {
   "cell_type": "code",
   "execution_count": null,
   "metadata": {},
   "outputs": [],
   "source": []
  },
  {
   "cell_type": "code",
   "execution_count": null,
   "metadata": {},
   "outputs": [],
   "source": [
    "col = data.columns.values\n",
    "plt.figure(figsize=(20,130))\n",
    "\n",
    "for i in range(len(col)):\n",
    "    plt.subplot(27,3,i+1)\n",
    "    sns.distplot(data[col[i]],color='tomato')\n",
    "plt.show()"
   ]
  },
  {
   "cell_type": "code",
   "execution_count": null,
   "metadata": {},
   "outputs": [],
   "source": [
    "col = data.columns.values\n",
    "plt.figure(figsize=(20,150))\n",
    "\n",
    "for i in range(len(col)):\n",
    "    plt.subplot(27,3,i+1)\n",
    "    sns.boxplot(data[col[i]],palette='rocket',orient='v')\n",
    "    plt.tight_layout()"
   ]
  },
  {
   "cell_type": "code",
   "execution_count": 9,
   "metadata": {},
   "outputs": [],
   "source": [
    "# calculate interquartile range\n",
    "\n",
    "def find_outliers(columns):\n",
    "    \n",
    "    q25, q75 = data[columns].quantile(0.25), data[columns].quantile(0.75)\n",
    "    iqr = q75 - q25\n",
    "    # calculate the outlier cutoff\n",
    "    cut_off = iqr * 1.5\n",
    "    lower_bound = q25 - cut_off\n",
    "    upper_bound = q75 + cut_off \n",
    "    outliers = data[(data[columns] > upper_bound) | (data[columns] < lower_bound)]\n",
    "    if len(outliers) < 10000:\n",
    "        data.drop(outliers.index,axis=0,inplace=True)\n",
    "        print(\"Dropped \",len(outliers), \"rows from original data.\")\n",
    "\n",
    "    \n",
    "    print(\"*******************************************\")\n",
    "    print(\"Column Name : \",columns)\n",
    "    print(\"Original Length : \", len(data[cols]))\n",
    "    print(\"Outliers: \", len(outliers))\n",
    "    print(\"*******************************************\")\n"
   ]
  },
  {
   "cell_type": "raw",
   "metadata": {},
   "source": [
    "Remove outliers based on IQR calculated : If the number of outliers in each column is less tha 10000, then only those outliers\n",
    "are removed in order to preserve the data."
   ]
  },
  {
   "cell_type": "code",
   "execution_count": 10,
   "metadata": {},
   "outputs": [
    {
     "name": "stdout",
     "output_type": "stream",
     "text": [
      "Original length of Data =  (205302, 27)\n",
      "------------------------------------------------------\n",
      "Dropped  3559 rows from original data.\n",
      "*******************************************\n",
      "Column Name :  aon\n",
      "Original Length :  201743\n",
      "Outliers:  3559\n",
      "*******************************************\n",
      "*******************************************\n",
      "Column Name :  daily_decr30\n",
      "Original Length :  201743\n",
      "Outliers:  16034\n",
      "*******************************************\n",
      "*******************************************\n",
      "Column Name :  daily_decr90\n",
      "Original Length :  201743\n",
      "Outliers:  17938\n",
      "*******************************************\n",
      "*******************************************\n",
      "Column Name :  rental30\n",
      "Original Length :  201743\n",
      "Outliers:  17874\n",
      "*******************************************\n",
      "*******************************************\n",
      "Column Name :  rental90\n",
      "Original Length :  201743\n",
      "Outliers:  18686\n",
      "*******************************************\n",
      "*******************************************\n",
      "Column Name :  last_rech_date_ma\n",
      "Original Length :  201743\n",
      "Outliers:  18799\n",
      "*******************************************\n",
      "*******************************************\n",
      "Column Name :  last_rech_amt_ma\n",
      "Original Length :  201743\n",
      "Outliers:  19662\n",
      "*******************************************\n",
      "*******************************************\n",
      "Column Name :  cnt_ma_rech30\n",
      "Original Length :  201743\n",
      "Outliers:  11008\n",
      "*******************************************\n",
      "*******************************************\n",
      "Column Name :  fr_ma_rech30\n",
      "Original Length :  201743\n",
      "Outliers:  10943\n",
      "*******************************************\n",
      "*******************************************\n",
      "Column Name :  sumamnt_ma_rech30\n",
      "Original Length :  201743\n",
      "Outliers:  12743\n",
      "*******************************************\n",
      "*******************************************\n",
      "Column Name :  cnt_ma_rech90\n",
      "Original Length :  201743\n",
      "Outliers:  10451\n",
      "*******************************************\n",
      "*******************************************\n",
      "Column Name :  fr_ma_rech90\n",
      "Original Length :  201743\n",
      "Outliers:  25700\n",
      "*******************************************\n",
      "*******************************************\n",
      "Column Name :  sumamnt_ma_rech90\n",
      "Original Length :  201743\n",
      "Outliers:  13332\n",
      "*******************************************\n",
      "Dropped  7660 rows from original data.\n",
      "*******************************************\n",
      "Column Name :  cnt_loans30\n",
      "Original Length :  194083\n",
      "Outliers:  7660\n",
      "*******************************************\n",
      "Dropped  2538 rows from original data.\n",
      "*******************************************\n",
      "Column Name :  amnt_loans30\n",
      "Original Length :  191545\n",
      "Outliers:  2538\n",
      "*******************************************\n",
      "*******************************************\n",
      "Column Name :  maxamnt_loans30\n",
      "Original Length :  191545\n",
      "Outliers:  21423\n",
      "*******************************************\n",
      "*******************************************\n",
      "Column Name :  cnt_loans90\n",
      "Original Length :  191545\n",
      "Outliers:  11693\n",
      "*******************************************\n",
      "*******************************************\n",
      "Column Name :  amnt_loans90\n",
      "Original Length :  191545\n",
      "Outliers:  12589\n",
      "*******************************************\n",
      "*******************************************\n",
      "Column Name :  maxamnt_loans90\n",
      "Original Length :  191545\n",
      "Outliers:  21729\n",
      "*******************************************\n",
      "*******************************************\n",
      "Column Name :  payback30\n",
      "Original Length :  191545\n",
      "Outliers:  13094\n",
      "*******************************************\n",
      "*******************************************\n",
      "Column Name :  payback90\n",
      "Original Length :  191545\n",
      "Outliers:  17806\n",
      "*******************************************\n",
      "------------------------------------------------------\n",
      "Final length of Data =  (191545, 27)\n"
     ]
    }
   ],
   "source": [
    "cols = ['aon','daily_decr30','daily_decr90','rental30','rental90','last_rech_date_ma','last_rech_amt_ma','cnt_ma_rech30',\n",
    "        'fr_ma_rech30','sumamnt_ma_rech30','cnt_ma_rech90','fr_ma_rech90','sumamnt_ma_rech90','cnt_loans30',\n",
    "        'amnt_loans30','maxamnt_loans30','cnt_loans90','amnt_loans90','maxamnt_loans90','payback30','payback90']\n",
    "\n",
    "\n",
    "print(\"Original length of Data = \",data.shape)\n",
    "print(\"------------------------------------------------------\")\n",
    "for each in range(len(cols)):\n",
    "    find_outliers(cols[each])\n",
    "    \n",
    "print(\"------------------------------------------------------\")\n",
    "print(\"Final length of Data = \",data.shape)"
   ]
  },
  {
   "cell_type": "code",
   "execution_count": 11,
   "metadata": {},
   "outputs": [],
   "source": [
    "#Feature Selection\n",
    "\n",
    "X = data.drop('label',axis=1)\n",
    "Y = data.iloc[:,-1:]"
   ]
  },
  {
   "cell_type": "code",
   "execution_count": null,
   "metadata": {},
   "outputs": [],
   "source": [
    "#Since dataset is imbalanced, we will use oversampling. "
   ]
  },
  {
   "cell_type": "code",
   "execution_count": null,
   "metadata": {},
   "outputs": [],
   "source": [
    "Y['label'].value_counts()"
   ]
  },
  {
   "cell_type": "code",
   "execution_count": 12,
   "metadata": {},
   "outputs": [
    {
     "name": "stdout",
     "output_type": "stream",
     "text": [
      "Original dataset shape (191545, 1)\n",
      "Resample dataset shape (332086, 1)\n"
     ]
    }
   ],
   "source": [
    "# import library\n",
    "from imblearn.over_sampling import RandomOverSampler\n",
    "\n",
    "ros = RandomOverSampler(random_state=42)\n",
    "\n",
    "# fit predictor and target variable\n",
    "x_ros, y_ros = ros.fit_resample(X, Y)\n",
    "\n",
    "print('Original dataset shape', Y.shape)\n",
    "print('Resample dataset shape', y_ros.shape)"
   ]
  },
  {
   "cell_type": "code",
   "execution_count": null,
   "metadata": {},
   "outputs": [],
   "source": [
    "x_ros.skew()"
   ]
  },
  {
   "cell_type": "code",
   "execution_count": 13,
   "metadata": {},
   "outputs": [],
   "source": [
    "from sklearn.preprocessing import PowerTransformer\n",
    "\n",
    "pt = PowerTransformer('yeo-johnson')\n",
    "X =pd.DataFrame(pt.fit_transform(x_ros),columns = x_ros.columns.values)"
   ]
  },
  {
   "cell_type": "code",
   "execution_count": null,
   "metadata": {},
   "outputs": [],
   "source": [
    "X.skew()"
   ]
  },
  {
   "cell_type": "code",
   "execution_count": 14,
   "metadata": {},
   "outputs": [
    {
     "data": {
      "text/html": [
       "<div>\n",
       "<style scoped>\n",
       "    .dataframe tbody tr th:only-of-type {\n",
       "        vertical-align: middle;\n",
       "    }\n",
       "\n",
       "    .dataframe tbody tr th {\n",
       "        vertical-align: top;\n",
       "    }\n",
       "\n",
       "    .dataframe thead th {\n",
       "        text-align: right;\n",
       "    }\n",
       "</style>\n",
       "<table border=\"1\" class=\"dataframe\">\n",
       "  <thead>\n",
       "    <tr style=\"text-align: right;\">\n",
       "      <th></th>\n",
       "      <th>label</th>\n",
       "    </tr>\n",
       "  </thead>\n",
       "  <tbody>\n",
       "    <tr>\n",
       "      <th>0</th>\n",
       "      <td>0</td>\n",
       "    </tr>\n",
       "    <tr>\n",
       "      <th>1</th>\n",
       "      <td>1</td>\n",
       "    </tr>\n",
       "    <tr>\n",
       "      <th>2</th>\n",
       "      <td>1</td>\n",
       "    </tr>\n",
       "    <tr>\n",
       "      <th>3</th>\n",
       "      <td>1</td>\n",
       "    </tr>\n",
       "    <tr>\n",
       "      <th>4</th>\n",
       "      <td>1</td>\n",
       "    </tr>\n",
       "    <tr>\n",
       "      <th>...</th>\n",
       "      <td>...</td>\n",
       "    </tr>\n",
       "    <tr>\n",
       "      <th>332081</th>\n",
       "      <td>0</td>\n",
       "    </tr>\n",
       "    <tr>\n",
       "      <th>332082</th>\n",
       "      <td>0</td>\n",
       "    </tr>\n",
       "    <tr>\n",
       "      <th>332083</th>\n",
       "      <td>0</td>\n",
       "    </tr>\n",
       "    <tr>\n",
       "      <th>332084</th>\n",
       "      <td>0</td>\n",
       "    </tr>\n",
       "    <tr>\n",
       "      <th>332085</th>\n",
       "      <td>0</td>\n",
       "    </tr>\n",
       "  </tbody>\n",
       "</table>\n",
       "<p>332086 rows × 1 columns</p>\n",
       "</div>"
      ],
      "text/plain": [
       "        label\n",
       "0           0\n",
       "1           1\n",
       "2           1\n",
       "3           1\n",
       "4           1\n",
       "...       ...\n",
       "332081      0\n",
       "332082      0\n",
       "332083      0\n",
       "332084      0\n",
       "332085      0\n",
       "\n",
       "[332086 rows x 1 columns]"
      ]
     },
     "execution_count": 14,
     "metadata": {},
     "output_type": "execute_result"
    }
   ],
   "source": [
    "Y = pd.DataFrame(y_ros)\n",
    "Y"
   ]
  },
  {
   "cell_type": "code",
   "execution_count": 15,
   "metadata": {},
   "outputs": [],
   "source": [
    "from sklearn.preprocessing import MinMaxScaler\n",
    "\n",
    "scaler = MinMaxScaler()\n",
    "X_rescaled = pd.DataFrame(scaler.fit_transform(X),columns = x_ros.columns.values)\n"
   ]
  },
  {
   "cell_type": "code",
   "execution_count": null,
   "metadata": {},
   "outputs": [],
   "source": [
    "X_rescaled"
   ]
  },
  {
   "cell_type": "code",
   "execution_count": 16,
   "metadata": {},
   "outputs": [],
   "source": [
    "from sklearn.decomposition import PCA"
   ]
  },
  {
   "cell_type": "code",
   "execution_count": 17,
   "metadata": {},
   "outputs": [
    {
     "data": {
      "image/png": "[encoded data removed]",
      "text/plain": [
       "<Figure size 1080x576 with 1 Axes>"
      ]
     },
     "metadata": {
      "needs_background": "light"
     },
     "output_type": "display_data"
    }
   ],
   "source": [
    "pca = PCA().fit(X_rescaled)\n",
    "\n",
    "plt.rcParams[\"figure.figsize\"] = (15,8)\n",
    "\n",
    "fig,ax = plt.subplots()\n",
    "xi = np.arange(1,27,step=1)\n",
    "y=np.cumsum(pca.explained_variance_ratio_)\n",
    "\n",
    "plt.ylim(0.0,1.1)\n",
    "plt.plot(xi,y,marker='o',linestyle='--',color='b')\n",
    "\n",
    "plt.xlabel(\"Number of Components\")\n",
    "plt.ylabel(\"Confidence Interval(%)\")\n",
    "\n",
    "plt.xticks(np.arange(0,27,step=1)) \n",
    "plt.title(\"The number of components required to explain variance\")\n",
    "\n",
    "plt.axhline(y=0.95,color='r',linestyle='-')\n",
    "#plt.axvline(x=10,linestyle='--',color='green')\n",
    "plt.text(0.5,0.85,'95% cut-off threshold',color='red',fontsize=16)\n",
    "\n",
    "ax.grid(axis='x')\n",
    "plt.show()"
   ]
  },
  {
   "cell_type": "code",
   "execution_count": 18,
   "metadata": {},
   "outputs": [],
   "source": [
    "pca = PCA(n_components=8)\n",
    "pca.fit(X_rescaled)\n",
    "X = pd.DataFrame(pca.transform(X_rescaled))"
   ]
  },
  {
   "cell_type": "code",
   "execution_count": 19,
   "metadata": {},
   "outputs": [],
   "source": [
    "from sklearn.model_selection import train_test_split\n",
    "from sklearn.metrics import confusion_matrix,accuracy_score,classification_report\n",
    "\n",
    "from sklearn.tree import DecisionTreeClassifier\n",
    "from sklearn.neighbors import KNeighborsClassifier\n",
    "from sklearn.svm import SVC\n",
    "from sklearn.linear_model import LogisticRegression\n",
    "from sklearn.naive_bayes import GaussianNB"
   ]
  },
  {
   "cell_type": "code",
   "execution_count": null,
   "metadata": {},
   "outputs": [],
   "source": [
    "def calBestRandomStateOf(model):\n",
    "    max_score=0\n",
    "    for i in range(40,100):\n",
    "        x_train,x_test,y_train,y_test = train_test_split(X,Y,test_size=.20,random_state=i)\n",
    "        model.fit(x_train,y_train)\n",
    "        pred = model.predict(x_test)\n",
    "        score = accuracy_score(y_test,pred)\n",
    "        if score>max_score:\n",
    "            max_score = score\n",
    "            final_state = i\n",
    "\n",
    "    return final_state"
   ]
  },
  {
   "cell_type": "code",
   "execution_count": 20,
   "metadata": {},
   "outputs": [],
   "source": [
    "model = [LogisticRegression(),GaussianNB(),DecisionTreeClassifier(),KNeighborsClassifier(),SVC()]\n"
   ]
  },
  {
   "cell_type": "code",
   "execution_count": null,
   "metadata": {},
   "outputs": [],
   "source": [
    "model = [LogisticRegression(),GaussianNB(),DecisionTreeClassifier(),KNeighborsClassifier(),SVC()]\n",
    "\n",
    "for i in range(len(model)):\n",
    "    state = calBestRandomStateOf(model[i])\n",
    "    x_train,x_test,y_train,y_test = train_test_split(X,Y,test_size=.20,random_state=state)\n",
    "    model[i].fit(x_train,y_train)\n",
    "    score = model[i].score(x_train,y_train)\n",
    "    y_pred = model[i].predict(x_test)\n",
    "    accuracy = accuracy_score(y_test,y_pred)\n",
    "    classificationReport = classification_report(y_test,y_pred)\n",
    "    confusionMatrix = confusion_matrix(y_test,y_pred)\n",
    "    \n",
    "    print(\"*************************************************************************************\")\n",
    "    print(\"Random State : \",state)\n",
    "    print(\"Score of \",model[i],\" is : \", score)\n",
    "    print(\"Accuracy : \",accuracy*100,\"% \")\n",
    "    print(\"Classification Report : \\n\")\n",
    "    print(classificationReport)\n",
    "    print(\"Confusion Matrix :\\n \")\n",
    "    print(confusionMatrix)\n",
    "    print(\"*************************************************************************************\")"
   ]
  },
  {
   "cell_type": "code",
   "execution_count": null,
   "metadata": {},
   "outputs": [],
   "source": [
    "#Cross Validation :\n",
    "from sklearn.model_selection import cross_val_score\n",
    "\n",
    "for i in range(len(model)):\n",
    "    cv_score = cross_val_score(model[i],X,Y,cv=4,scoring='accuracy')\n",
    "    print(\"*************************************************************************************\")\n",
    "    print(\"Score for \",model[i],\" : \")\n",
    "    print(\"Score : \", cv_score)\n",
    "    print(\"Mean : \", cv_score.mean())\n",
    "    print(\"Standard Deviation : \", cv_score.std())\n",
    "    print(\"*************************************************************************************\")\n",
    "    print(\"\")"
   ]
  },
  {
   "cell_type": "code",
   "execution_count": null,
   "metadata": {},
   "outputs": [],
   "source": [
    "#Cross Validation :\n",
    "from sklearn.model_selection import cross_val_score\n",
    "\n",
    "for i in range(len(model)):\n",
    "    cv_score = cross_val_score(model[i],X,Y,cv=4,scoring='f1')\n",
    "    print(\"*************************************************************************************\")\n",
    "    print(\"Score for \",model[i],\" : \")\n",
    "    print(\"Score : \", cv_score)\n",
    "    print(\"Mean : \", cv_score.mean())\n",
    "    print(\"Standard Deviation : \", cv_score.std())\n",
    "    print(\"*************************************************************************************\")\n",
    "    print(\"\")"
   ]
  },
  {
   "cell_type": "code",
   "execution_count": null,
   "metadata": {},
   "outputs": [],
   "source": [
    "#GridSearchCV \n",
    "from sklearn.model_selection import GridSearchCV\n",
    "\n",
    "param_dict = {\"max_depth\": [3, None],\n",
    "              \"max_features\": range(1, 9),\n",
    "              \"min_samples_leaf\": range(1, 9),\n",
    "              \"criterion\": [\"gini\", \"entropy\"]}\n",
    "\n",
    "gridsearch = GridSearchCV(DecisionTreeClassifier(),param_dict,n_jobs=-1,pre_dispatch=2)\n",
    "gridsearch.fit(X,Y)\n",
    "gridsearch.best_params_"
   ]
  },
  {
   "cell_type": "code",
   "execution_count": null,
   "metadata": {},
   "outputs": [],
   "source": [
    "#Using the best parameters, build a svc model:\n",
    "\n",
    "from sklearn.metrics import mean_absolute_error, mean_squared_error\n",
    "\n",
    "dtc = DecisionTreeClassifier()\n",
    "state = calBestRandomStateOf(svc)\n",
    "x_train,x_test,y_train,y_test = train_test_split(X,y,test_size=.20,random_state = state )\n",
    "\n",
    "svc.fit(x_train,y_train)\n",
    "score = svc.score(x_train,y_train)\n",
    "y_pred = svc.predict(x_test)\n",
    "accuracy = accuracy_score(y_test,y_pred)\n",
    "\n",
    "print(\"Score for DTC : \",score)\n",
    "print(\"Accuracy Score for DTC : \",accuracy)\n",
    "print(\"Classification Report : \\n\")\n",
    "print(classification_report(y_test,y_pred))\n",
    "print(\"Confusion Matrix :\\n \")\n",
    "print(confusion_matrix(y_test,y_pred))\n"
   ]
  },
  {
   "cell_type": "code",
   "execution_count": null,
   "metadata": {},
   "outputs": [],
   "source": [
    "cv_score = cross_val_score(svc,X,y,cv=5,scoring='accuracy')\n",
    "print(\"*************************************************************************************\")\n",
    "print(\"Score for \",svc,\" : \")\n",
    "print(\"Score : \", cv_score)\n",
    "print(\"Mean : \", cv_score.mean())\n",
    "print(\"Standard Deviation : \", cv_score.std())\n",
    "print(\"*************************************************************************************\")\n",
    "print(\"\")"
   ]
  },
  {
   "cell_type": "code",
   "execution_count": null,
   "metadata": {},
   "outputs": [],
   "source": [
    "#Adaboost Regressor and RandomforestRegressor\n",
    "from sklearn.ensemble import AdaBoostClassifier as ABC\n",
    "from sklearn.ensemble import GradientBoostingClassifier as GBC\n",
    "from sklearn.ensemble import RandomForestClassifier as RFC\n",
    "from sklearn.ensemble import BaggingClassifier as BC\n",
    "from sklearn.ensemble import ExtraTreesClassifier as ETC\n",
    "\n",
    "ada = ABC(n_estimators=20,random_state=41)\n",
    "gradient = GBC(n_estimators=20,random_state=162)\n",
    "rfc = RFC(n_estimators=20,random_state=115)\n",
    "bc = BC(n_estimators=20,random_state=42)\n",
    "etc = ETC(n_estimators=20,random_state=86)\n",
    "\n",
    "boosting_model = [ada,gradient,rfc,bc,etc]\n",
    "\n",
    "for i in range(len(boosting_model)):\n",
    "    boost = boosting_model[i]\n",
    "    boost.fit(x_train,y_train)\n",
    "    pred = boost.predict(x_test)\n",
    "    accuracyScore = accuracy_score(y_test,pred)\n",
    "    print(\"-----------------------------------------------------------\")\n",
    "    print(boost)\n",
    "    print(\"-----------------------------------------------------------\")\n",
    "    print(\"Accuracy Score : \", accuracyScore)\n",
    "    print(\"\\n\")"
   ]
  },
  {
   "cell_type": "code",
   "execution_count": null,
   "metadata": {},
   "outputs": [],
   "source": [
    "baggingClassifier = BC(n_estimators=20,random_state=162)\n",
    "baggingClassifier.fit(x_train,y_train)\n",
    "y_pred= baggingClassifier.predict(x_test)\n",
    "accuracy = accuracy_score(y_test,y_pred)\n",
    "print(\"Accuracy Score for Bagging Classifier : \",round(accuracy*100,2),\"%\")\n",
    "print(\"Classification Report : \\n\")\n",
    "print(classificationReport)\n",
    "print(\"Confusion Matrix :\\n \")\n",
    "print(confusionMatrix)\n",
    "print(\"Mean Absolute Error : \" ,mean_absolute_error(y_test,y_pred))\n",
    "print(\"Mean Squared Error : \" ,mean_squared_error(y_test,y_pred))\n",
    "print(\"Root Mean Squared Error : \" ,np.sqrt(mean_squared_error(y_test,y_pred)))"
   ]
  },
  {
   "cell_type": "code",
   "execution_count": null,
   "metadata": {},
   "outputs": [],
   "source": [
    "sns.heatmap(confusionMatrix)"
   ]
  },
  {
   "cell_type": "code",
   "execution_count": null,
   "metadata": {},
   "outputs": [],
   "source": [
    "#saving the model\n",
    "import joblib\n",
    "\n",
    "joblib.dump(baggingClassifier,'baggingModel.obj')\n",
    "\n",
    "bootingModel_from_joblib = joblib.load('baggingModel.obj')\n",
    "\n",
    "final_output = pd.DataFrame(bootingModel_from_joblib.predict(x_test))"
   ]
  },
  {
   "cell_type": "code",
   "execution_count": null,
   "metadata": {},
   "outputs": [],
   "source": [
    "#save final output to a csv file :\n",
    "final_output.to_csv(\"Space_Server_Classifier_Output.csv\")"
   ]
  },
  {
   "cell_type": "code",
   "execution_count": null,
   "metadata": {},
   "outputs": [],
   "source": []
  }
 ],
 "metadata": {
  "kernelspec": {
   "display_name": "Python 3",
   "language": "python",
   "name": "python3"
  },
  "language_info": {
   "codemirror_mode": {
    "name": "ipython",
    "version": 3
   },
   "file_extension": ".py",
   "mimetype": "text/x-python",
   "name": "python",
   "nbconvert_exporter": "python",
   "pygments_lexer": "ipython3",
   "version": "3.7.6"
  }
 },
 "nbformat": 4,
 "nbformat_minor": 4
}
