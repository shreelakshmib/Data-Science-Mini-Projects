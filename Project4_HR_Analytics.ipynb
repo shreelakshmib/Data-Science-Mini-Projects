{
 "cells": [
  {
   "cell_type": "markdown",
   "metadata": {},
   "source": [
    "Abstract : HR Analytics"
   ]
  },
  {
   "cell_type": "code",
   "execution_count": null,
   "metadata": {},
   "outputs": [],
   "source": [
    "import pandas as pd\n",
    "import numpy as np\n",
    "import matplotlib.pyplot as plt\n",
    "import seaborn as sns\n",
    "import warnings\n",
    "import datetime as dt\n",
    "warnings.filterwarnings('ignore')\n",
    "%matplotlib inline"
   ]
  },
  {
   "cell_type": "code",
   "execution_count": null,
   "metadata": {},
   "outputs": [],
   "source": [
    "df = pd.read_csv('HR_Employee_Attrition.csv')"
   ]
  },
  {
   "cell_type": "code",
   "execution_count": null,
   "metadata": {},
   "outputs": [],
   "source": [
    "df.head()"
   ]
  },
  {
   "cell_type": "code",
   "execution_count": null,
   "metadata": {},
   "outputs": [],
   "source": [
    "#Move attrition column to the end :\n",
    "df = df[[c for c in df if c not in ['Attrition']] + ['Attrition']] "
   ]
  },
  {
   "cell_type": "code",
   "execution_count": null,
   "metadata": {},
   "outputs": [],
   "source": [
    "df.info()"
   ]
  },
  {
   "cell_type": "code",
   "execution_count": null,
   "metadata": {},
   "outputs": [],
   "source": [
    "df.columns"
   ]
  },
  {
   "cell_type": "raw",
   "metadata": {},
   "source": [
    "Explore object type columns : which needs to encoded "
   ]
  },
  {
   "cell_type": "code",
   "execution_count": null,
   "metadata": {},
   "outputs": [],
   "source": [
    "df['Attrition'].unique()"
   ]
  },
  {
   "cell_type": "code",
   "execution_count": null,
   "metadata": {},
   "outputs": [],
   "source": [
    "df['Gender'].unique()"
   ]
  },
  {
   "cell_type": "code",
   "execution_count": null,
   "metadata": {},
   "outputs": [],
   "source": [
    "df['BusinessTravel'].unique()"
   ]
  },
  {
   "cell_type": "code",
   "execution_count": null,
   "metadata": {},
   "outputs": [],
   "source": [
    "df['Department'].unique()"
   ]
  },
  {
   "cell_type": "code",
   "execution_count": null,
   "metadata": {},
   "outputs": [],
   "source": [
    "df['EducationField'].unique()"
   ]
  },
  {
   "cell_type": "code",
   "execution_count": null,
   "metadata": {},
   "outputs": [],
   "source": [
    "df['JobRole'].unique()"
   ]
  },
  {
   "cell_type": "code",
   "execution_count": null,
   "metadata": {},
   "outputs": [],
   "source": [
    "df['MaritalStatus'].unique()"
   ]
  },
  {
   "cell_type": "code",
   "execution_count": null,
   "metadata": {},
   "outputs": [],
   "source": [
    "df['Over18'].value_counts()\n",
    "#drop this column as it states that all employees are 18 years and above."
   ]
  },
  {
   "cell_type": "code",
   "execution_count": null,
   "metadata": {},
   "outputs": [],
   "source": [
    "df['OverTime'].unique()"
   ]
  },
  {
   "cell_type": "code",
   "execution_count": null,
   "metadata": {},
   "outputs": [],
   "source": [
    "df.describe()"
   ]
  },
  {
   "cell_type": "raw",
   "metadata": {},
   "source": [
    "1. Mean Age is 37, hence employees are middle aged.\n",
    "2. Right skewness can be seen in columns like - since mean>median.\n",
    "3. There is wide gap between 75% and max values. Hence outliers are present."
   ]
  },
  {
   "cell_type": "markdown",
   "metadata": {},
   "source": [
    "# Data Visualization"
   ]
  },
  {
   "cell_type": "code",
   "execution_count": null,
   "metadata": {},
   "outputs": [],
   "source": [
    "df.head()"
   ]
  },
  {
   "cell_type": "code",
   "execution_count": null,
   "metadata": {},
   "outputs": [],
   "source": [
    "#Range of ages of employees in the organisation :\n",
    "sns.distplot(df['Age'],color='green')\n",
    "plt.title(\"Age Distribution of Employees\")"
   ]
  },
  {
   "cell_type": "markdown",
   "metadata": {},
   "source": [
    "    Most Employees age between 20 and 60 years old, with many employees being around 35 yrs of age."
   ]
  },
  {
   "cell_type": "code",
   "execution_count": null,
   "metadata": {},
   "outputs": [],
   "source": [
    "sns.countplot(df['BusinessTravel'])\n",
    "plt.title(\"Types of Employees on the move\")"
   ]
  },
  {
   "cell_type": "markdown",
   "metadata": {},
   "source": [
    "    Very few people need to travel in this organisation."
   ]
  },
  {
   "cell_type": "code",
   "execution_count": null,
   "metadata": {},
   "outputs": [],
   "source": [
    "sns.distplot(df['YearsInCurrentRole'],bins=6,color='brown')\n",
    "plt.title(\"Years In Current Role\")\n"
   ]
  },
  {
   "cell_type": "markdown",
   "metadata": {},
   "source": [
    "        Most people have 0-10 years of experience in the present role. "
   ]
  },
  {
   "cell_type": "raw",
   "metadata": {},
   "source": [
    "Bivariate Analysis :"
   ]
  },
  {
   "cell_type": "code",
   "execution_count": null,
   "metadata": {},
   "outputs": [],
   "source": [
    "sns.barplot(x='Department',y='Age',data=df,hue='Attrition')\n",
    "plt.title(\"Attrition based on age and department\")"
   ]
  },
  {
   "cell_type": "markdown",
   "metadata": {},
   "source": [
    "    Most people who have left organisation are from Sales department, followed RnD and then HR."
   ]
  },
  {
   "cell_type": "code",
   "execution_count": null,
   "metadata": {},
   "outputs": [],
   "source": [
    "sns.heatmap(df.isnull())"
   ]
  },
  {
   "cell_type": "markdown",
   "metadata": {},
   "source": [
    "     No null values are present."
   ]
  },
  {
   "cell_type": "code",
   "execution_count": null,
   "metadata": {},
   "outputs": [],
   "source": [
    "sns.regplot(x='TotalWorkingYears',y='MonthlyIncome',data=df,color='red')\n",
    "plt.title(\"Years of Experience vs Income\")"
   ]
  },
  {
   "cell_type": "markdown",
   "metadata": {},
   "source": [
    "       Higher the experience, more the income. Most people have worked in this organisation betwwen 0-20 years."
   ]
  },
  {
   "cell_type": "markdown",
   "metadata": {},
   "source": [
    "# Data Manipulation"
   ]
  },
  {
   "cell_type": "code",
   "execution_count": null,
   "metadata": {},
   "outputs": [],
   "source": [
    "#Encode the columns\n",
    "from sklearn.preprocessing import LabelEncoder\n",
    "\n",
    "cols = ['Attrition','Gender','BusinessTravel','Department','EducationField','JobRole','MaritalStatus','OverTime']\n",
    "for each in cols:\n",
    "    encoder = LabelEncoder()\n",
    "    df[each] = encoder.fit_transform(df[each])\n",
    "df.info()"
   ]
  },
  {
   "cell_type": "code",
   "execution_count": null,
   "metadata": {},
   "outputs": [],
   "source": [
    "#drop unrelated columns\n",
    "df.drop('Over18',axis=1,inplace=True)\n",
    "df.drop('EmployeeCount',axis=1,inplace=True)\n",
    "df.drop('EmployeeNumber',axis=1,inplace=True)\n",
    "df.drop('StandardHours',axis=1,inplace=True)"
   ]
  },
  {
   "cell_type": "code",
   "execution_count": null,
   "metadata": {},
   "outputs": [],
   "source": [
    "#Find correlation between variables\n",
    "corr = df.corr()\n",
    "plt.figure(figsize=(19,15))\n",
    "sns.heatmap(corr,annot=True)"
   ]
  },
  {
   "cell_type": "code",
   "execution_count": null,
   "metadata": {},
   "outputs": [],
   "source": [
    "#Drop the following columns as they dont make much impact to target variable.\n",
    "df.drop('DailyRate',axis=1,inplace=True)\n",
    "df.drop('HourlyRate',axis=1,inplace=True)\n"
   ]
  },
  {
   "cell_type": "code",
   "execution_count": null,
   "metadata": {},
   "outputs": [],
   "source": [
    "#Check for skewness\n",
    "col = df.columns.values\n",
    "plt.figure(figsize=(20,35))\n",
    "for i in range(0,len(col)):\n",
    "    plt.subplot(10,5,i+1)\n",
    "    sns.distplot(df[col[i]],color='crimson')\n",
    "plt.show()"
   ]
  },
  {
   "cell_type": "markdown",
   "metadata": {},
   "source": [
    "    Data is not uniformly distributed and has right skewness in most of the columns like YearsAtCompany, PercentSalaryHike"
   ]
  },
  {
   "cell_type": "code",
   "execution_count": null,
   "metadata": {},
   "outputs": [],
   "source": [
    "#Check for outliers :\n",
    "plt.figure(figsize=(8,20))\n",
    "for i in range(0,len(col)):\n",
    "    plt.subplot(10,5,i+1)\n",
    "    sns.boxplot(df[col[i]],palette='rocket',orient='v')\n",
    "    plt.tight_layout()"
   ]
  },
  {
   "cell_type": "markdown",
   "metadata": {},
   "source": [
    "    Outliers are represented by dots and are present in few columns."
   ]
  },
  {
   "cell_type": "code",
   "execution_count": null,
   "metadata": {},
   "outputs": [],
   "source": [
    "#Use z-score to find outliers :\n",
    "from scipy.stats import zscore\n",
    "#data.info()\n",
    "z=np.abs(zscore(df))\n",
    "print(np.where(z>3))"
   ]
  },
  {
   "cell_type": "code",
   "execution_count": null,
   "metadata": {},
   "outputs": [],
   "source": [
    "#remove the outliers.\n",
    "df_new = df[(z<3).all(axis=1)]"
   ]
  },
  {
   "cell_type": "code",
   "execution_count": null,
   "metadata": {},
   "outputs": [],
   "source": [
    "print(df.shape,\"\\t\",df_new.shape)"
   ]
  },
  {
   "cell_type": "code",
   "execution_count": null,
   "metadata": {},
   "outputs": [],
   "source": [
    "#Feature Selection :\n",
    "\n",
    "from sklearn.model_selection import train_test_split\n",
    "\n",
    "X = df_new.drop('Attrition',axis=1)\n",
    "y = df_new.iloc[:,-1:]"
   ]
  },
  {
   "cell_type": "code",
   "execution_count": null,
   "metadata": {},
   "outputs": [],
   "source": [
    "#Check skewness value.\n",
    "X.skew()"
   ]
  },
  {
   "cell_type": "code",
   "execution_count": null,
   "metadata": {},
   "outputs": [],
   "source": [
    "#Use PowerTransformer to remove skewness.\n",
    "from sklearn.preprocessing import PowerTransformer\n",
    "\n",
    "pt = PowerTransformer('yeo-johnson')\n",
    "X = pd.DataFrame(pt.fit_transform(X))\n",
    "\n",
    "X.skew()"
   ]
  },
  {
   "cell_type": "code",
   "execution_count": null,
   "metadata": {},
   "outputs": [],
   "source": [
    "X[18].value_counts()"
   ]
  },
  {
   "cell_type": "code",
   "execution_count": null,
   "metadata": {},
   "outputs": [],
   "source": [
    "X.drop(18,axis=1,inplace=True)"
   ]
  },
  {
   "cell_type": "code",
   "execution_count": null,
   "metadata": {},
   "outputs": [],
   "source": [
    "X.shape"
   ]
  },
  {
   "cell_type": "code",
   "execution_count": null,
   "metadata": {},
   "outputs": [],
   "source": [
    "y.shape\n",
    "y"
   ]
  },
  {
   "cell_type": "markdown",
   "metadata": {},
   "source": [
    "# Model Prediction and Validation"
   ]
  },
  {
   "cell_type": "code",
   "execution_count": null,
   "metadata": {},
   "outputs": [],
   "source": [
    "from sklearn.metrics import r2_score,mean_absolute_error, mean_squared_error\n",
    "\n",
    "from sklearn.linear_model import LinearRegression as LR\n",
    "from sklearn.tree import DecisionTreeRegressor as DTR\n",
    "from sklearn.svm import SVR\n",
    "from sklearn.neighbors import KNeighborsRegressor as KNR\n",
    "from sklearn.linear_model import Lasso,Ridge,ElasticNet\n"
   ]
  },
  {
   "cell_type": "code",
   "execution_count": null,
   "metadata": {},
   "outputs": [],
   "source": [
    "model = [LR(),DTR(),KNR(),SVR(),Lasso(),Ridge(),ElasticNet()]\n",
    "\n",
    "for i in range(len(model)):\n",
    "    #randomState = random_state_counter(model[i])\n",
    "    x_train,x_test,y_train,y_test = train_test_split(X,y,test_size=.20,random_state=40)\n",
    "    model[i].fit(x_train,y_train)\n",
    "    y_pred = model[i].predict(x_test)\n",
    "    r2Score = r2_score(y_test,y_pred)\n",
    "    \n",
    "    print(\"*************************************************************************************\")\n",
    "    print(model[i])\n",
    "    print(\"R2 Score : \",r2Score)\n",
    "    print(\"Mean Absolute Error : \" ,mean_absolute_error(y_test,y_pred))\n",
    "    print(\"Mean Squared Error : \" ,mean_squared_error(y_test,y_pred))\n",
    "    print(\"Root Mean Squared Error : \" ,np.sqrt(mean_squared_error(y_test,y_pred)))\n",
    "    print(\"\")\n",
    "    print(\"*************************************************************************************\")\n",
    "\n",
    "print(y_pred)"
   ]
  },
  {
   "cell_type": "markdown",
   "metadata": {},
   "source": [
    "     LinearRegression performed better than the other models. "
   ]
  },
  {
   "cell_type": "code",
   "execution_count": null,
   "metadata": {},
   "outputs": [],
   "source": [
    "from sklearn.model_selection import cross_val_score\n",
    "\n",
    "cv_score = cross_val_score(LR(),X,y,cv=4,scoring='r2')\n",
    "print(\"*************************************************************************************\")\n",
    "print(\"Score for \",LR(),\" : \")\n",
    "print(\"Score : \", cv_score)\n",
    "print(\"Mean : \", cv_score.mean())\n",
    "print(\"Standard Deviation : \", cv_score.std())\n",
    "print(\"*************************************************************************************\")\n",
    "print(\"\")"
   ]
  },
  {
   "cell_type": "code",
   "execution_count": null,
   "metadata": {},
   "outputs": [],
   "source": [
    "#GridSearchCV\n",
    "from sklearn.model_selection import GridSearchCV\n",
    "\n",
    "parameters = {'fit_intercept':[True,False], 'normalize':[True,False], 'copy_X':[True, False]}\n",
    "\n",
    "gridsearch = GridSearchCV(LR(),parameters,n_jobs=-1,pre_dispatch=2)\n",
    "gridsearch.fit(X,y)\n",
    "gridsearch.best_params_"
   ]
  },
  {
   "cell_type": "code",
   "execution_count": null,
   "metadata": {},
   "outputs": [],
   "source": [
    "lr = LR(copy_X=True,fit_intercept=True,normalize=False)\n",
    "x_train,x_test,y_train,y_test = train_test_split(X,y,test_size=.20,random_state = 167 )\n",
    "lr.fit(x_train,y_train)\n",
    "score = lr.score(x_train,y_train)\n",
    "print(\"Score for Linear regression : \",score)\n",
    "y_pred = lr.predict(x_test)\n",
    "r2Score = r2_score(y_test,y_pred)\n",
    "print(\"R2 Score for Linear Regression : \",r2Score)\n",
    "print(\"Mean Squared Error : \" ,mean_squared_error(y_test,y_pred))\n",
    "print(\"Mean Absolute Error : \" ,mean_absolute_error(y_test,y_pred))\n",
    "print(\"Root Mean Squared Error : \" ,np.sqrt(mean_squared_error(y_test,y_pred)))\n",
    "\n"
   ]
  },
  {
   "cell_type": "code",
   "execution_count": null,
   "metadata": {},
   "outputs": [],
   "source": [
    "from sklearn.model_selection import cross_val_score\n",
    "\n",
    "cv_score = cross_val_score(lr,X,y,cv=4,scoring='r2')\n",
    "print(\"*************************************************************************************\")\n",
    "print(\"Score for \",lr,\" : \")\n",
    "print(\"Score : \", cv_score)\n",
    "print(\"Mean : \", cv_score.mean())\n",
    "print(\"Standard Deviation : \", cv_score.std())\n",
    "print(\"*************************************************************************************\")\n",
    "print(\"\")"
   ]
  },
  {
   "cell_type": "code",
   "execution_count": null,
   "metadata": {},
   "outputs": [],
   "source": [
    "def calBestRandomStateOf(model):\n",
    "    max_score=0\n",
    "    for i in range(40,500):\n",
    "        x_train,x_test,y_train,y_test = train_test_split(X,y,test_size=.20,random_state=i)\n",
    "        model.fit(x_train,y_train)\n",
    "        pred = model.predict(x_test)\n",
    "        score = r2_score(y_test,pred)\n",
    "        if score>max_score:\n",
    "            max_score = score\n",
    "            final_state = i\n",
    "\n",
    "    return final_state"
   ]
  },
  {
   "cell_type": "code",
   "execution_count": null,
   "metadata": {},
   "outputs": [],
   "source": [
    "#Adaboost Regressor and RandomforestRegressor\n",
    "from sklearn.ensemble import AdaBoostRegressor as ABR\n",
    "from sklearn.ensemble import GradientBoostingRegressor as GBR\n",
    "from sklearn.ensemble import RandomForestRegressor as RFR\n"
   ]
  },
  {
   "cell_type": "code",
   "execution_count": null,
   "metadata": {},
   "outputs": [],
   "source": [
    "ada = ABR(n_estimators=20,random_state=200)\n",
    "gradient = GBR(n_estimators=20,random_state=62)\n",
    "rfr = RFR(n_estimators=20,random_state=72)\n",
    "\n",
    "boosting_model = [ada,gradient,rfr]\n",
    "\n",
    "for i in range(len(boosting_model)):\n",
    "    boost = boosting_model[i]\n",
    "    boost.fit(x_train,y_train)\n",
    "    pred = boost.predict(x_test)\n",
    "    r2Score = r2_score(y_test,pred)\n",
    "    print(\"-----------------------------------------------------------\")\n",
    "    print(boost)\n",
    "    print(\"-----------------------------------------------------------\")\n",
    "    print(\"R2 Score : \", r2Score)\n",
    "    print(\"\\n\")"
   ]
  },
  {
   "cell_type": "markdown",
   "metadata": {},
   "source": [
    "     Even after boosting, LinearRegressor's scores are better than the rest and hence that will be our final model."
   ]
  },
  {
   "cell_type": "code",
   "execution_count": null,
   "metadata": {},
   "outputs": [],
   "source": [
    "from sklearn.externals import joblib\n",
    "\n",
    "joblib.dump(lr,'linearRegressionModel.obj')\n",
    "\n",
    "linearReg_from_joblib = joblib.load('linearRegressionModel.obj')\n",
    "\n",
    "final_output = linearReg_from_joblib.predict(x_test)"
   ]
  },
  {
   "cell_type": "code",
   "execution_count": null,
   "metadata": {},
   "outputs": [],
   "source": [
    "#save final output to a csv file :\n",
    "pd.DataFrame(final_output).to_csv(\"HR_Output.csv\")"
   ]
  }
 ],
 "metadata": {
  "kernelspec": {
   "display_name": "Python 3",
   "language": "python",
   "name": "python3"
  },
  "language_info": {
   "codemirror_mode": {
    "name": "ipython",
    "version": 3
   },
   "file_extension": ".py",
   "mimetype": "text/x-python",
   "name": "python",
   "nbconvert_exporter": "python",
   "pygments_lexer": "ipython3",
   "version": "3.7.6"
  }
 },
 "nbformat": 4,
 "nbformat_minor": 4
}
