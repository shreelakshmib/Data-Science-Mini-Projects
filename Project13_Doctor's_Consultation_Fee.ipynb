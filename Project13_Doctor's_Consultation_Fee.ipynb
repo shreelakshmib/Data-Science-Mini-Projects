{
 "cells": [
  {
   "cell_type": "raw",
   "metadata": {},
   "source": [
    "Abstract : Predcit Doctor's Consultation Fees"
   ]
  },
  {
   "cell_type": "code",
   "execution_count": 60,
   "metadata": {},
   "outputs": [],
   "source": [
    "import pandas as pd\n",
    "import numpy as np\n",
    "import matplotlib.pyplot as plt\n",
    "import seaborn as sns\n",
    "import warnings\n",
    "\n",
    "warnings.filterwarnings('ignore')\n",
    "%matplotlib inline"
   ]
  },
  {
   "cell_type": "markdown",
   "metadata": {},
   "source": [
    "# Data Summarization"
   ]
  },
  {
   "cell_type": "code",
   "execution_count": 61,
   "metadata": {},
   "outputs": [],
   "source": [
    "#Read the dataset\n",
    "training_df =pd.read_excel('Doctor_Train_Data.xlsx')\n",
    "testing_df =pd.read_excel('Doctor_Test_Data.xlsx')"
   ]
  },
  {
   "cell_type": "code",
   "execution_count": 3,
   "metadata": {},
   "outputs": [
    {
     "name": "stdout",
     "output_type": "stream",
     "text": [
      "<class 'pandas.core.frame.DataFrame'>\n",
      "RangeIndex: 5961 entries, 0 to 5960\n",
      "Data columns (total 7 columns):\n",
      " #   Column              Non-Null Count  Dtype \n",
      "---  ------              --------------  ----- \n",
      " 0   Qualification       5961 non-null   object\n",
      " 1   Experience          5961 non-null   object\n",
      " 2   Rating              2659 non-null   object\n",
      " 3   Place               5936 non-null   object\n",
      " 4   Profile             5961 non-null   object\n",
      " 5   Miscellaneous_Info  3341 non-null   object\n",
      " 6   Fees                5961 non-null   int64 \n",
      "dtypes: int64(1), object(6)\n",
      "memory usage: 326.1+ KB\n"
     ]
    }
   ],
   "source": [
    "training_df.info()"
   ]
  },
  {
   "cell_type": "code",
   "execution_count": 4,
   "metadata": {},
   "outputs": [
    {
     "name": "stdout",
     "output_type": "stream",
     "text": [
      "<class 'pandas.core.frame.DataFrame'>\n",
      "RangeIndex: 1987 entries, 0 to 1986\n",
      "Data columns (total 6 columns):\n",
      " #   Column              Non-Null Count  Dtype \n",
      "---  ------              --------------  ----- \n",
      " 0   Qualification       1987 non-null   object\n",
      " 1   Experience          1987 non-null   object\n",
      " 2   Rating              897 non-null    object\n",
      " 3   Place               1981 non-null   object\n",
      " 4   Profile             1987 non-null   object\n",
      " 5   Miscellaneous_Info  1153 non-null   object\n",
      "dtypes: object(6)\n",
      "memory usage: 93.3+ KB\n"
     ]
    }
   ],
   "source": [
    "testing_df.info()"
   ]
  },
  {
   "cell_type": "code",
   "execution_count": 62,
   "metadata": {},
   "outputs": [
    {
     "data": {
      "text/html": [
       "<div>\n",
       "<style scoped>\n",
       "    .dataframe tbody tr th:only-of-type {\n",
       "        vertical-align: middle;\n",
       "    }\n",
       "\n",
       "    .dataframe tbody tr th {\n",
       "        vertical-align: top;\n",
       "    }\n",
       "\n",
       "    .dataframe thead th {\n",
       "        text-align: right;\n",
       "    }\n",
       "</style>\n",
       "<table border=\"1\" class=\"dataframe\">\n",
       "  <thead>\n",
       "    <tr style=\"text-align: right;\">\n",
       "      <th></th>\n",
       "      <th>Fees</th>\n",
       "    </tr>\n",
       "  </thead>\n",
       "  <tbody>\n",
       "    <tr>\n",
       "      <th>count</th>\n",
       "      <td>5961.000000</td>\n",
       "    </tr>\n",
       "    <tr>\n",
       "      <th>mean</th>\n",
       "      <td>307.944640</td>\n",
       "    </tr>\n",
       "    <tr>\n",
       "      <th>std</th>\n",
       "      <td>190.920373</td>\n",
       "    </tr>\n",
       "    <tr>\n",
       "      <th>min</th>\n",
       "      <td>5.000000</td>\n",
       "    </tr>\n",
       "    <tr>\n",
       "      <th>25%</th>\n",
       "      <td>150.000000</td>\n",
       "    </tr>\n",
       "    <tr>\n",
       "      <th>50%</th>\n",
       "      <td>300.000000</td>\n",
       "    </tr>\n",
       "    <tr>\n",
       "      <th>75%</th>\n",
       "      <td>500.000000</td>\n",
       "    </tr>\n",
       "    <tr>\n",
       "      <th>max</th>\n",
       "      <td>950.000000</td>\n",
       "    </tr>\n",
       "  </tbody>\n",
       "</table>\n",
       "</div>"
      ],
      "text/plain": [
       "              Fees\n",
       "count  5961.000000\n",
       "mean    307.944640\n",
       "std     190.920373\n",
       "min       5.000000\n",
       "25%     150.000000\n",
       "50%     300.000000\n",
       "75%     500.000000\n",
       "max     950.000000"
      ]
     },
     "execution_count": 62,
     "metadata": {},
     "output_type": "execute_result"
    }
   ],
   "source": [
    "training_df.describe()"
   ]
  },
  {
   "cell_type": "markdown",
   "metadata": {},
   "source": [
    "    Some outliers can be seen as there is gap between 75% and max and also right skewed data since mean>50%."
   ]
  },
  {
   "cell_type": "markdown",
   "metadata": {},
   "source": [
    "# Data Visualization and Manipulation"
   ]
  },
  {
   "cell_type": "code",
   "execution_count": 5,
   "metadata": {},
   "outputs": [
    {
     "data": {
      "text/html": [
       "<div>\n",
       "<style scoped>\n",
       "    .dataframe tbody tr th:only-of-type {\n",
       "        vertical-align: middle;\n",
       "    }\n",
       "\n",
       "    .dataframe tbody tr th {\n",
       "        vertical-align: top;\n",
       "    }\n",
       "\n",
       "    .dataframe thead th {\n",
       "        text-align: right;\n",
       "    }\n",
       "</style>\n",
       "<table border=\"1\" class=\"dataframe\">\n",
       "  <thead>\n",
       "    <tr style=\"text-align: right;\">\n",
       "      <th></th>\n",
       "      <th>Qualification</th>\n",
       "      <th>Experience</th>\n",
       "      <th>Rating</th>\n",
       "      <th>Place</th>\n",
       "      <th>Profile</th>\n",
       "      <th>Miscellaneous_Info</th>\n",
       "      <th>Fees</th>\n",
       "    </tr>\n",
       "  </thead>\n",
       "  <tbody>\n",
       "    <tr>\n",
       "      <th>0</th>\n",
       "      <td>BHMS, MD - Homeopathy</td>\n",
       "      <td>24 years experience</td>\n",
       "      <td>100%</td>\n",
       "      <td>Kakkanad, Ernakulam</td>\n",
       "      <td>Homeopath</td>\n",
       "      <td>100% 16 Feedback Kakkanad, Ernakulam</td>\n",
       "      <td>100</td>\n",
       "    </tr>\n",
       "    <tr>\n",
       "      <th>1</th>\n",
       "      <td>BAMS, MD - Ayurveda Medicine</td>\n",
       "      <td>12 years experience</td>\n",
       "      <td>98%</td>\n",
       "      <td>Whitefield, Bangalore</td>\n",
       "      <td>Ayurveda</td>\n",
       "      <td>98% 76 Feedback Whitefield, Bangalore</td>\n",
       "      <td>350</td>\n",
       "    </tr>\n",
       "    <tr>\n",
       "      <th>2</th>\n",
       "      <td>MBBS, MS - Otorhinolaryngology</td>\n",
       "      <td>9 years experience</td>\n",
       "      <td>NaN</td>\n",
       "      <td>Mathikere - BEL, Bangalore</td>\n",
       "      <td>ENT Specialist</td>\n",
       "      <td>NaN</td>\n",
       "      <td>300</td>\n",
       "    </tr>\n",
       "    <tr>\n",
       "      <th>3</th>\n",
       "      <td>BSc - Zoology, BAMS</td>\n",
       "      <td>12 years experience</td>\n",
       "      <td>NaN</td>\n",
       "      <td>Bannerghatta Road, Bangalore</td>\n",
       "      <td>Ayurveda</td>\n",
       "      <td>Bannerghatta Road, Bangalore ₹250 Available on...</td>\n",
       "      <td>250</td>\n",
       "    </tr>\n",
       "    <tr>\n",
       "      <th>4</th>\n",
       "      <td>BAMS</td>\n",
       "      <td>20 years experience</td>\n",
       "      <td>100%</td>\n",
       "      <td>Keelkattalai, Chennai</td>\n",
       "      <td>Ayurveda</td>\n",
       "      <td>100% 4 Feedback Keelkattalai, Chennai</td>\n",
       "      <td>250</td>\n",
       "    </tr>\n",
       "  </tbody>\n",
       "</table>\n",
       "</div>"
      ],
      "text/plain": [
       "                    Qualification           Experience Rating  \\\n",
       "0           BHMS, MD - Homeopathy  24 years experience   100%   \n",
       "1    BAMS, MD - Ayurveda Medicine  12 years experience    98%   \n",
       "2  MBBS, MS - Otorhinolaryngology   9 years experience    NaN   \n",
       "3             BSc - Zoology, BAMS  12 years experience    NaN   \n",
       "4                            BAMS  20 years experience   100%   \n",
       "\n",
       "                          Place         Profile  \\\n",
       "0           Kakkanad, Ernakulam       Homeopath   \n",
       "1         Whitefield, Bangalore        Ayurveda   \n",
       "2    Mathikere - BEL, Bangalore  ENT Specialist   \n",
       "3  Bannerghatta Road, Bangalore        Ayurveda   \n",
       "4         Keelkattalai, Chennai        Ayurveda   \n",
       "\n",
       "                                  Miscellaneous_Info  Fees  \n",
       "0               100% 16 Feedback Kakkanad, Ernakulam   100  \n",
       "1              98% 76 Feedback Whitefield, Bangalore   350  \n",
       "2                                                NaN   300  \n",
       "3  Bannerghatta Road, Bangalore ₹250 Available on...   250  \n",
       "4              100% 4 Feedback Keelkattalai, Chennai   250  "
      ]
     },
     "execution_count": 5,
     "metadata": {},
     "output_type": "execute_result"
    }
   ],
   "source": [
    "training_df.head()"
   ]
  },
  {
   "cell_type": "code",
   "execution_count": 6,
   "metadata": {},
   "outputs": [
    {
     "data": {
      "text/plain": [
       "<matplotlib.axes._subplots.AxesSubplot at 0x20427b2b688>"
      ]
     },
     "execution_count": 6,
     "metadata": {},
     "output_type": "execute_result"
    },
    {
     "data": {
      "image/png": "[encoded data removed]",
      "text/plain": [
       "<Figure size 432x288 with 2 Axes>"
      ]
     },
     "metadata": {
      "needs_background": "light"
     },
     "output_type": "display_data"
    }
   ],
   "source": [
    "sns.heatmap(training_df.isnull())"
   ]
  },
  {
   "cell_type": "markdown",
   "metadata": {},
   "source": [
    "     There are many null values in Rating and Miscellaneous Info column."
   ]
  },
  {
   "cell_type": "code",
   "execution_count": 7,
   "metadata": {},
   "outputs": [
    {
     "data": {
      "text/plain": [
       "Text(0.5, 1.0, \"Distribution of Doctor's Consultation Fees\")"
      ]
     },
     "execution_count": 7,
     "metadata": {},
     "output_type": "execute_result"
    },
    {
     "data": {
      "image/png": "[encoded data removed]",
      "text/plain": [
       "<Figure size 432x288 with 1 Axes>"
      ]
     },
     "metadata": {
      "needs_background": "light"
     },
     "output_type": "display_data"
    }
   ],
   "source": [
    "sns.distplot(training_df['Fees'],bins=10,color='Tomato')\n",
    "plt.title(\"Distribution of Doctor's Consultation Fees\")"
   ]
  },
  {
   "cell_type": "code",
   "execution_count": 8,
   "metadata": {},
   "outputs": [
    {
     "data": {
      "text/plain": [
       "<matplotlib.axes._subplots.AxesSubplot at 0x2042abec988>"
      ]
     },
     "execution_count": 8,
     "metadata": {},
     "output_type": "execute_result"
    },
    {
     "data": {
      "image/png": "[encoded data removed]",
      "text/plain": [
       "<Figure size 720x720 with 1 Axes>"
      ]
     },
     "metadata": {
      "needs_background": "light"
     },
     "output_type": "display_data"
    }
   ],
   "source": [
    "plt.figure(figsize=(10,10))\n",
    "sns.countplot(training_df['Profile'])"
   ]
  },
  {
   "cell_type": "markdown",
   "metadata": {},
   "source": [
    "    Highest profile of Doctors given is of Dentist, followed by General Medicine and then Dermatologists."
   ]
  },
  {
   "cell_type": "code",
   "execution_count": 9,
   "metadata": {},
   "outputs": [
    {
     "data": {
      "text/plain": [
       "<matplotlib.axes._subplots.AxesSubplot at 0x2042abffc48>"
      ]
     },
     "execution_count": 9,
     "metadata": {},
     "output_type": "execute_result"
    },
    {
     "data": {
      "image/png": "[encoded data removed]",
      "text/plain": [
       "<Figure size 720x720 with 1 Axes>"
      ]
     },
     "metadata": {
      "needs_background": "light"
     },
     "output_type": "display_data"
    }
   ],
   "source": [
    "fees = pd.DataFrame(training_df.groupby('Profile',as_index=False)['Fees'].sum()).sort_values(by='Fees',ascending=False)\n",
    "plt.figure(figsize=(10,10))\n",
    "sns.barplot(x='Profile',y='Fees',data=fees)"
   ]
  },
  {
   "cell_type": "markdown",
   "metadata": {},
   "source": [
    "     Dermatologist have high consultancy fee, followed by General Medicine and Dentists. Ayurvedic Doctors charges the \n",
    "     least."
   ]
  },
  {
   "cell_type": "code",
   "execution_count": 10,
   "metadata": {},
   "outputs": [
    {
     "name": "stdout",
     "output_type": "stream",
     "text": [
      "Missing values in each columns :\n",
      "0       0\n",
      "1    1962\n",
      "2    4590\n",
      "3    5585\n",
      "4    5842\n",
      "5    5926\n",
      "6    5949\n",
      "7    5955\n",
      "8    5957\n",
      "9    5960\n",
      "dtype: int64\n"
     ]
    }
   ],
   "source": [
    "training_df_qualifications = training_df['Qualification'].apply(lambda x: pd.Series(x.split(',')))\n",
    "print(\"Missing values in each columns :\")\n",
    "print(training_df_qualifications.isnull().sum())"
   ]
  },
  {
   "cell_type": "markdown",
   "metadata": {},
   "source": [
    "Based on this output, we will eliminate all the columns except 0 and 1 as rest of them has to many missing values."
   ]
  },
  {
   "cell_type": "code",
   "execution_count": 11,
   "metadata": {},
   "outputs": [
    {
     "name": "stdout",
     "output_type": "stream",
     "text": [
      "Missing values in each columns :\n",
      "0        0\n",
      "1      609\n",
      "2     1498\n",
      "3     1864\n",
      "4     1951\n",
      "5     1979\n",
      "6     1984\n",
      "7     1985\n",
      "8     1985\n",
      "9     1986\n",
      "10    1986\n",
      "11    1986\n",
      "12    1986\n",
      "13    1986\n",
      "14    1986\n",
      "15    1986\n",
      "16    1986\n",
      "dtype: int64\n"
     ]
    }
   ],
   "source": [
    "testing_df_qualifications = testing_df['Qualification'].apply(lambda x: pd.Series(x.split(',')))\n",
    "print(\"Missing values in each columns :\")\n",
    "print(testing_df_qualifications.isnull().sum())"
   ]
  },
  {
   "cell_type": "markdown",
   "metadata": {},
   "source": [
    " For testing data we will remove columns from 2 to 16."
   ]
  },
  {
   "cell_type": "code",
   "execution_count": 12,
   "metadata": {},
   "outputs": [],
   "source": [
    "#dont drop here..add as none to all columnc\n",
    "for i in range(2,10):\n",
    "    training_df_qualifications.drop(i,axis=1,inplace=True)\n",
    "\n",
    "for i in range(2,17):\n",
    "    testing_df_qualifications.drop(i,axis=1,inplace=True)\n"
   ]
  },
  {
   "cell_type": "code",
   "execution_count": 13,
   "metadata": {},
   "outputs": [],
   "source": [
    "training_df[['Qualification_1','Qualification_2']] = training_df_qualifications[[0,1]]\n",
    "testing_df[['Qualification_1','Qualification_2']] = testing_df_qualifications[[0,1]]"
   ]
  },
  {
   "cell_type": "code",
   "execution_count": 18,
   "metadata": {},
   "outputs": [],
   "source": [
    "#modifying training_data\n",
    "training_df['Rating'].replace(r'%$','',regex=True,inplace=True)\n",
    "training_df['Experience(in Years)'] = training_df['Experience'].str.replace(r\"[^0-9]\",'')\n",
    "training_df[['Recommendation(in percentage)','Extra_info']] = testing_df.Miscellaneous_Info.str.split(r\"[^0-9]\",n=1,expand=True)\n",
    "training_df[['Comments','Reviews']] = training_df.Extra_info.str.split(r\"[^0-9]\",n=1,expand=True)\n",
    "training_df['Reviews'] = training_df['Reviews'].str.split(' ',1,expand=True)\n",
    "training_df['Reviews'] = training_df['Reviews'].replace(r\"[a-zA-z]\",np.NaN,regex=True)\n",
    "training_df[['Area','City']] = training_df.Place.str.split(',',n=1,expand=True)"
   ]
  },
  {
   "cell_type": "code",
   "execution_count": 19,
   "metadata": {},
   "outputs": [],
   "source": [
    "#modifying testing_data\n",
    "testing_df['Rating'].replace(r'%$','',regex=True,inplace=True)\n",
    "testing_df['Experience(in Years)'] = testing_df['Experience'].str.replace(r\"[^0-9]\",'')\n",
    "testing_df[['Recommendation(in percentage)','Extra_info']] = testing_df.Miscellaneous_Info.str.split(r\"[^0-9]\",n=1,expand=True)\n",
    "testing_df[['Comments','Reviews']] = testing_df.Extra_info.str.split(r\"[^0-9]\",n=1,expand=True)\n",
    "testing_df['Reviews'] = testing_df['Reviews'].str.split(' ',1,expand=True)\n",
    "testing_df['Reviews'] = testing_df['Reviews'].replace(r\"[a-zA-z]\",np.NaN,regex=True)\n",
    "testing_df[['Area','City']] = testing_df.Place.str.split(',',n=1,expand=True)"
   ]
  },
  {
   "cell_type": "code",
   "execution_count": 20,
   "metadata": {},
   "outputs": [],
   "source": [
    "#Qualification,Experience,Miscellaneous_Info,Extra_info,Comments,Recommendation(in percentage),Place can be dropped\n",
    "\n",
    "cols = ['Qualification','Experience','Miscellaneous_Info','Extra_info','Comments','Recommendation(in percentage)','Place']\n",
    "\n",
    "for i in range(len(cols)):\n",
    "    training_df.drop(cols[i],axis=1,inplace=True)\n",
    "    testing_df.drop(cols[i],axis=1,inplace=True)\n",
    "        "
   ]
  },
  {
   "cell_type": "code",
   "execution_count": 22,
   "metadata": {},
   "outputs": [
    {
     "data": {
      "text/html": [
       "<div>\n",
       "<style scoped>\n",
       "    .dataframe tbody tr th:only-of-type {\n",
       "        vertical-align: middle;\n",
       "    }\n",
       "\n",
       "    .dataframe tbody tr th {\n",
       "        vertical-align: top;\n",
       "    }\n",
       "\n",
       "    .dataframe thead th {\n",
       "        text-align: right;\n",
       "    }\n",
       "</style>\n",
       "<table border=\"1\" class=\"dataframe\">\n",
       "  <thead>\n",
       "    <tr style=\"text-align: right;\">\n",
       "      <th></th>\n",
       "      <th>Rating</th>\n",
       "      <th>Profile</th>\n",
       "      <th>Fees</th>\n",
       "      <th>Qualification_1</th>\n",
       "      <th>Qualification_2</th>\n",
       "      <th>Experience(in Years)</th>\n",
       "      <th>Reviews</th>\n",
       "      <th>Area</th>\n",
       "      <th>City</th>\n",
       "    </tr>\n",
       "  </thead>\n",
       "  <tbody>\n",
       "    <tr>\n",
       "      <th>91</th>\n",
       "      <td>NaN</td>\n",
       "      <td>Dermatologists</td>\n",
       "      <td>100</td>\n",
       "      <td>Get inspired by remarkable stories of people l...</td>\n",
       "      <td>NaN</td>\n",
       "      <td>0</td>\n",
       "      <td>3</td>\n",
       "      <td>NaN</td>\n",
       "      <td>NaN</td>\n",
       "    </tr>\n",
       "    <tr>\n",
       "      <th>502</th>\n",
       "      <td>NaN</td>\n",
       "      <td>Dermatologists</td>\n",
       "      <td>100</td>\n",
       "      <td>Get inspired by remarkable stories of people l...</td>\n",
       "      <td>NaN</td>\n",
       "      <td>0</td>\n",
       "      <td>NaN</td>\n",
       "      <td>NaN</td>\n",
       "      <td>NaN</td>\n",
       "    </tr>\n",
       "    <tr>\n",
       "      <th>599</th>\n",
       "      <td>NaN</td>\n",
       "      <td>Dermatologists</td>\n",
       "      <td>100</td>\n",
       "      <td>Get inspired by remarkable stories of people l...</td>\n",
       "      <td>NaN</td>\n",
       "      <td>0</td>\n",
       "      <td>NaN</td>\n",
       "      <td>NaN</td>\n",
       "      <td>NaN</td>\n",
       "    </tr>\n",
       "    <tr>\n",
       "      <th>605</th>\n",
       "      <td>NaN</td>\n",
       "      <td>Dermatologists</td>\n",
       "      <td>100</td>\n",
       "      <td>Get inspired by remarkable stories of people l...</td>\n",
       "      <td>NaN</td>\n",
       "      <td>0</td>\n",
       "      <td>12</td>\n",
       "      <td>NaN</td>\n",
       "      <td>NaN</td>\n",
       "    </tr>\n",
       "    <tr>\n",
       "      <th>724</th>\n",
       "      <td>NaN</td>\n",
       "      <td>Dermatologists</td>\n",
       "      <td>100</td>\n",
       "      <td>Get inspired by remarkable stories of people l...</td>\n",
       "      <td>NaN</td>\n",
       "      <td>0</td>\n",
       "      <td>NaN</td>\n",
       "      <td>NaN</td>\n",
       "      <td>NaN</td>\n",
       "    </tr>\n",
       "    <tr>\n",
       "      <th>1002</th>\n",
       "      <td>NaN</td>\n",
       "      <td>Dermatologists</td>\n",
       "      <td>100</td>\n",
       "      <td>Get inspired by remarkable stories of people l...</td>\n",
       "      <td>NaN</td>\n",
       "      <td>0</td>\n",
       "      <td>NaN</td>\n",
       "      <td>NaN</td>\n",
       "      <td>NaN</td>\n",
       "    </tr>\n",
       "    <tr>\n",
       "      <th>1083</th>\n",
       "      <td>NaN</td>\n",
       "      <td>Dermatologists</td>\n",
       "      <td>100</td>\n",
       "      <td>Get inspired by remarkable stories of people l...</td>\n",
       "      <td>NaN</td>\n",
       "      <td>0</td>\n",
       "      <td>NaN</td>\n",
       "      <td>NaN</td>\n",
       "      <td>NaN</td>\n",
       "    </tr>\n",
       "    <tr>\n",
       "      <th>1210</th>\n",
       "      <td>NaN</td>\n",
       "      <td>Dermatologists</td>\n",
       "      <td>100</td>\n",
       "      <td>Get inspired by remarkable stories of people l...</td>\n",
       "      <td>NaN</td>\n",
       "      <td>0</td>\n",
       "      <td>NaN</td>\n",
       "      <td>NaN</td>\n",
       "      <td>NaN</td>\n",
       "    </tr>\n",
       "    <tr>\n",
       "      <th>2078</th>\n",
       "      <td>NaN</td>\n",
       "      <td>Dermatologists</td>\n",
       "      <td>100</td>\n",
       "      <td>Get inspired by remarkable stories of people l...</td>\n",
       "      <td>NaN</td>\n",
       "      <td>0</td>\n",
       "      <td>NaN</td>\n",
       "      <td>NaN</td>\n",
       "      <td>NaN</td>\n",
       "    </tr>\n",
       "    <tr>\n",
       "      <th>2178</th>\n",
       "      <td>NaN</td>\n",
       "      <td>Dermatologists</td>\n",
       "      <td>100</td>\n",
       "      <td>Get inspired by remarkable stories of people l...</td>\n",
       "      <td>NaN</td>\n",
       "      <td>0</td>\n",
       "      <td>NaN</td>\n",
       "      <td>NaN</td>\n",
       "      <td>NaN</td>\n",
       "    </tr>\n",
       "    <tr>\n",
       "      <th>2328</th>\n",
       "      <td>NaN</td>\n",
       "      <td>Dermatologists</td>\n",
       "      <td>100</td>\n",
       "      <td>Get inspired by remarkable stories of people l...</td>\n",
       "      <td>NaN</td>\n",
       "      <td>0</td>\n",
       "      <td>NaN</td>\n",
       "      <td>NaN</td>\n",
       "      <td>NaN</td>\n",
       "    </tr>\n",
       "    <tr>\n",
       "      <th>3099</th>\n",
       "      <td>NaN</td>\n",
       "      <td>Dermatologists</td>\n",
       "      <td>100</td>\n",
       "      <td>Get inspired by remarkable stories of people l...</td>\n",
       "      <td>NaN</td>\n",
       "      <td>0</td>\n",
       "      <td>NaN</td>\n",
       "      <td>NaN</td>\n",
       "      <td>NaN</td>\n",
       "    </tr>\n",
       "    <tr>\n",
       "      <th>3228</th>\n",
       "      <td>NaN</td>\n",
       "      <td>Dermatologists</td>\n",
       "      <td>100</td>\n",
       "      <td>Get inspired by remarkable stories of people l...</td>\n",
       "      <td>NaN</td>\n",
       "      <td>0</td>\n",
       "      <td>NaN</td>\n",
       "      <td>NaN</td>\n",
       "      <td>NaN</td>\n",
       "    </tr>\n",
       "    <tr>\n",
       "      <th>3418</th>\n",
       "      <td>NaN</td>\n",
       "      <td>Dermatologists</td>\n",
       "      <td>100</td>\n",
       "      <td>Get inspired by remarkable stories of people l...</td>\n",
       "      <td>NaN</td>\n",
       "      <td>0</td>\n",
       "      <td>NaN</td>\n",
       "      <td>NaN</td>\n",
       "      <td>NaN</td>\n",
       "    </tr>\n",
       "    <tr>\n",
       "      <th>3443</th>\n",
       "      <td>NaN</td>\n",
       "      <td>Dermatologists</td>\n",
       "      <td>100</td>\n",
       "      <td>Get inspired by remarkable stories of people l...</td>\n",
       "      <td>NaN</td>\n",
       "      <td>0</td>\n",
       "      <td>NaN</td>\n",
       "      <td>NaN</td>\n",
       "      <td>NaN</td>\n",
       "    </tr>\n",
       "    <tr>\n",
       "      <th>3744</th>\n",
       "      <td>NaN</td>\n",
       "      <td>Dermatologists</td>\n",
       "      <td>100</td>\n",
       "      <td>Get inspired by remarkable stories of people l...</td>\n",
       "      <td>NaN</td>\n",
       "      <td>0</td>\n",
       "      <td>NaN</td>\n",
       "      <td>NaN</td>\n",
       "      <td>NaN</td>\n",
       "    </tr>\n",
       "    <tr>\n",
       "      <th>3804</th>\n",
       "      <td>NaN</td>\n",
       "      <td>Dermatologists</td>\n",
       "      <td>100</td>\n",
       "      <td>Get inspired by remarkable stories of people l...</td>\n",
       "      <td>NaN</td>\n",
       "      <td>0</td>\n",
       "      <td>NaN</td>\n",
       "      <td>NaN</td>\n",
       "      <td>NaN</td>\n",
       "    </tr>\n",
       "    <tr>\n",
       "      <th>4004</th>\n",
       "      <td>NaN</td>\n",
       "      <td>Dermatologists</td>\n",
       "      <td>100</td>\n",
       "      <td>Get inspired by remarkable stories of people l...</td>\n",
       "      <td>NaN</td>\n",
       "      <td>0</td>\n",
       "      <td>NaN</td>\n",
       "      <td>NaN</td>\n",
       "      <td>NaN</td>\n",
       "    </tr>\n",
       "    <tr>\n",
       "      <th>4758</th>\n",
       "      <td>NaN</td>\n",
       "      <td>Dermatologists</td>\n",
       "      <td>100</td>\n",
       "      <td>Get inspired by remarkable stories of people l...</td>\n",
       "      <td>NaN</td>\n",
       "      <td>0</td>\n",
       "      <td>NaN</td>\n",
       "      <td>NaN</td>\n",
       "      <td>NaN</td>\n",
       "    </tr>\n",
       "    <tr>\n",
       "      <th>4823</th>\n",
       "      <td>NaN</td>\n",
       "      <td>Dermatologists</td>\n",
       "      <td>150</td>\n",
       "      <td>MBBS</td>\n",
       "      <td>DDVL</td>\n",
       "      <td>22</td>\n",
       "      <td>NaN</td>\n",
       "      <td>NaN</td>\n",
       "      <td>NaN</td>\n",
       "    </tr>\n",
       "    <tr>\n",
       "      <th>4847</th>\n",
       "      <td>NaN</td>\n",
       "      <td>Dermatologists</td>\n",
       "      <td>100</td>\n",
       "      <td>Get inspired by remarkable stories of people l...</td>\n",
       "      <td>NaN</td>\n",
       "      <td>0</td>\n",
       "      <td>NaN</td>\n",
       "      <td>NaN</td>\n",
       "      <td>NaN</td>\n",
       "    </tr>\n",
       "    <tr>\n",
       "      <th>5058</th>\n",
       "      <td>NaN</td>\n",
       "      <td>Dermatologists</td>\n",
       "      <td>100</td>\n",
       "      <td>Get inspired by remarkable stories of people l...</td>\n",
       "      <td>NaN</td>\n",
       "      <td>0</td>\n",
       "      <td>NaN</td>\n",
       "      <td>NaN</td>\n",
       "      <td>NaN</td>\n",
       "    </tr>\n",
       "    <tr>\n",
       "      <th>5187</th>\n",
       "      <td>NaN</td>\n",
       "      <td>Dermatologists</td>\n",
       "      <td>100</td>\n",
       "      <td>Get inspired by remarkable stories of people l...</td>\n",
       "      <td>NaN</td>\n",
       "      <td>0</td>\n",
       "      <td>NaN</td>\n",
       "      <td>NaN</td>\n",
       "      <td>NaN</td>\n",
       "    </tr>\n",
       "    <tr>\n",
       "      <th>5551</th>\n",
       "      <td>NaN</td>\n",
       "      <td>Dermatologists</td>\n",
       "      <td>100</td>\n",
       "      <td>Get inspired by remarkable stories of people l...</td>\n",
       "      <td>NaN</td>\n",
       "      <td>0</td>\n",
       "      <td>NaN</td>\n",
       "      <td>NaN</td>\n",
       "      <td>NaN</td>\n",
       "    </tr>\n",
       "    <tr>\n",
       "      <th>5723</th>\n",
       "      <td>NaN</td>\n",
       "      <td>Dermatologists</td>\n",
       "      <td>100</td>\n",
       "      <td>Get inspired by remarkable stories of people l...</td>\n",
       "      <td>NaN</td>\n",
       "      <td>0</td>\n",
       "      <td>NaN</td>\n",
       "      <td>NaN</td>\n",
       "      <td>NaN</td>\n",
       "    </tr>\n",
       "  </tbody>\n",
       "</table>\n",
       "</div>"
      ],
      "text/plain": [
       "     Rating         Profile  Fees  \\\n",
       "91      NaN  Dermatologists   100   \n",
       "502     NaN  Dermatologists   100   \n",
       "599     NaN  Dermatologists   100   \n",
       "605     NaN  Dermatologists   100   \n",
       "724     NaN  Dermatologists   100   \n",
       "1002    NaN  Dermatologists   100   \n",
       "1083    NaN  Dermatologists   100   \n",
       "1210    NaN  Dermatologists   100   \n",
       "2078    NaN  Dermatologists   100   \n",
       "2178    NaN  Dermatologists   100   \n",
       "2328    NaN  Dermatologists   100   \n",
       "3099    NaN  Dermatologists   100   \n",
       "3228    NaN  Dermatologists   100   \n",
       "3418    NaN  Dermatologists   100   \n",
       "3443    NaN  Dermatologists   100   \n",
       "3744    NaN  Dermatologists   100   \n",
       "3804    NaN  Dermatologists   100   \n",
       "4004    NaN  Dermatologists   100   \n",
       "4758    NaN  Dermatologists   100   \n",
       "4823    NaN  Dermatologists   150   \n",
       "4847    NaN  Dermatologists   100   \n",
       "5058    NaN  Dermatologists   100   \n",
       "5187    NaN  Dermatologists   100   \n",
       "5551    NaN  Dermatologists   100   \n",
       "5723    NaN  Dermatologists   100   \n",
       "\n",
       "                                        Qualification_1 Qualification_2  \\\n",
       "91    Get inspired by remarkable stories of people l...             NaN   \n",
       "502   Get inspired by remarkable stories of people l...             NaN   \n",
       "599   Get inspired by remarkable stories of people l...             NaN   \n",
       "605   Get inspired by remarkable stories of people l...             NaN   \n",
       "724   Get inspired by remarkable stories of people l...             NaN   \n",
       "1002  Get inspired by remarkable stories of people l...             NaN   \n",
       "1083  Get inspired by remarkable stories of people l...             NaN   \n",
       "1210  Get inspired by remarkable stories of people l...             NaN   \n",
       "2078  Get inspired by remarkable stories of people l...             NaN   \n",
       "2178  Get inspired by remarkable stories of people l...             NaN   \n",
       "2328  Get inspired by remarkable stories of people l...             NaN   \n",
       "3099  Get inspired by remarkable stories of people l...             NaN   \n",
       "3228  Get inspired by remarkable stories of people l...             NaN   \n",
       "3418  Get inspired by remarkable stories of people l...             NaN   \n",
       "3443  Get inspired by remarkable stories of people l...             NaN   \n",
       "3744  Get inspired by remarkable stories of people l...             NaN   \n",
       "3804  Get inspired by remarkable stories of people l...             NaN   \n",
       "4004  Get inspired by remarkable stories of people l...             NaN   \n",
       "4758  Get inspired by remarkable stories of people l...             NaN   \n",
       "4823                                               MBBS            DDVL   \n",
       "4847  Get inspired by remarkable stories of people l...             NaN   \n",
       "5058  Get inspired by remarkable stories of people l...             NaN   \n",
       "5187  Get inspired by remarkable stories of people l...             NaN   \n",
       "5551  Get inspired by remarkable stories of people l...             NaN   \n",
       "5723  Get inspired by remarkable stories of people l...             NaN   \n",
       "\n",
       "     Experience(in Years) Reviews Area City  \n",
       "91                      0       3  NaN  NaN  \n",
       "502                     0     NaN  NaN  NaN  \n",
       "599                     0     NaN  NaN  NaN  \n",
       "605                     0      12  NaN  NaN  \n",
       "724                     0     NaN  NaN  NaN  \n",
       "1002                    0     NaN  NaN  NaN  \n",
       "1083                    0     NaN  NaN  NaN  \n",
       "1210                    0     NaN  NaN  NaN  \n",
       "2078                    0     NaN  NaN  NaN  \n",
       "2178                    0     NaN  NaN  NaN  \n",
       "2328                    0     NaN  NaN  NaN  \n",
       "3099                    0     NaN  NaN  NaN  \n",
       "3228                    0     NaN  NaN  NaN  \n",
       "3418                    0     NaN  NaN  NaN  \n",
       "3443                    0     NaN  NaN  NaN  \n",
       "3744                    0     NaN  NaN  NaN  \n",
       "3804                    0     NaN  NaN  NaN  \n",
       "4004                    0     NaN  NaN  NaN  \n",
       "4758                    0     NaN  NaN  NaN  \n",
       "4823                   22     NaN  NaN  NaN  \n",
       "4847                    0     NaN  NaN  NaN  \n",
       "5058                    0     NaN  NaN  NaN  \n",
       "5187                    0     NaN  NaN  NaN  \n",
       "5551                    0     NaN  NaN  NaN  \n",
       "5723                    0     NaN  NaN  NaN  "
      ]
     },
     "execution_count": 22,
     "metadata": {},
     "output_type": "execute_result"
    }
   ],
   "source": [
    "#drop these rows as they dont have much information\n",
    "training_df[training_df['Area'].isnull()]"
   ]
  },
  {
   "cell_type": "code",
   "execution_count": 23,
   "metadata": {},
   "outputs": [],
   "source": [
    "drop_rows =training_df[training_df['Area'].isnull()]\n",
    "training_df.drop(drop_rows.index,axis=0,inplace=True)"
   ]
  },
  {
   "cell_type": "code",
   "execution_count": 24,
   "metadata": {},
   "outputs": [
    {
     "data": {
      "text/html": [
       "<div>\n",
       "<style scoped>\n",
       "    .dataframe tbody tr th:only-of-type {\n",
       "        vertical-align: middle;\n",
       "    }\n",
       "\n",
       "    .dataframe tbody tr th {\n",
       "        vertical-align: top;\n",
       "    }\n",
       "\n",
       "    .dataframe thead th {\n",
       "        text-align: right;\n",
       "    }\n",
       "</style>\n",
       "<table border=\"1\" class=\"dataframe\">\n",
       "  <thead>\n",
       "    <tr style=\"text-align: right;\">\n",
       "      <th></th>\n",
       "      <th>Rating</th>\n",
       "      <th>Profile</th>\n",
       "      <th>Qualification_1</th>\n",
       "      <th>Qualification_2</th>\n",
       "      <th>Experience(in Years)</th>\n",
       "      <th>Reviews</th>\n",
       "      <th>Area</th>\n",
       "      <th>City</th>\n",
       "    </tr>\n",
       "  </thead>\n",
       "  <tbody>\n",
       "    <tr>\n",
       "      <th>381</th>\n",
       "      <td>NaN</td>\n",
       "      <td>Dermatologists</td>\n",
       "      <td>Get inspired by remarkable stories of people l...</td>\n",
       "      <td>NaN</td>\n",
       "      <td>0</td>\n",
       "      <td>NaN</td>\n",
       "      <td>NaN</td>\n",
       "      <td>NaN</td>\n",
       "    </tr>\n",
       "    <tr>\n",
       "      <th>1494</th>\n",
       "      <td>NaN</td>\n",
       "      <td>Dermatologists</td>\n",
       "      <td>Get inspired by remarkable stories of people l...</td>\n",
       "      <td>NaN</td>\n",
       "      <td>0</td>\n",
       "      <td>NaN</td>\n",
       "      <td>NaN</td>\n",
       "      <td>NaN</td>\n",
       "    </tr>\n",
       "    <tr>\n",
       "      <th>1644</th>\n",
       "      <td>NaN</td>\n",
       "      <td>Dermatologists</td>\n",
       "      <td>Get inspired by remarkable stories of people l...</td>\n",
       "      <td>NaN</td>\n",
       "      <td>0</td>\n",
       "      <td>NaN</td>\n",
       "      <td>NaN</td>\n",
       "      <td>NaN</td>\n",
       "    </tr>\n",
       "    <tr>\n",
       "      <th>1838</th>\n",
       "      <td>NaN</td>\n",
       "      <td>Dermatologists</td>\n",
       "      <td>Get inspired by remarkable stories of people l...</td>\n",
       "      <td>NaN</td>\n",
       "      <td>0</td>\n",
       "      <td>NaN</td>\n",
       "      <td>NaN</td>\n",
       "      <td>NaN</td>\n",
       "    </tr>\n",
       "    <tr>\n",
       "      <th>1925</th>\n",
       "      <td>NaN</td>\n",
       "      <td>Dermatologists</td>\n",
       "      <td>Get inspired by remarkable stories of people l...</td>\n",
       "      <td>NaN</td>\n",
       "      <td>0</td>\n",
       "      <td>NaN</td>\n",
       "      <td>NaN</td>\n",
       "      <td>NaN</td>\n",
       "    </tr>\n",
       "    <tr>\n",
       "      <th>1930</th>\n",
       "      <td>NaN</td>\n",
       "      <td>Dermatologists</td>\n",
       "      <td>Get inspired by remarkable stories of people l...</td>\n",
       "      <td>NaN</td>\n",
       "      <td>0</td>\n",
       "      <td>NaN</td>\n",
       "      <td>NaN</td>\n",
       "      <td>NaN</td>\n",
       "    </tr>\n",
       "  </tbody>\n",
       "</table>\n",
       "</div>"
      ],
      "text/plain": [
       "     Rating         Profile  \\\n",
       "381     NaN  Dermatologists   \n",
       "1494    NaN  Dermatologists   \n",
       "1644    NaN  Dermatologists   \n",
       "1838    NaN  Dermatologists   \n",
       "1925    NaN  Dermatologists   \n",
       "1930    NaN  Dermatologists   \n",
       "\n",
       "                                        Qualification_1 Qualification_2  \\\n",
       "381   Get inspired by remarkable stories of people l...             NaN   \n",
       "1494  Get inspired by remarkable stories of people l...             NaN   \n",
       "1644  Get inspired by remarkable stories of people l...             NaN   \n",
       "1838  Get inspired by remarkable stories of people l...             NaN   \n",
       "1925  Get inspired by remarkable stories of people l...             NaN   \n",
       "1930  Get inspired by remarkable stories of people l...             NaN   \n",
       "\n",
       "     Experience(in Years) Reviews Area City  \n",
       "381                     0     NaN  NaN  NaN  \n",
       "1494                    0     NaN  NaN  NaN  \n",
       "1644                    0     NaN  NaN  NaN  \n",
       "1838                    0     NaN  NaN  NaN  \n",
       "1925                    0     NaN  NaN  NaN  \n",
       "1930                    0     NaN  NaN  NaN  "
      ]
     },
     "execution_count": 24,
     "metadata": {},
     "output_type": "execute_result"
    }
   ],
   "source": [
    "#drop these rows as they dont have much information\n",
    "testing_df[testing_df['Area'].isnull()]"
   ]
  },
  {
   "cell_type": "code",
   "execution_count": 25,
   "metadata": {},
   "outputs": [],
   "source": [
    "drop_rows =testing_df[testing_df['Area'].isnull()]\n",
    "testing_df.drop(drop_rows.index,axis=0,inplace=True)"
   ]
  },
  {
   "cell_type": "code",
   "execution_count": 26,
   "metadata": {},
   "outputs": [
    {
     "data": {
      "text/html": [
       "<div>\n",
       "<style scoped>\n",
       "    .dataframe tbody tr th:only-of-type {\n",
       "        vertical-align: middle;\n",
       "    }\n",
       "\n",
       "    .dataframe tbody tr th {\n",
       "        vertical-align: top;\n",
       "    }\n",
       "\n",
       "    .dataframe thead th {\n",
       "        text-align: right;\n",
       "    }\n",
       "</style>\n",
       "<table border=\"1\" class=\"dataframe\">\n",
       "  <thead>\n",
       "    <tr style=\"text-align: right;\">\n",
       "      <th></th>\n",
       "      <th>Rating</th>\n",
       "      <th>Profile</th>\n",
       "      <th>Fees</th>\n",
       "      <th>Qualification_1</th>\n",
       "      <th>Qualification_2</th>\n",
       "      <th>Experience(in Years)</th>\n",
       "      <th>Reviews</th>\n",
       "      <th>Area</th>\n",
       "      <th>City</th>\n",
       "    </tr>\n",
       "  </thead>\n",
       "  <tbody>\n",
       "    <tr>\n",
       "      <th>3980</th>\n",
       "      <td>NaN</td>\n",
       "      <td>Dentist</td>\n",
       "      <td>250</td>\n",
       "      <td>BDS</td>\n",
       "      <td>NaN</td>\n",
       "      <td>23</td>\n",
       "      <td>NaN</td>\n",
       "      <td>e</td>\n",
       "      <td>None</td>\n",
       "    </tr>\n",
       "  </tbody>\n",
       "</table>\n",
       "</div>"
      ],
      "text/plain": [
       "     Rating  Profile  Fees Qualification_1 Qualification_2  \\\n",
       "3980    NaN  Dentist   250             BDS             NaN   \n",
       "\n",
       "     Experience(in Years) Reviews Area  City  \n",
       "3980                   23     NaN    e  None  "
      ]
     },
     "execution_count": 26,
     "metadata": {},
     "output_type": "execute_result"
    }
   ],
   "source": [
    "training_df[training_df['City'].isnull()]"
   ]
  },
  {
   "cell_type": "code",
   "execution_count": 27,
   "metadata": {},
   "outputs": [],
   "source": [
    "training_df['Area'][3980] = 'Electronic City'\n",
    "training_df['City'][3980] = ' Bangalore'"
   ]
  },
  {
   "cell_type": "code",
   "execution_count": 28,
   "metadata": {},
   "outputs": [],
   "source": [
    "training_df['Reviews'].replace(np.NaN,0,inplace=True)\n",
    "training_df['Rating'].replace(np.NaN,0,inplace=True)\n",
    "training_df['Reviews'].replace('',0,inplace=True)\n",
    "\n",
    "testing_df['Reviews'].replace(np.NaN,0,inplace=True)\n",
    "testing_df['Rating'].replace(np.NaN,0,inplace=True)"
   ]
  },
  {
   "cell_type": "code",
   "execution_count": 29,
   "metadata": {},
   "outputs": [],
   "source": [
    "training_df['Qualification_2'].replace(np.NaN,'None',inplace=True)\n",
    "testing_df['Qualification_2'].replace(np.NaN,'None',inplace=True)\n"
   ]
  },
  {
   "cell_type": "code",
   "execution_count": 30,
   "metadata": {},
   "outputs": [
    {
     "data": {
      "text/html": [
       "<div>\n",
       "<style scoped>\n",
       "    .dataframe tbody tr th:only-of-type {\n",
       "        vertical-align: middle;\n",
       "    }\n",
       "\n",
       "    .dataframe tbody tr th {\n",
       "        vertical-align: top;\n",
       "    }\n",
       "\n",
       "    .dataframe thead th {\n",
       "        text-align: right;\n",
       "    }\n",
       "</style>\n",
       "<table border=\"1\" class=\"dataframe\">\n",
       "  <thead>\n",
       "    <tr style=\"text-align: right;\">\n",
       "      <th></th>\n",
       "      <th>Rating</th>\n",
       "      <th>Profile</th>\n",
       "      <th>Fees</th>\n",
       "      <th>Qualification_1</th>\n",
       "      <th>Qualification_2</th>\n",
       "      <th>Experience(in Years)</th>\n",
       "      <th>Reviews</th>\n",
       "      <th>Area</th>\n",
       "      <th>City</th>\n",
       "    </tr>\n",
       "  </thead>\n",
       "  <tbody>\n",
       "    <tr>\n",
       "      <th>0</th>\n",
       "      <td>100</td>\n",
       "      <td>Homeopath</td>\n",
       "      <td>100</td>\n",
       "      <td>BHMS</td>\n",
       "      <td>MD - Homeopathy</td>\n",
       "      <td>24</td>\n",
       "      <td>0</td>\n",
       "      <td>Kakkanad</td>\n",
       "      <td>Ernakulam</td>\n",
       "    </tr>\n",
       "    <tr>\n",
       "      <th>1</th>\n",
       "      <td>98</td>\n",
       "      <td>Ayurveda</td>\n",
       "      <td>350</td>\n",
       "      <td>BAMS</td>\n",
       "      <td>MD - Ayurveda Medicine</td>\n",
       "      <td>12</td>\n",
       "      <td>0</td>\n",
       "      <td>Whitefield</td>\n",
       "      <td>Bangalore</td>\n",
       "    </tr>\n",
       "    <tr>\n",
       "      <th>2</th>\n",
       "      <td>0</td>\n",
       "      <td>ENT Specialist</td>\n",
       "      <td>300</td>\n",
       "      <td>MBBS</td>\n",
       "      <td>MS - Otorhinolaryngology</td>\n",
       "      <td>9</td>\n",
       "      <td>4</td>\n",
       "      <td>Mathikere - BEL</td>\n",
       "      <td>Bangalore</td>\n",
       "    </tr>\n",
       "    <tr>\n",
       "      <th>3</th>\n",
       "      <td>0</td>\n",
       "      <td>Ayurveda</td>\n",
       "      <td>250</td>\n",
       "      <td>BSc - Zoology</td>\n",
       "      <td>BAMS</td>\n",
       "      <td>12</td>\n",
       "      <td>0</td>\n",
       "      <td>Bannerghatta Road</td>\n",
       "      <td>Bangalore</td>\n",
       "    </tr>\n",
       "    <tr>\n",
       "      <th>4</th>\n",
       "      <td>100</td>\n",
       "      <td>Ayurveda</td>\n",
       "      <td>250</td>\n",
       "      <td>BAMS</td>\n",
       "      <td>None</td>\n",
       "      <td>20</td>\n",
       "      <td>0</td>\n",
       "      <td>Keelkattalai</td>\n",
       "      <td>Chennai</td>\n",
       "    </tr>\n",
       "    <tr>\n",
       "      <th>...</th>\n",
       "      <td>...</td>\n",
       "      <td>...</td>\n",
       "      <td>...</td>\n",
       "      <td>...</td>\n",
       "      <td>...</td>\n",
       "      <td>...</td>\n",
       "      <td>...</td>\n",
       "      <td>...</td>\n",
       "      <td>...</td>\n",
       "    </tr>\n",
       "    <tr>\n",
       "      <th>5956</th>\n",
       "      <td>98</td>\n",
       "      <td>ENT Specialist</td>\n",
       "      <td>300</td>\n",
       "      <td>MBBS</td>\n",
       "      <td>MS - ENT</td>\n",
       "      <td>19</td>\n",
       "      <td>0</td>\n",
       "      <td>Basavanagudi</td>\n",
       "      <td>Bangalore</td>\n",
       "    </tr>\n",
       "    <tr>\n",
       "      <th>5957</th>\n",
       "      <td>0</td>\n",
       "      <td>General Medicine</td>\n",
       "      <td>100</td>\n",
       "      <td>MBBS</td>\n",
       "      <td>None</td>\n",
       "      <td>33</td>\n",
       "      <td>0</td>\n",
       "      <td>Nungambakkam</td>\n",
       "      <td>Chennai</td>\n",
       "    </tr>\n",
       "    <tr>\n",
       "      <th>5958</th>\n",
       "      <td>97</td>\n",
       "      <td>General Medicine</td>\n",
       "      <td>600</td>\n",
       "      <td>MBBS</td>\n",
       "      <td>None</td>\n",
       "      <td>41</td>\n",
       "      <td>0</td>\n",
       "      <td>Greater Kailash Part 2</td>\n",
       "      <td>Delhi</td>\n",
       "    </tr>\n",
       "    <tr>\n",
       "      <th>5959</th>\n",
       "      <td>90</td>\n",
       "      <td>General Medicine</td>\n",
       "      <td>100</td>\n",
       "      <td>MBBS</td>\n",
       "      <td>MD - General Medicine</td>\n",
       "      <td>15</td>\n",
       "      <td>0</td>\n",
       "      <td>Vileparle West</td>\n",
       "      <td>Mumbai</td>\n",
       "    </tr>\n",
       "    <tr>\n",
       "      <th>5960</th>\n",
       "      <td>100</td>\n",
       "      <td>Dentist</td>\n",
       "      <td>200</td>\n",
       "      <td>BDS</td>\n",
       "      <td>MDS - Orthodontics</td>\n",
       "      <td>17</td>\n",
       "      <td>0</td>\n",
       "      <td>Pitampura</td>\n",
       "      <td>Delhi</td>\n",
       "    </tr>\n",
       "  </tbody>\n",
       "</table>\n",
       "<p>5936 rows × 9 columns</p>\n",
       "</div>"
      ],
      "text/plain": [
       "     Rating           Profile  Fees Qualification_1  \\\n",
       "0       100         Homeopath   100            BHMS   \n",
       "1        98          Ayurveda   350            BAMS   \n",
       "2         0    ENT Specialist   300            MBBS   \n",
       "3         0          Ayurveda   250   BSc - Zoology   \n",
       "4       100          Ayurveda   250            BAMS   \n",
       "...     ...               ...   ...             ...   \n",
       "5956     98    ENT Specialist   300            MBBS   \n",
       "5957      0  General Medicine   100            MBBS   \n",
       "5958     97  General Medicine   600            MBBS   \n",
       "5959     90  General Medicine   100            MBBS   \n",
       "5960    100           Dentist   200             BDS   \n",
       "\n",
       "                Qualification_2 Experience(in Years) Reviews  \\\n",
       "0               MD - Homeopathy                   24       0   \n",
       "1        MD - Ayurveda Medicine                   12       0   \n",
       "2      MS - Otorhinolaryngology                    9       4   \n",
       "3                          BAMS                   12       0   \n",
       "4                          None                   20       0   \n",
       "...                         ...                  ...     ...   \n",
       "5956                   MS - ENT                   19       0   \n",
       "5957                       None                   33       0   \n",
       "5958                       None                   41       0   \n",
       "5959      MD - General Medicine                   15       0   \n",
       "5960         MDS - Orthodontics                   17       0   \n",
       "\n",
       "                        Area        City  \n",
       "0                   Kakkanad   Ernakulam  \n",
       "1                 Whitefield   Bangalore  \n",
       "2            Mathikere - BEL   Bangalore  \n",
       "3          Bannerghatta Road   Bangalore  \n",
       "4               Keelkattalai     Chennai  \n",
       "...                      ...         ...  \n",
       "5956            Basavanagudi   Bangalore  \n",
       "5957            Nungambakkam     Chennai  \n",
       "5958  Greater Kailash Part 2       Delhi  \n",
       "5959          Vileparle West      Mumbai  \n",
       "5960               Pitampura       Delhi  \n",
       "\n",
       "[5936 rows x 9 columns]"
      ]
     },
     "execution_count": 30,
     "metadata": {},
     "output_type": "execute_result"
    }
   ],
   "source": [
    "training_df"
   ]
  },
  {
   "cell_type": "code",
   "execution_count": 31,
   "metadata": {},
   "outputs": [
    {
     "data": {
      "text/plain": [
       "Text(0.5, 1.0, 'Experince of Doctors')"
      ]
     },
     "execution_count": 31,
     "metadata": {},
     "output_type": "execute_result"
    },
    {
     "data": {
      "image/png": "[encoded data removed]",
      "text/plain": [
       "<Figure size 432x288 with 1 Axes>"
      ]
     },
     "metadata": {
      "needs_background": "light"
     },
     "output_type": "display_data"
    }
   ],
   "source": [
    "sns.distplot(training_df['Experience(in Years)'],bins=10,color='Brown')\n",
    "plt.title(\"Experince of Doctors\")"
   ]
  },
  {
   "cell_type": "markdown",
   "metadata": {},
   "source": [
    "     Most of the doctors are experienced between 10-40 years."
   ]
  },
  {
   "cell_type": "code",
   "execution_count": 32,
   "metadata": {},
   "outputs": [],
   "source": [
    "from sklearn.preprocessing import LabelEncoder\n",
    "\n",
    "le = LabelEncoder()\n",
    "cols = ['Qualification_1','Qualification_2','Profile','Area','City']\n",
    "\n",
    "for each in range(len(cols)):\n",
    "    training_df[cols[each]] = le.fit_transform(training_df[cols[each]])\n",
    "    testing_df[cols[each]] = le.fit_transform(testing_df[cols[each]])"
   ]
  },
  {
   "cell_type": "code",
   "execution_count": 33,
   "metadata": {},
   "outputs": [],
   "source": [
    "training_df['Qualification__1'] = training_df['Qualification_1'].astype(str).astype(int)\n",
    "training_df['Qualification__2'] = training_df['Qualification_2'].astype(str).astype(int)\n",
    "training_df['Experience'] = training_df['Experience(in Years)'].astype(str).astype(int)\n",
    "training_df['Ratings'] = training_df['Rating'].astype(str).astype(int)\n",
    "training_df['Review'] = training_df['Reviews'].astype(str).astype(int)\n",
    "training_df['Profiles'] = training_df['Profile'].astype(str).astype(int)\n",
    "training_df['Town'] = training_df['Area'].astype(str).astype(int)\n",
    "training_df['city'] = training_df['City'].astype(str).astype(int)\n",
    "\n",
    "\n",
    "testing_df['Qualification__1'] = testing_df['Qualification_1'].astype(str).astype(int)\n",
    "testing_df['Qualification__2'] = testing_df['Qualification_2'].astype(str).astype(int)\n",
    "testing_df['Experience'] = testing_df['Experience(in Years)'].astype(str).astype(int)\n",
    "testing_df['Ratings'] = testing_df['Rating'].astype(str).astype(int)\n",
    "testing_df['Review'] = testing_df['Reviews'].astype(str).astype(int)\n",
    "testing_df['Profiles'] = testing_df['Profile'].astype(str).astype(int)\n",
    "testing_df['Town'] = testing_df['Area'].astype(str).astype(int)\n",
    "testing_df['city'] = testing_df['City'].astype(str).astype(int)\n",
    "\n"
   ]
  },
  {
   "cell_type": "code",
   "execution_count": 34,
   "metadata": {},
   "outputs": [],
   "source": [
    "training_df.drop('Qualification_1',axis=1,inplace=True)\n",
    "training_df.drop('Qualification_2',axis=1,inplace=True)\n",
    "training_df.drop('Experience(in Years)',axis=1,inplace=True)\n",
    "training_df.drop('Rating',axis=1,inplace=True)\n",
    "training_df.drop('Reviews',axis=1,inplace=True)\n",
    "training_df.drop('Area',axis=1,inplace=True)\n",
    "training_df.drop('City',axis=1,inplace=True)\n",
    "training_df.drop('Profile',axis=1,inplace=True)\n",
    "\n",
    "\n",
    "testing_df.drop('Qualification_1',axis=1,inplace=True)\n",
    "testing_df.drop('Qualification_2',axis=1,inplace=True)\n",
    "testing_df.drop('Experience(in Years)',axis=1,inplace=True)\n",
    "testing_df.drop('Rating',axis=1,inplace=True)\n",
    "testing_df.drop('Reviews',axis=1,inplace=True)\n",
    "testing_df.drop('Area',axis=1,inplace=True)\n",
    "testing_df.drop('City',axis=1,inplace=True)\n",
    "testing_df.drop('Profile',axis=1,inplace=True)\n",
    "\n",
    "\n"
   ]
  },
  {
   "cell_type": "code",
   "execution_count": 35,
   "metadata": {},
   "outputs": [
    {
     "data": {
      "text/html": [
       "<div>\n",
       "<style scoped>\n",
       "    .dataframe tbody tr th:only-of-type {\n",
       "        vertical-align: middle;\n",
       "    }\n",
       "\n",
       "    .dataframe tbody tr th {\n",
       "        vertical-align: top;\n",
       "    }\n",
       "\n",
       "    .dataframe thead th {\n",
       "        text-align: right;\n",
       "    }\n",
       "</style>\n",
       "<table border=\"1\" class=\"dataframe\">\n",
       "  <thead>\n",
       "    <tr style=\"text-align: right;\">\n",
       "      <th></th>\n",
       "      <th>Fees</th>\n",
       "      <th>Qualification__1</th>\n",
       "      <th>Qualification__2</th>\n",
       "      <th>Experience</th>\n",
       "      <th>Ratings</th>\n",
       "      <th>Review</th>\n",
       "      <th>Profiles</th>\n",
       "      <th>Town</th>\n",
       "      <th>city</th>\n",
       "    </tr>\n",
       "  </thead>\n",
       "  <tbody>\n",
       "    <tr>\n",
       "      <th>0</th>\n",
       "      <td>100</td>\n",
       "      <td>8</td>\n",
       "      <td>252</td>\n",
       "      <td>24</td>\n",
       "      <td>100</td>\n",
       "      <td>0</td>\n",
       "      <td>5</td>\n",
       "      <td>297</td>\n",
       "      <td>4</td>\n",
       "    </tr>\n",
       "    <tr>\n",
       "      <th>1</th>\n",
       "      <td>350</td>\n",
       "      <td>5</td>\n",
       "      <td>241</td>\n",
       "      <td>12</td>\n",
       "      <td>98</td>\n",
       "      <td>0</td>\n",
       "      <td>0</td>\n",
       "      <td>856</td>\n",
       "      <td>0</td>\n",
       "    </tr>\n",
       "    <tr>\n",
       "      <th>3</th>\n",
       "      <td>250</td>\n",
       "      <td>12</td>\n",
       "      <td>7</td>\n",
       "      <td>12</td>\n",
       "      <td>0</td>\n",
       "      <td>0</td>\n",
       "      <td>0</td>\n",
       "      <td>68</td>\n",
       "      <td>0</td>\n",
       "    </tr>\n",
       "    <tr>\n",
       "      <th>4</th>\n",
       "      <td>250</td>\n",
       "      <td>5</td>\n",
       "      <td>425</td>\n",
       "      <td>20</td>\n",
       "      <td>100</td>\n",
       "      <td>0</td>\n",
       "      <td>0</td>\n",
       "      <td>336</td>\n",
       "      <td>1</td>\n",
       "    </tr>\n",
       "    <tr>\n",
       "      <th>5</th>\n",
       "      <td>100</td>\n",
       "      <td>5</td>\n",
       "      <td>425</td>\n",
       "      <td>8</td>\n",
       "      <td>0</td>\n",
       "      <td>0</td>\n",
       "      <td>0</td>\n",
       "      <td>605</td>\n",
       "      <td>1</td>\n",
       "    </tr>\n",
       "    <tr>\n",
       "      <th>...</th>\n",
       "      <td>...</td>\n",
       "      <td>...</td>\n",
       "      <td>...</td>\n",
       "      <td>...</td>\n",
       "      <td>...</td>\n",
       "      <td>...</td>\n",
       "      <td>...</td>\n",
       "      <td>...</td>\n",
       "      <td>...</td>\n",
       "    </tr>\n",
       "    <tr>\n",
       "      <th>5956</th>\n",
       "      <td>300</td>\n",
       "      <td>78</td>\n",
       "      <td>328</td>\n",
       "      <td>19</td>\n",
       "      <td>98</td>\n",
       "      <td>0</td>\n",
       "      <td>3</td>\n",
       "      <td>70</td>\n",
       "      <td>0</td>\n",
       "    </tr>\n",
       "    <tr>\n",
       "      <th>5957</th>\n",
       "      <td>100</td>\n",
       "      <td>78</td>\n",
       "      <td>425</td>\n",
       "      <td>33</td>\n",
       "      <td>0</td>\n",
       "      <td>0</td>\n",
       "      <td>4</td>\n",
       "      <td>536</td>\n",
       "      <td>1</td>\n",
       "    </tr>\n",
       "    <tr>\n",
       "      <th>5958</th>\n",
       "      <td>600</td>\n",
       "      <td>78</td>\n",
       "      <td>425</td>\n",
       "      <td>41</td>\n",
       "      <td>97</td>\n",
       "      <td>0</td>\n",
       "      <td>4</td>\n",
       "      <td>216</td>\n",
       "      <td>3</td>\n",
       "    </tr>\n",
       "    <tr>\n",
       "      <th>5959</th>\n",
       "      <td>100</td>\n",
       "      <td>78</td>\n",
       "      <td>249</td>\n",
       "      <td>15</td>\n",
       "      <td>90</td>\n",
       "      <td>0</td>\n",
       "      <td>4</td>\n",
       "      <td>841</td>\n",
       "      <td>6</td>\n",
       "    </tr>\n",
       "    <tr>\n",
       "      <th>5960</th>\n",
       "      <td>200</td>\n",
       "      <td>6</td>\n",
       "      <td>292</td>\n",
       "      <td>17</td>\n",
       "      <td>100</td>\n",
       "      <td>0</td>\n",
       "      <td>1</td>\n",
       "      <td>598</td>\n",
       "      <td>3</td>\n",
       "    </tr>\n",
       "  </tbody>\n",
       "</table>\n",
       "<p>5387 rows × 9 columns</p>\n",
       "</div>"
      ],
      "text/plain": [
       "      Fees  Qualification__1  Qualification__2  Experience  Ratings  Review  \\\n",
       "0      100                 8               252          24      100       0   \n",
       "1      350                 5               241          12       98       0   \n",
       "3      250                12                 7          12        0       0   \n",
       "4      250                 5               425          20      100       0   \n",
       "5      100                 5               425           8        0       0   \n",
       "...    ...               ...               ...         ...      ...     ...   \n",
       "5956   300                78               328          19       98       0   \n",
       "5957   100                78               425          33        0       0   \n",
       "5958   600                78               425          41       97       0   \n",
       "5959   100                78               249          15       90       0   \n",
       "5960   200                 6               292          17      100       0   \n",
       "\n",
       "      Profiles  Town  city  \n",
       "0            5   297     4  \n",
       "1            0   856     0  \n",
       "3            0    68     0  \n",
       "4            0   336     1  \n",
       "5            0   605     1  \n",
       "...        ...   ...   ...  \n",
       "5956         3    70     0  \n",
       "5957         4   536     1  \n",
       "5958         4   216     3  \n",
       "5959         4   841     6  \n",
       "5960         1   598     3  \n",
       "\n",
       "[5387 rows x 9 columns]"
      ]
     },
     "execution_count": 35,
     "metadata": {},
     "output_type": "execute_result"
    }
   ],
   "source": [
    "training_df[training_df['Review'] == 0]\n",
    "#we can drop review column as more than 90% of the rows are 0."
   ]
  },
  {
   "cell_type": "code",
   "execution_count": 36,
   "metadata": {},
   "outputs": [],
   "source": [
    "training_df.drop('Review',axis=1,inplace=True)"
   ]
  },
  {
   "cell_type": "code",
   "execution_count": 37,
   "metadata": {},
   "outputs": [
    {
     "data": {
      "text/html": [
       "<div>\n",
       "<style scoped>\n",
       "    .dataframe tbody tr th:only-of-type {\n",
       "        vertical-align: middle;\n",
       "    }\n",
       "\n",
       "    .dataframe tbody tr th {\n",
       "        vertical-align: top;\n",
       "    }\n",
       "\n",
       "    .dataframe thead th {\n",
       "        text-align: right;\n",
       "    }\n",
       "</style>\n",
       "<table border=\"1\" class=\"dataframe\">\n",
       "  <thead>\n",
       "    <tr style=\"text-align: right;\">\n",
       "      <th></th>\n",
       "      <th>Qualification__1</th>\n",
       "      <th>Qualification__2</th>\n",
       "      <th>Experience</th>\n",
       "      <th>Ratings</th>\n",
       "      <th>Review</th>\n",
       "      <th>Profiles</th>\n",
       "      <th>Town</th>\n",
       "      <th>city</th>\n",
       "    </tr>\n",
       "  </thead>\n",
       "  <tbody>\n",
       "    <tr>\n",
       "      <th>0</th>\n",
       "      <td>47</td>\n",
       "      <td>243</td>\n",
       "      <td>35</td>\n",
       "      <td>0</td>\n",
       "      <td>0</td>\n",
       "      <td>4</td>\n",
       "      <td>142</td>\n",
       "      <td>6</td>\n",
       "    </tr>\n",
       "    <tr>\n",
       "      <th>1</th>\n",
       "      <td>47</td>\n",
       "      <td>79</td>\n",
       "      <td>31</td>\n",
       "      <td>0</td>\n",
       "      <td>0</td>\n",
       "      <td>3</td>\n",
       "      <td>577</td>\n",
       "      <td>5</td>\n",
       "    </tr>\n",
       "    <tr>\n",
       "      <th>3</th>\n",
       "      <td>1</td>\n",
       "      <td>243</td>\n",
       "      <td>0</td>\n",
       "      <td>0</td>\n",
       "      <td>0</td>\n",
       "      <td>0</td>\n",
       "      <td>373</td>\n",
       "      <td>3</td>\n",
       "    </tr>\n",
       "    <tr>\n",
       "      <th>4</th>\n",
       "      <td>2</td>\n",
       "      <td>157</td>\n",
       "      <td>16</td>\n",
       "      <td>100</td>\n",
       "      <td>0</td>\n",
       "      <td>1</td>\n",
       "      <td>231</td>\n",
       "      <td>0</td>\n",
       "    </tr>\n",
       "    <tr>\n",
       "      <th>5</th>\n",
       "      <td>2</td>\n",
       "      <td>156</td>\n",
       "      <td>14</td>\n",
       "      <td>90</td>\n",
       "      <td>0</td>\n",
       "      <td>1</td>\n",
       "      <td>552</td>\n",
       "      <td>1</td>\n",
       "    </tr>\n",
       "    <tr>\n",
       "      <th>...</th>\n",
       "      <td>...</td>\n",
       "      <td>...</td>\n",
       "      <td>...</td>\n",
       "      <td>...</td>\n",
       "      <td>...</td>\n",
       "      <td>...</td>\n",
       "      <td>...</td>\n",
       "      <td>...</td>\n",
       "    </tr>\n",
       "    <tr>\n",
       "      <th>1982</th>\n",
       "      <td>1</td>\n",
       "      <td>86</td>\n",
       "      <td>10</td>\n",
       "      <td>0</td>\n",
       "      <td>0</td>\n",
       "      <td>0</td>\n",
       "      <td>58</td>\n",
       "      <td>0</td>\n",
       "    </tr>\n",
       "    <tr>\n",
       "      <th>1983</th>\n",
       "      <td>51</td>\n",
       "      <td>241</td>\n",
       "      <td>4</td>\n",
       "      <td>0</td>\n",
       "      <td>0</td>\n",
       "      <td>2</td>\n",
       "      <td>96</td>\n",
       "      <td>1</td>\n",
       "    </tr>\n",
       "    <tr>\n",
       "      <th>1984</th>\n",
       "      <td>47</td>\n",
       "      <td>153</td>\n",
       "      <td>9</td>\n",
       "      <td>0</td>\n",
       "      <td>0</td>\n",
       "      <td>4</td>\n",
       "      <td>423</td>\n",
       "      <td>1</td>\n",
       "    </tr>\n",
       "    <tr>\n",
       "      <th>1985</th>\n",
       "      <td>2</td>\n",
       "      <td>243</td>\n",
       "      <td>12</td>\n",
       "      <td>98</td>\n",
       "      <td>0</td>\n",
       "      <td>1</td>\n",
       "      <td>26</td>\n",
       "      <td>0</td>\n",
       "    </tr>\n",
       "    <tr>\n",
       "      <th>1986</th>\n",
       "      <td>47</td>\n",
       "      <td>133</td>\n",
       "      <td>8</td>\n",
       "      <td>0</td>\n",
       "      <td>0</td>\n",
       "      <td>2</td>\n",
       "      <td>393</td>\n",
       "      <td>1</td>\n",
       "    </tr>\n",
       "  </tbody>\n",
       "</table>\n",
       "<p>1430 rows × 8 columns</p>\n",
       "</div>"
      ],
      "text/plain": [
       "      Qualification__1  Qualification__2  Experience  Ratings  Review  \\\n",
       "0                   47               243          35        0       0   \n",
       "1                   47                79          31        0       0   \n",
       "3                    1               243           0        0       0   \n",
       "4                    2               157          16      100       0   \n",
       "5                    2               156          14       90       0   \n",
       "...                ...               ...         ...      ...     ...   \n",
       "1982                 1                86          10        0       0   \n",
       "1983                51               241           4        0       0   \n",
       "1984                47               153           9        0       0   \n",
       "1985                 2               243          12       98       0   \n",
       "1986                47               133           8        0       0   \n",
       "\n",
       "      Profiles  Town  city  \n",
       "0            4   142     6  \n",
       "1            3   577     5  \n",
       "3            0   373     3  \n",
       "4            1   231     0  \n",
       "5            1   552     1  \n",
       "...        ...   ...   ...  \n",
       "1982         0    58     0  \n",
       "1983         2    96     1  \n",
       "1984         4   423     1  \n",
       "1985         1    26     0  \n",
       "1986         2   393     1  \n",
       "\n",
       "[1430 rows x 8 columns]"
      ]
     },
     "execution_count": 37,
     "metadata": {},
     "output_type": "execute_result"
    }
   ],
   "source": [
    "testing_df[testing_df['Review'] == 0]"
   ]
  },
  {
   "cell_type": "code",
   "execution_count": 38,
   "metadata": {},
   "outputs": [],
   "source": [
    "testing_df.drop('Review',axis=1,inplace=True)"
   ]
  },
  {
   "cell_type": "code",
   "execution_count": 39,
   "metadata": {},
   "outputs": [],
   "source": [
    "#Arrange the columns as desired :\n",
    "training_df = training_df[[c for c in training_df if c not in ['Qualification__1','Qualification__2','Profiles','Experience','Town','city','Ratings','Fees']] + ['Qualification__1','Qualification__2','Profiles','Experience','Town','city','Ratings','Fees']]\n",
    "testing_df = testing_df[[c for c in testing_df if c not in ['Qualification__1','Qualification__2','Profiles','Experience','Town','city','Ratings']] + ['Qualification__1','Qualification__2','Profiles','Experience','Town','city','Ratings']]"
   ]
  },
  {
   "cell_type": "code",
   "execution_count": 40,
   "metadata": {},
   "outputs": [
    {
     "data": {
      "text/plain": [
       "<matplotlib.axes._subplots.AxesSubplot at 0x20429fecdc8>"
      ]
     },
     "execution_count": 40,
     "metadata": {},
     "output_type": "execute_result"
    },
    {
     "data": {
      "image/png": "[encoded data removed]",
      "text/plain": [
       "<Figure size 1224x576 with 2 Axes>"
      ]
     },
     "metadata": {
      "needs_background": "light"
     },
     "output_type": "display_data"
    }
   ],
   "source": [
    "#Correlation : \n",
    "plt.figure(figsize=(17,8))\n",
    "sns.heatmap(training_df.corr(),annot=True,cmap='BuPu')"
   ]
  },
  {
   "cell_type": "code",
   "execution_count": 41,
   "metadata": {},
   "outputs": [
    {
     "data": {
      "image/png": "[encoded data removed]",
      "text/plain": [
       "<Figure size 1440x2160 with 8 Axes>"
      ]
     },
     "metadata": {
      "needs_background": "light"
     },
     "output_type": "display_data"
    }
   ],
   "source": [
    "#Check for skewness\n",
    "col = training_df.columns.values\n",
    "plt.figure(figsize=(20,30))\n",
    "for i in range(0,len(col)):\n",
    "    plt.subplot(9,5,i+1)\n",
    "    sns.distplot(training_df[col[i]],color='tomato')\n",
    "plt.show()"
   ]
  },
  {
   "cell_type": "code",
   "execution_count": 42,
   "metadata": {},
   "outputs": [
    {
     "data": {
      "image/png": "[encoded data removed]",
      "text/plain": [
       "<Figure size 720x1440 with 8 Axes>"
      ]
     },
     "metadata": {
      "needs_background": "light"
     },
     "output_type": "display_data"
    }
   ],
   "source": [
    "#Check for outliers :\n",
    "plt.figure(figsize=(10,20))\n",
    "for i in range(0,len(col)):\n",
    "    plt.subplot(10,5,i+1)\n",
    "    sns.boxplot(training_df[col[i]],palette='rocket',orient='v')\n",
    "    plt.tight_layout()"
   ]
  },
  {
   "cell_type": "code",
   "execution_count": 43,
   "metadata": {},
   "outputs": [
    {
     "name": "stdout",
     "output_type": "stream",
     "text": [
      "(array([ 104,  109,  182,  274,  292,  324,  371,  896,  982, 1003, 1104,\n",
      "       1306, 1623, 1852, 1973, 2015, 2054, 2156, 2192, 2242, 2252, 2271,\n",
      "       2382, 2417, 2511, 2612, 2620, 2697, 3168, 3352, 3463, 3478, 3593,\n",
      "       3925, 3943, 4022, 4149, 4194, 4239, 4326, 4563, 4712, 4744, 4756,\n",
      "       4815, 5172, 5227, 5242, 5254, 5288, 5387, 5399, 5563, 5613, 5640,\n",
      "       5696, 5782, 5917], dtype=int64), array([3, 3, 3, 7, 7, 3, 3, 3, 7, 3, 3, 7, 7, 3, 3, 3, 3, 7, 3, 7, 3, 3,\n",
      "       7, 7, 7, 7, 3, 7, 3, 7, 3, 3, 3, 3, 3, 7, 3, 3, 3, 3, 7, 7, 3, 3,\n",
      "       7, 7, 7, 3, 3, 7, 3, 3, 3, 3, 3, 3, 3, 3], dtype=int64))\n"
     ]
    }
   ],
   "source": [
    "#Use z-score to remove outliers :\n",
    "from scipy.stats import zscore\n",
    "#data.info()\n",
    "z=np.abs(zscore(training_df))\n",
    "print(np.where(z>3))"
   ]
  },
  {
   "cell_type": "code",
   "execution_count": 44,
   "metadata": {},
   "outputs": [],
   "source": [
    "#new df with no outliers.\n",
    "training_df_new = training_df[(z<3).all(axis=1)]"
   ]
  },
  {
   "cell_type": "code",
   "execution_count": 45,
   "metadata": {},
   "outputs": [],
   "source": [
    "from sklearn.model_selection import train_test_split\n",
    "\n",
    "#Features where Class is the target variable\n",
    "X = training_df.drop('Fees',axis=1)\n",
    "y = training_df.iloc[:,-1:]"
   ]
  },
  {
   "cell_type": "code",
   "execution_count": 46,
   "metadata": {},
   "outputs": [
    {
     "data": {
      "text/plain": [
       "Qualification__1    0.079635\n",
       "Qualification__2   -0.612021\n",
       "Profiles            0.105341\n",
       "Experience          1.000280\n",
       "Town                0.111797\n",
       "city                0.046292\n",
       "Ratings             0.239630\n",
       "dtype: float64"
      ]
     },
     "execution_count": 46,
     "metadata": {},
     "output_type": "execute_result"
    }
   ],
   "source": [
    "X.skew()"
   ]
  },
  {
   "cell_type": "code",
   "execution_count": 47,
   "metadata": {},
   "outputs": [],
   "source": [
    "#To remove skewness :\n",
    "from sklearn.preprocessing import PowerTransformer\n",
    "\n",
    "pt = PowerTransformer('yeo-johnson')\n",
    "X = pd.DataFrame(pt.fit_transform(X))"
   ]
  },
  {
   "cell_type": "code",
   "execution_count": 48,
   "metadata": {},
   "outputs": [
    {
     "name": "stdout",
     "output_type": "stream",
     "text": [
      "<class 'pandas.core.frame.DataFrame'>\n",
      "RangeIndex: 5936 entries, 0 to 5935\n",
      "Data columns (total 7 columns):\n",
      " #   Column  Non-Null Count  Dtype  \n",
      "---  ------  --------------  -----  \n",
      " 0   0       5936 non-null   float64\n",
      " 1   1       5936 non-null   float64\n",
      " 2   2       5936 non-null   float64\n",
      " 3   3       5936 non-null   float64\n",
      " 4   4       5936 non-null   float64\n",
      " 5   5       5936 non-null   float64\n",
      " 6   6       5936 non-null   float64\n",
      "dtypes: float64(7)\n",
      "memory usage: 324.8 KB\n"
     ]
    }
   ],
   "source": [
    "X.info()"
   ]
  },
  {
   "cell_type": "code",
   "execution_count": 49,
   "metadata": {},
   "outputs": [],
   "source": [
    "#Scaling of Data - Feature Selection\n",
    "from sklearn.preprocessing import StandardScaler\n",
    "\n",
    "scaler = StandardScaler()\n",
    "X = pd.DataFrame(scaler.fit_transform(X))"
   ]
  },
  {
   "cell_type": "markdown",
   "metadata": {},
   "source": [
    "# Model Prediction and Evaluation"
   ]
  },
  {
   "cell_type": "code",
   "execution_count": 50,
   "metadata": {},
   "outputs": [],
   "source": [
    "from sklearn.metrics import r2_score,mean_absolute_error, mean_squared_error\n",
    "\n",
    "from sklearn.linear_model import LinearRegression as LR\n",
    "from sklearn.tree import DecisionTreeRegressor as DTR\n",
    "from sklearn.svm import SVR\n",
    "from sklearn.neighbors import KNeighborsRegressor as KNR\n",
    "from sklearn.linear_model import Lasso,Ridge,ElasticNet"
   ]
  },
  {
   "cell_type": "code",
   "execution_count": 51,
   "metadata": {},
   "outputs": [
    {
     "name": "stdout",
     "output_type": "stream",
     "text": [
      "*************************************************************************************\n",
      "LinearRegression()\n",
      "R2 Score :  0.08154859025802152\n",
      "Mean Absolute Error :  145.63855443046484\n",
      "Mean Squared Error :  32295.786832435682\n",
      "Root Mean Squared Error :  179.71028582815086\n",
      "\n",
      "*************************************************************************************\n",
      "*************************************************************************************\n",
      "DecisionTreeRegressor()\n",
      "R2 Score :  -0.56089557263221\n",
      "Mean Absolute Error :  168.62233445566778\n",
      "Mean Squared Error :  54886.24672652451\n",
      "Root Mean Squared Error :  234.27813966848146\n",
      "\n",
      "*************************************************************************************\n",
      "*************************************************************************************\n",
      "KNeighborsRegressor()\n",
      "R2 Score :  0.0076117655592988775\n",
      "Mean Absolute Error :  144.35505050505049\n",
      "Mean Squared Error :  34895.64993265993\n",
      "Root Mean Squared Error :  186.80377387156804\n",
      "\n",
      "*************************************************************************************\n",
      "*************************************************************************************\n",
      "SVR()\n",
      "R2 Score :  0.08522839581758646\n",
      "Mean Absolute Error :  140.65139474948876\n",
      "Mean Squared Error :  32166.392708069423\n",
      "Root Mean Squared Error :  179.3499169446962\n",
      "\n",
      "*************************************************************************************\n",
      "*************************************************************************************\n",
      "Lasso()\n",
      "R2 Score :  0.08240925308640701\n",
      "Mean Absolute Error :  145.70728364075705\n",
      "Mean Squared Error :  32265.523083101412\n",
      "Root Mean Squared Error :  179.62606459838008\n",
      "\n",
      "*************************************************************************************\n",
      "*************************************************************************************\n",
      "Ridge()\n",
      "R2 Score :  0.08155815267690514\n",
      "Mean Absolute Error :  145.638662844324\n",
      "Mean Squared Error :  32295.450586186187\n",
      "Root Mean Squared Error :  179.70935030260998\n",
      "\n",
      "*************************************************************************************\n",
      "*************************************************************************************\n",
      "ElasticNet()\n",
      "R2 Score :  0.08419151217084753\n",
      "Mean Absolute Error :  146.89714966619775\n",
      "Mean Squared Error :  32202.85296374536\n",
      "Root Mean Squared Error :  179.45153374587068\n",
      "\n",
      "*************************************************************************************\n"
     ]
    }
   ],
   "source": [
    "model = [LR(),DTR(),KNR(),SVR(),Lasso(),Ridge(),ElasticNet()]\n",
    "\n",
    "for i in range(len(model)):\n",
    "    x_train,x_test,y_train,y_test = train_test_split(X,y,test_size=.20,random_state=72)\n",
    "    model[i].fit(x_train,y_train)\n",
    "    y_pred = model[i].predict(x_test)\n",
    "    r2Score = r2_score(y_test,y_pred)\n",
    "    \n",
    "    print(\"*************************************************************************************\")\n",
    "    print(model[i])\n",
    "    print(\"R2 Score : \",r2Score)\n",
    "    print(\"Mean Absolute Error : \" ,mean_absolute_error(y_test,y_pred))\n",
    "    print(\"Mean Squared Error : \" ,mean_squared_error(y_test,y_pred))\n",
    "    print(\"Root Mean Squared Error : \" ,np.sqrt(mean_squared_error(y_test,y_pred)))\n",
    "    print(\"\")\n",
    "    print(\"*************************************************************************************\")\n",
    "\n"
   ]
  },
  {
   "cell_type": "code",
   "execution_count": 52,
   "metadata": {},
   "outputs": [
    {
     "name": "stdout",
     "output_type": "stream",
     "text": [
      "*************************************************************************************\n",
      "Score for  LinearRegression()  : \n",
      "Score :  [0.11923642 0.09332837 0.08893729 0.10409548]\n",
      "Mean :  0.10139939102497239\n",
      "Standard Deviation :  0.01168197397453211\n",
      "*************************************************************************************\n",
      "\n",
      "*************************************************************************************\n",
      "Score for  DecisionTreeRegressor()  : \n",
      "Score :  [-0.52634916 -0.50059427 -0.63904639 -0.47307193]\n",
      "Mean :  -0.5347654389798506\n",
      "Standard Deviation :  0.06308547521004552\n",
      "*************************************************************************************\n",
      "\n",
      "*************************************************************************************\n",
      "Score for  KNeighborsRegressor()  : \n",
      "Score :  [-0.02796881  0.04252026  0.03686341  0.03507567]\n",
      "Mean :  0.0216226321904128\n",
      "Standard Deviation :  0.028763205493784395\n",
      "*************************************************************************************\n",
      "\n",
      "*************************************************************************************\n",
      "Score for  SVR()  : \n",
      "Score :  [0.0973763  0.05788533 0.07028036 0.07124942]\n",
      "Mean :  0.07419785325277098\n",
      "Standard Deviation :  0.014382097676955464\n",
      "*************************************************************************************\n",
      "\n",
      "*************************************************************************************\n",
      "Score for  Lasso()  : \n",
      "Score :  [0.11869092 0.09342758 0.08919796 0.10510204]\n",
      "Mean :  0.10160462319954805\n",
      "Standard Deviation :  0.011456033153906319\n",
      "*************************************************************************************\n",
      "\n",
      "*************************************************************************************\n",
      "Score for  Ridge()  : \n",
      "Score :  [0.11923245 0.09332899 0.08893859 0.10410014]\n",
      "Mean :  0.10140004300643993\n",
      "Standard Deviation :  0.011680272869429078\n",
      "*************************************************************************************\n",
      "\n",
      "*************************************************************************************\n",
      "Score for  ElasticNet()  : \n",
      "Score :  [0.10537258 0.08605418 0.08361533 0.09974459]\n",
      "Mean :  0.09369666924444253\n",
      "Standard Deviation :  0.0091233937169031\n",
      "*************************************************************************************\n",
      "\n"
     ]
    }
   ],
   "source": [
    "from sklearn.model_selection import cross_val_score\n",
    "for i in range(len(model)):\n",
    "    cv_score = cross_val_score(model[i],X,y,cv=4,scoring='r2')\n",
    "    print(\"*************************************************************************************\")\n",
    "    print(\"Score for \",model[i],\" : \")\n",
    "    print(\"Score : \", cv_score)\n",
    "    print(\"Mean : \", cv_score.mean())\n",
    "    print(\"Standard Deviation : \", cv_score.std())\n",
    "    print(\"*************************************************************************************\")\n",
    "    print(\"\")"
   ]
  },
  {
   "cell_type": "code",
   "execution_count": 53,
   "metadata": {},
   "outputs": [
    {
     "data": {
      "text/plain": [
       "{'C': 10, 'gamma': 0.5, 'kernel': 'rbf'}"
      ]
     },
     "execution_count": 53,
     "metadata": {},
     "output_type": "execute_result"
    }
   ],
   "source": [
    "#GridSearchCV\n",
    "from sklearn.model_selection import GridSearchCV\n",
    "\n",
    "parameters = [{'kernel': ['linear','rbf'], \n",
    "               'gamma': [0.01, 0.1, 0.2, 0.5, 0.6],\n",
    "               'C': [1, 10, 100]\n",
    "              }]\n",
    "\n",
    "\n",
    "gridsearch = GridSearchCV(SVR(epsilon=0.1),parameters,n_jobs=-1,pre_dispatch=2)\n",
    "gridsearch.fit(X,y)\n",
    "gridsearch.best_params_"
   ]
  },
  {
   "cell_type": "code",
   "execution_count": 54,
   "metadata": {},
   "outputs": [
    {
     "name": "stdout",
     "output_type": "stream",
     "text": [
      "Score for SVR :  0.1592930656996645\n",
      "R2 Score for SVR :  0.13710078701162265\n",
      "Mean Squared Error :  31479.088598873266\n",
      "Mean Absolute Error :  137.03152321972385\n",
      "Root Mean Squared Error :  177.42347251385107\n"
     ]
    }
   ],
   "source": [
    "svr = SVR(C=10,gamma=0.5,kernel='rbf')\n",
    "x_train,x_test,y_train,y_test = train_test_split(X,y,test_size=.20,random_state = 42)\n",
    "svr.fit(x_train,y_train)\n",
    "score = svr.score(x_train,y_train)\n",
    "print(\"Score for SVR : \",score)\n",
    "y_pred = svr.predict(x_test)\n",
    "r2Score = r2_score(y_test,y_pred)\n",
    "print(\"R2 Score for SVR : \",r2Score)\n",
    "print(\"Mean Squared Error : \" ,mean_squared_error(y_test,y_pred))\n",
    "print(\"Mean Absolute Error : \" ,mean_absolute_error(y_test,y_pred))\n",
    "print(\"Root Mean Squared Error : \" ,np.sqrt(mean_squared_error(y_test,y_pred)))\n"
   ]
  },
  {
   "cell_type": "code",
   "execution_count": 55,
   "metadata": {},
   "outputs": [],
   "source": [
    "#Adaboost Regressor and RandomforestRegressor\n",
    "from sklearn.ensemble import AdaBoostRegressor as ABR\n",
    "from sklearn.ensemble import GradientBoostingRegressor as GBR\n",
    "from sklearn.ensemble import RandomForestRegressor as RFR\n"
   ]
  },
  {
   "cell_type": "code",
   "execution_count": 56,
   "metadata": {},
   "outputs": [
    {
     "name": "stdout",
     "output_type": "stream",
     "text": [
      "-----------------------------------------------------------\n",
      "AdaBoostRegressor(n_estimators=20, random_state=120)\n",
      "-----------------------------------------------------------\n",
      "R2 Score :  0.10720981000954966\n",
      "\n",
      "\n",
      "-----------------------------------------------------------\n",
      "GradientBoostingRegressor(n_estimators=20, random_state=13)\n",
      "-----------------------------------------------------------\n",
      "R2 Score :  0.1618937034421103\n",
      "\n",
      "\n",
      "-----------------------------------------------------------\n",
      "RandomForestRegressor(n_estimators=20, random_state=76)\n",
      "-----------------------------------------------------------\n",
      "R2 Score :  0.17039475125960835\n",
      "\n",
      "\n"
     ]
    }
   ],
   "source": [
    "ada = ABR(n_estimators=20,random_state=120)\n",
    "gradient = GBR(n_estimators=20,random_state=13)\n",
    "rfr = RFR(n_estimators=20,random_state=76)\n",
    "\n",
    "boosting_model = [ada,gradient,rfr]\n",
    "\n",
    "for i in range(len(boosting_model)):\n",
    "    boost = boosting_model[i]\n",
    "    boost.fit(x_train,y_train)\n",
    "    pred = boost.predict(x_test)\n",
    "    r2Score = r2_score(y_test,pred)\n",
    "    print(\"-----------------------------------------------------------\")\n",
    "    print(boost)\n",
    "    print(\"-----------------------------------------------------------\")\n",
    "    print(\"R2 Score : \", r2Score)\n",
    "    print(\"\\n\")"
   ]
  },
  {
   "cell_type": "markdown",
   "metadata": {},
   "source": [
    "    Random Forest Regression performs the best amongst the rest of the regression models and hence will be our model."
   ]
  },
  {
   "cell_type": "code",
   "execution_count": 57,
   "metadata": {},
   "outputs": [
    {
     "name": "stdout",
     "output_type": "stream",
     "text": [
      "R2 Score for Random Forest Regressor :  0.17039475125960835\n",
      "Mean Absolute Error :  133.5080747955748\n",
      "Mean Squared Error :  30264.504514666696\n",
      "Root Mean Squared Error :  173.96696386000042\n"
     ]
    }
   ],
   "source": [
    "rfr.fit(x_train,y_train)\n",
    "y_pred= rfr.predict(x_test)\n",
    "r2score = r2_score(y_test,y_pred)\n",
    "print(\"R2 Score for Random Forest Regressor : \",r2score)\n",
    "print(\"Mean Absolute Error : \" ,mean_absolute_error(y_test,y_pred))\n",
    "print(\"Mean Squared Error : \" ,mean_squared_error(y_test,y_pred))\n",
    "print(\"Root Mean Squared Error : \" ,np.sqrt(mean_squared_error(y_test,y_pred)))"
   ]
  },
  {
   "cell_type": "code",
   "execution_count": 63,
   "metadata": {},
   "outputs": [
    {
     "ename": "ValueError",
     "evalue": "could not convert string to float: 'MBBS'",
     "output_type": "error",
     "traceback": [
      "\u001b[1;31m---------------------------------------------------------------------------\u001b[0m",
      "\u001b[1;31mValueError\u001b[0m                                Traceback (most recent call last)",
      "\u001b[1;32m<ipython-input-63-ccb48fef01d2>\u001b[0m in \u001b[0;36m<module>\u001b[1;34m\u001b[0m\n\u001b[0;32m      5\u001b[0m \u001b[0mrfr_from_joblib\u001b[0m \u001b[1;33m=\u001b[0m \u001b[0mjoblib\u001b[0m\u001b[1;33m.\u001b[0m\u001b[0mload\u001b[0m\u001b[1;33m(\u001b[0m\u001b[1;34m'RandomForestModel.obj'\u001b[0m\u001b[1;33m)\u001b[0m\u001b[1;33m\u001b[0m\u001b[1;33m\u001b[0m\u001b[0m\n\u001b[0;32m      6\u001b[0m \u001b[1;33m\u001b[0m\u001b[0m\n\u001b[1;32m----> 7\u001b[1;33m \u001b[0mfinalOutput\u001b[0m \u001b[1;33m=\u001b[0m \u001b[0mrfr_from_joblib\u001b[0m\u001b[1;33m.\u001b[0m\u001b[0mpredict\u001b[0m\u001b[1;33m(\u001b[0m\u001b[0mtesting_df\u001b[0m\u001b[1;33m)\u001b[0m\u001b[1;33m\u001b[0m\u001b[1;33m\u001b[0m\u001b[0m\n\u001b[0m",
      "\u001b[1;32m~\\Anaconda3\\lib\\site-packages\\sklearn\\ensemble\\_forest.py\u001b[0m in \u001b[0;36mpredict\u001b[1;34m(self, X)\u001b[0m\n\u001b[0;32m    781\u001b[0m         \u001b[0mcheck_is_fitted\u001b[0m\u001b[1;33m(\u001b[0m\u001b[0mself\u001b[0m\u001b[1;33m)\u001b[0m\u001b[1;33m\u001b[0m\u001b[1;33m\u001b[0m\u001b[0m\n\u001b[0;32m    782\u001b[0m         \u001b[1;31m# Check data\u001b[0m\u001b[1;33m\u001b[0m\u001b[1;33m\u001b[0m\u001b[1;33m\u001b[0m\u001b[0m\n\u001b[1;32m--> 783\u001b[1;33m         \u001b[0mX\u001b[0m \u001b[1;33m=\u001b[0m \u001b[0mself\u001b[0m\u001b[1;33m.\u001b[0m\u001b[0m_validate_X_predict\u001b[0m\u001b[1;33m(\u001b[0m\u001b[0mX\u001b[0m\u001b[1;33m)\u001b[0m\u001b[1;33m\u001b[0m\u001b[1;33m\u001b[0m\u001b[0m\n\u001b[0m\u001b[0;32m    784\u001b[0m \u001b[1;33m\u001b[0m\u001b[0m\n\u001b[0;32m    785\u001b[0m         \u001b[1;31m# Assign chunk of trees to jobs\u001b[0m\u001b[1;33m\u001b[0m\u001b[1;33m\u001b[0m\u001b[1;33m\u001b[0m\u001b[0m\n",
      "\u001b[1;32m~\\Anaconda3\\lib\\site-packages\\sklearn\\ensemble\\_forest.py\u001b[0m in \u001b[0;36m_validate_X_predict\u001b[1;34m(self, X)\u001b[0m\n\u001b[0;32m    419\u001b[0m         \u001b[0mcheck_is_fitted\u001b[0m\u001b[1;33m(\u001b[0m\u001b[0mself\u001b[0m\u001b[1;33m)\u001b[0m\u001b[1;33m\u001b[0m\u001b[1;33m\u001b[0m\u001b[0m\n\u001b[0;32m    420\u001b[0m \u001b[1;33m\u001b[0m\u001b[0m\n\u001b[1;32m--> 421\u001b[1;33m         \u001b[1;32mreturn\u001b[0m \u001b[0mself\u001b[0m\u001b[1;33m.\u001b[0m\u001b[0mestimators_\u001b[0m\u001b[1;33m[\u001b[0m\u001b[1;36m0\u001b[0m\u001b[1;33m]\u001b[0m\u001b[1;33m.\u001b[0m\u001b[0m_validate_X_predict\u001b[0m\u001b[1;33m(\u001b[0m\u001b[0mX\u001b[0m\u001b[1;33m,\u001b[0m \u001b[0mcheck_input\u001b[0m\u001b[1;33m=\u001b[0m\u001b[1;32mTrue\u001b[0m\u001b[1;33m)\u001b[0m\u001b[1;33m\u001b[0m\u001b[1;33m\u001b[0m\u001b[0m\n\u001b[0m\u001b[0;32m    422\u001b[0m \u001b[1;33m\u001b[0m\u001b[0m\n\u001b[0;32m    423\u001b[0m     \u001b[1;33m@\u001b[0m\u001b[0mproperty\u001b[0m\u001b[1;33m\u001b[0m\u001b[1;33m\u001b[0m\u001b[0m\n",
      "\u001b[1;32m~\\Anaconda3\\lib\\site-packages\\sklearn\\tree\\_classes.py\u001b[0m in \u001b[0;36m_validate_X_predict\u001b[1;34m(self, X, check_input)\u001b[0m\n\u001b[0;32m    386\u001b[0m         \u001b[1;34m\"\"\"Validate X whenever one tries to predict, apply, predict_proba\"\"\"\u001b[0m\u001b[1;33m\u001b[0m\u001b[1;33m\u001b[0m\u001b[0m\n\u001b[0;32m    387\u001b[0m         \u001b[1;32mif\u001b[0m \u001b[0mcheck_input\u001b[0m\u001b[1;33m:\u001b[0m\u001b[1;33m\u001b[0m\u001b[1;33m\u001b[0m\u001b[0m\n\u001b[1;32m--> 388\u001b[1;33m             \u001b[0mX\u001b[0m \u001b[1;33m=\u001b[0m \u001b[0mcheck_array\u001b[0m\u001b[1;33m(\u001b[0m\u001b[0mX\u001b[0m\u001b[1;33m,\u001b[0m \u001b[0mdtype\u001b[0m\u001b[1;33m=\u001b[0m\u001b[0mDTYPE\u001b[0m\u001b[1;33m,\u001b[0m \u001b[0maccept_sparse\u001b[0m\u001b[1;33m=\u001b[0m\u001b[1;34m\"csr\"\u001b[0m\u001b[1;33m)\u001b[0m\u001b[1;33m\u001b[0m\u001b[1;33m\u001b[0m\u001b[0m\n\u001b[0m\u001b[0;32m    389\u001b[0m             if issparse(X) and (X.indices.dtype != np.intc or\n\u001b[0;32m    390\u001b[0m                                 X.indptr.dtype != np.intc):\n",
      "\u001b[1;32m~\\Anaconda3\\lib\\site-packages\\sklearn\\utils\\validation.py\u001b[0m in \u001b[0;36minner_f\u001b[1;34m(*args, **kwargs)\u001b[0m\n\u001b[0;32m     70\u001b[0m                           FutureWarning)\n\u001b[0;32m     71\u001b[0m         \u001b[0mkwargs\u001b[0m\u001b[1;33m.\u001b[0m\u001b[0mupdate\u001b[0m\u001b[1;33m(\u001b[0m\u001b[1;33m{\u001b[0m\u001b[0mk\u001b[0m\u001b[1;33m:\u001b[0m \u001b[0marg\u001b[0m \u001b[1;32mfor\u001b[0m \u001b[0mk\u001b[0m\u001b[1;33m,\u001b[0m \u001b[0marg\u001b[0m \u001b[1;32min\u001b[0m \u001b[0mzip\u001b[0m\u001b[1;33m(\u001b[0m\u001b[0msig\u001b[0m\u001b[1;33m.\u001b[0m\u001b[0mparameters\u001b[0m\u001b[1;33m,\u001b[0m \u001b[0margs\u001b[0m\u001b[1;33m)\u001b[0m\u001b[1;33m}\u001b[0m\u001b[1;33m)\u001b[0m\u001b[1;33m\u001b[0m\u001b[1;33m\u001b[0m\u001b[0m\n\u001b[1;32m---> 72\u001b[1;33m         \u001b[1;32mreturn\u001b[0m \u001b[0mf\u001b[0m\u001b[1;33m(\u001b[0m\u001b[1;33m**\u001b[0m\u001b[0mkwargs\u001b[0m\u001b[1;33m)\u001b[0m\u001b[1;33m\u001b[0m\u001b[1;33m\u001b[0m\u001b[0m\n\u001b[0m\u001b[0;32m     73\u001b[0m     \u001b[1;32mreturn\u001b[0m \u001b[0minner_f\u001b[0m\u001b[1;33m\u001b[0m\u001b[1;33m\u001b[0m\u001b[0m\n\u001b[0;32m     74\u001b[0m \u001b[1;33m\u001b[0m\u001b[0m\n",
      "\u001b[1;32m~\\Anaconda3\\lib\\site-packages\\sklearn\\utils\\validation.py\u001b[0m in \u001b[0;36mcheck_array\u001b[1;34m(array, accept_sparse, accept_large_sparse, dtype, order, copy, force_all_finite, ensure_2d, allow_nd, ensure_min_samples, ensure_min_features, estimator)\u001b[0m\n\u001b[0;32m    596\u001b[0m                     \u001b[0marray\u001b[0m \u001b[1;33m=\u001b[0m \u001b[0marray\u001b[0m\u001b[1;33m.\u001b[0m\u001b[0mastype\u001b[0m\u001b[1;33m(\u001b[0m\u001b[0mdtype\u001b[0m\u001b[1;33m,\u001b[0m \u001b[0mcasting\u001b[0m\u001b[1;33m=\u001b[0m\u001b[1;34m\"unsafe\"\u001b[0m\u001b[1;33m,\u001b[0m \u001b[0mcopy\u001b[0m\u001b[1;33m=\u001b[0m\u001b[1;32mFalse\u001b[0m\u001b[1;33m)\u001b[0m\u001b[1;33m\u001b[0m\u001b[1;33m\u001b[0m\u001b[0m\n\u001b[0;32m    597\u001b[0m                 \u001b[1;32melse\u001b[0m\u001b[1;33m:\u001b[0m\u001b[1;33m\u001b[0m\u001b[1;33m\u001b[0m\u001b[0m\n\u001b[1;32m--> 598\u001b[1;33m                     \u001b[0marray\u001b[0m \u001b[1;33m=\u001b[0m \u001b[0mnp\u001b[0m\u001b[1;33m.\u001b[0m\u001b[0masarray\u001b[0m\u001b[1;33m(\u001b[0m\u001b[0marray\u001b[0m\u001b[1;33m,\u001b[0m \u001b[0morder\u001b[0m\u001b[1;33m=\u001b[0m\u001b[0morder\u001b[0m\u001b[1;33m,\u001b[0m \u001b[0mdtype\u001b[0m\u001b[1;33m=\u001b[0m\u001b[0mdtype\u001b[0m\u001b[1;33m)\u001b[0m\u001b[1;33m\u001b[0m\u001b[1;33m\u001b[0m\u001b[0m\n\u001b[0m\u001b[0;32m    599\u001b[0m             \u001b[1;32mexcept\u001b[0m \u001b[0mComplexWarning\u001b[0m\u001b[1;33m:\u001b[0m\u001b[1;33m\u001b[0m\u001b[1;33m\u001b[0m\u001b[0m\n\u001b[0;32m    600\u001b[0m                 raise ValueError(\"Complex data not supported\\n\"\n",
      "\u001b[1;32m~\\Anaconda3\\lib\\site-packages\\numpy\\core\\_asarray.py\u001b[0m in \u001b[0;36masarray\u001b[1;34m(a, dtype, order)\u001b[0m\n\u001b[0;32m     83\u001b[0m \u001b[1;33m\u001b[0m\u001b[0m\n\u001b[0;32m     84\u001b[0m     \"\"\"\n\u001b[1;32m---> 85\u001b[1;33m     \u001b[1;32mreturn\u001b[0m \u001b[0marray\u001b[0m\u001b[1;33m(\u001b[0m\u001b[0ma\u001b[0m\u001b[1;33m,\u001b[0m \u001b[0mdtype\u001b[0m\u001b[1;33m,\u001b[0m \u001b[0mcopy\u001b[0m\u001b[1;33m=\u001b[0m\u001b[1;32mFalse\u001b[0m\u001b[1;33m,\u001b[0m \u001b[0morder\u001b[0m\u001b[1;33m=\u001b[0m\u001b[0morder\u001b[0m\u001b[1;33m)\u001b[0m\u001b[1;33m\u001b[0m\u001b[1;33m\u001b[0m\u001b[0m\n\u001b[0m\u001b[0;32m     86\u001b[0m \u001b[1;33m\u001b[0m\u001b[0m\n\u001b[0;32m     87\u001b[0m \u001b[1;33m\u001b[0m\u001b[0m\n",
      "\u001b[1;31mValueError\u001b[0m: could not convert string to float: 'MBBS'"
     ]
    }
   ],
   "source": [
    "import joblib\n",
    "\n",
    "joblib.dump(rfr,'RandomForestModel.obj')\n",
    "\n",
    "rfr_from_joblib = joblib.load('RandomForestModel.obj')\n",
    "\n",
    "finalOutput = rfr_from_joblib.predict(testing_df)"
   ]
  },
  {
   "cell_type": "code",
   "execution_count": 64,
   "metadata": {},
   "outputs": [],
   "source": [
    "#save final output to a csv file :\n",
    "pd.DataFrame(finalOutput).to_csv(\"Doctors_Consultaion_Fees_Output.csv\")"
   ]
  },
  {
   "cell_type": "code",
   "execution_count": null,
   "metadata": {},
   "outputs": [],
   "source": []
  }
 ],
 "metadata": {
  "kernelspec": {
   "display_name": "Python 3",
   "language": "python",
   "name": "python3"
  },
  "language_info": {
   "codemirror_mode": {
    "name": "ipython",
    "version": 3
   },
   "file_extension": ".py",
   "mimetype": "text/x-python",
   "name": "python",
   "nbconvert_exporter": "python",
   "pygments_lexer": "ipython3",
   "version": "3.7.6"
  }
 },
 "nbformat": 4,
 "nbformat_minor": 4
}
