{
 "cells": [
  {
   "cell_type": "raw",
   "metadata": {},
   "source": [
    "Abstract : To predict - a) AveragePrice of Avocado\n",
    "                        b) To find the Region"
   ]
  },
  {
   "cell_type": "code",
   "execution_count": null,
   "metadata": {},
   "outputs": [],
   "source": [
    "import pandas as pd\n",
    "import numpy as np\n",
    "import seaborn as sns\n",
    "import matplotlib.pyplot as plt\n",
    "import warnings\n",
    "warnings.filterwarnings(\"ignore\")"
   ]
  },
  {
   "cell_type": "code",
   "execution_count": null,
   "metadata": {},
   "outputs": [],
   "source": [
    "df = pd.read_csv('avocado.csv')"
   ]
  },
  {
   "cell_type": "code",
   "execution_count": null,
   "metadata": {},
   "outputs": [],
   "source": [
    "df.head()"
   ]
  },
  {
   "cell_type": "code",
   "execution_count": null,
   "metadata": {},
   "outputs": [],
   "source": [
    "df.info()"
   ]
  },
  {
   "cell_type": "code",
   "execution_count": null,
   "metadata": {},
   "outputs": [],
   "source": [
    "df.describe()"
   ]
  },
  {
   "cell_type": "markdown",
   "metadata": {},
   "source": [
    "    1. Column Unnamed can be dropped as it does not provide any value for the analysis.\n",
    "    2. There may be some outliers present as there is wide gap between 75% and max values in most of the columns.\n",
    "    3. We need to scale the dataset as range varies for each column.\n",
    "    4. We can also drop date column."
   ]
  },
  {
   "cell_type": "code",
   "execution_count": null,
   "metadata": {},
   "outputs": [],
   "source": [
    "df.columns"
   ]
  },
  {
   "cell_type": "code",
   "execution_count": null,
   "metadata": {},
   "outputs": [],
   "source": [
    "#We can see that more than 60% of the data in this column has value as 0, hence we can drop this column.\n",
    "df['XLarge Bags'].value_counts()"
   ]
  },
  {
   "cell_type": "markdown",
   "metadata": {},
   "source": [
    "# Data Visualization"
   ]
  },
  {
   "cell_type": "code",
   "execution_count": null,
   "metadata": {},
   "outputs": [],
   "source": [
    "df.head()"
   ]
  },
  {
   "cell_type": "code",
   "execution_count": null,
   "metadata": {},
   "outputs": [],
   "source": [
    "sns.distplot(df['AveragePrice'])"
   ]
  },
  {
   "cell_type": "markdown",
   "metadata": {},
   "source": [
    "    Average price of Avocados ranges between 0.5 and 3.0"
   ]
  },
  {
   "cell_type": "code",
   "execution_count": null,
   "metadata": {},
   "outputs": [],
   "source": [
    "sns.countplot(df['type'])"
   ]
  },
  {
   "cell_type": "markdown",
   "metadata": {},
   "source": [
    "      Two types of avocados are grown - conventional and oragnic."
   ]
  },
  {
   "cell_type": "code",
   "execution_count": null,
   "metadata": {},
   "outputs": [],
   "source": [
    "sns.heatmap(df.isnull())"
   ]
  },
  {
   "cell_type": "markdown",
   "metadata": {},
   "source": [
    "    No null values."
   ]
  },
  {
   "cell_type": "markdown",
   "metadata": {},
   "source": [
    "# Data Manipulation"
   ]
  },
  {
   "cell_type": "code",
   "execution_count": null,
   "metadata": {},
   "outputs": [],
   "source": [
    "df.drop('Unnamed: 0',axis=1,inplace=True)\n",
    "df.drop('Date',axis=1,inplace=True)\n",
    "df.drop('XLarge Bags',axis=1,inplace=True)\n"
   ]
  },
  {
   "cell_type": "code",
   "execution_count": null,
   "metadata": {},
   "outputs": [],
   "source": [
    "#Move AveragePrice column to the end :\n",
    "df = df[[c for c in df if c not in ['AveragePrice']] + ['AveragePrice']] "
   ]
  },
  {
   "cell_type": "code",
   "execution_count": null,
   "metadata": {},
   "outputs": [],
   "source": [
    "#Encode the columns :\n",
    "from sklearn.preprocessing import LabelEncoder\n",
    "\n",
    "cols = ['type','region']\n",
    "for each in cols:\n",
    "    encoder = LabelEncoder()\n",
    "    df[each] = encoder.fit_transform(df[each])\n",
    "df.info()"
   ]
  },
  {
   "cell_type": "code",
   "execution_count": null,
   "metadata": {},
   "outputs": [],
   "source": [
    "#Find correlation between variables :\n",
    "corr = df.corr()\n",
    "plt.figure(figsize=(10,10))\n",
    "sns.heatmap(corr,annot=True)"
   ]
  },
  {
   "cell_type": "markdown",
   "metadata": {},
   "source": [
    "    1. column type,year are positively related to target variable average price.\n",
    "    2. Bag sizes and avocado types are positively related to target variable region."
   ]
  },
  {
   "cell_type": "code",
   "execution_count": null,
   "metadata": {},
   "outputs": [],
   "source": [
    "#Check for skewness\n",
    "col = df.columns.values\n",
    "plt.figure(figsize=(20,20))\n",
    "for i in range(0,len(col)):\n",
    "    plt.subplot(11,5,i+1)\n",
    "    sns.distplot(df[col[i]],color='red')\n",
    "plt.show()"
   ]
  },
  {
   "cell_type": "code",
   "execution_count": null,
   "metadata": {},
   "outputs": [],
   "source": [
    "#Check for outliers :\n",
    "plt.figure(figsize=(10,20))\n",
    "for i in range(0,len(col)):\n",
    "    plt.subplot(10,5,i+1)\n",
    "    sns.boxplot(df[col[i]],palette='rocket',orient='v')\n",
    "    plt.tight_layout()"
   ]
  },
  {
   "cell_type": "markdown",
   "metadata": {},
   "source": [
    "    Many outliers are present."
   ]
  },
  {
   "cell_type": "code",
   "execution_count": null,
   "metadata": {},
   "outputs": [],
   "source": [
    "#Use z-score to remove outliers :\n",
    "from scipy.stats import zscore\n",
    "#data.info()\n",
    "z=np.abs(zscore(df))\n",
    "print(np.where(z>3))\n",
    "#new df with no outliers.\n",
    "df_new = df[(z<3).all(axis=1)]"
   ]
  },
  {
   "cell_type": "code",
   "execution_count": null,
   "metadata": {},
   "outputs": [],
   "source": [
    "print(df.shape,\"\\t\",df_new.shape)"
   ]
  },
  {
   "cell_type": "code",
   "execution_count": null,
   "metadata": {},
   "outputs": [],
   "source": [
    "from sklearn.model_selection import train_test_split\n",
    "\n",
    "#Features where AveragePrice is the target variable\n",
    "x = df_new.drop('AveragePrice',axis=1)\n",
    "y = df_new.iloc[:,-1:]\n",
    "\n",
    "#Features where region is the target variable.\n",
    "X = df_new.drop('region',axis=1)\n",
    "Y = df_new.iloc[:,-2:-1]"
   ]
  },
  {
   "cell_type": "code",
   "execution_count": null,
   "metadata": {},
   "outputs": [],
   "source": [
    "#Check for skewness for both independent variables.\n",
    "x.skew()"
   ]
  },
  {
   "cell_type": "code",
   "execution_count": null,
   "metadata": {},
   "outputs": [],
   "source": [
    "X.skew()"
   ]
  },
  {
   "cell_type": "code",
   "execution_count": null,
   "metadata": {},
   "outputs": [],
   "source": [
    "#To remove skewness :\n",
    "from sklearn.preprocessing import PowerTransformer\n",
    "\n",
    "pt = PowerTransformer('yeo-johnson')\n",
    "X = pd.DataFrame(pt.fit_transform(X))\n",
    "x = pd.DataFrame(pt.fit_transform(x))"
   ]
  },
  {
   "cell_type": "code",
   "execution_count": null,
   "metadata": {},
   "outputs": [],
   "source": [
    "x.skew()"
   ]
  },
  {
   "cell_type": "code",
   "execution_count": null,
   "metadata": {},
   "outputs": [],
   "source": [
    "X.skew()"
   ]
  },
  {
   "cell_type": "markdown",
   "metadata": {},
   "source": [
    "# PART A - Predict Average Price"
   ]
  },
  {
   "cell_type": "code",
   "execution_count": null,
   "metadata": {},
   "outputs": [],
   "source": [
    "from sklearn.metrics import r2_score,mean_absolute_error, mean_squared_error\n",
    "\n",
    "from sklearn.linear_model import LinearRegression as LR\n",
    "from sklearn.tree import DecisionTreeRegressor as DTR\n",
    "from sklearn.svm import SVR\n",
    "from sklearn.neighbors import KNeighborsRegressor as KNR\n",
    "from sklearn.linear_model import Lasso,Ridge,ElasticNet"
   ]
  },
  {
   "cell_type": "code",
   "execution_count": null,
   "metadata": {},
   "outputs": [],
   "source": [
    "model = [LR(),DTR(),KNR(),SVR(),Lasso(),Ridge(),ElasticNet()]\n",
    "\n",
    "for i in range(len(model)):\n",
    "    x_train,x_test,y_train,y_test = train_test_split(x,y,test_size=.20,random_state=40)\n",
    "    model[i].fit(x_train,y_train)\n",
    "    y_pred = model[i].predict(x_test)\n",
    "    r2Score = r2_score(y_test,y_pred)\n",
    "    \n",
    "    print(\"*************************************************************************************\")\n",
    "    print(model[i])\n",
    "    print(\"R2 Score : \",r2Score)\n",
    "    print(\"Mean Absolute Error : \" ,mean_absolute_error(y_test,y_pred))\n",
    "    print(\"Mean Squared Error : \" ,mean_squared_error(y_test,y_pred))\n",
    "    print(\"Root Mean Squared Error : \" ,np.sqrt(mean_squared_error(y_test,y_pred)))\n",
    "    print(\"\")\n",
    "    print(\"*************************************************************************************\")\n",
    "\n"
   ]
  },
  {
   "cell_type": "markdown",
   "metadata": {},
   "source": [
    "    KNeighbor Regressors performed best with 84.87% accuracy."
   ]
  },
  {
   "cell_type": "code",
   "execution_count": null,
   "metadata": {},
   "outputs": [],
   "source": [
    "from sklearn.model_selection import cross_val_score\n",
    "\n",
    "cv_score = cross_val_score(KNR(),x,y,cv=5,scoring='r2')\n",
    "print(\"*************************************************************************************\")\n",
    "print(\"Score for \",KNR(),\" : \")\n",
    "print(\"Score : \", cv_score)\n",
    "print(\"Mean : \", cv_score.mean())\n",
    "print(\"Standard Deviation : \", cv_score.std())\n",
    "print(\"*************************************************************************************\")\n",
    "print(\"\")"
   ]
  },
  {
   "cell_type": "code",
   "execution_count": null,
   "metadata": {},
   "outputs": [],
   "source": [
    "#GridSearchCV\n",
    "from sklearn.model_selection import GridSearchCV\n",
    "\n",
    "parameters = {'n_neighbors':list(range(1,31)),'weights':['uniform','distance']}\n",
    "\n",
    "gridsearch = GridSearchCV(KNR(),parameters,n_jobs=-1,pre_dispatch=2)\n",
    "gridsearch.fit(x,y)\n",
    "gridsearch.best_params_"
   ]
  },
  {
   "cell_type": "code",
   "execution_count": null,
   "metadata": {},
   "outputs": [],
   "source": [
    "def random_state_counter(model):\n",
    "    max_r2_score=0\n",
    "    for j in range(10,90):\n",
    "        x_train,x_test,y_train,y_test = train_test_split(x,y,test_size=.20,random_state=j)\n",
    "        reg = model\n",
    "        reg.fit(x_train,y_train)\n",
    "        y_pred = reg.predict(x_test)\n",
    "        score = r2_score(y_test,y_pred)\n",
    "        if score>max_r2_score:\n",
    "            max_r2_score = score\n",
    "            final_state = j\n",
    "    return final_state"
   ]
  },
  {
   "cell_type": "code",
   "execution_count": null,
   "metadata": {},
   "outputs": [],
   "source": [
    "knr = KNR(n_neighbors=30,weights='distance')\n",
    "state = random_state_counter(knr)\n",
    "x_train,x_test,y_train,y_test = train_test_split(x,y,test_size=.20,random_state = state)\n",
    "knr.fit(x_train,y_train)\n",
    "score = knr.score(x_train,y_train)\n",
    "print(\"Score for KNeighbors regression : \",score)\n",
    "y_pred = knr.predict(x_test)\n",
    "r2Score = r2_score(y_test,y_pred)\n",
    "print(\"R2 Score for Linear Regression : \",r2Score)\n",
    "print(\"Mean Squared Error : \" ,mean_squared_error(y_test,y_pred))\n",
    "print(\"Mean Absolute Error : \" ,mean_absolute_error(y_test,y_pred))\n",
    "print(\"Root Mean Squared Error : \" ,np.sqrt(mean_squared_error(y_test,y_pred)))"
   ]
  },
  {
   "cell_type": "code",
   "execution_count": null,
   "metadata": {},
   "outputs": [],
   "source": [
    "#Adaboost Regressor and RandomforestRegressor\n",
    "from sklearn.ensemble import AdaBoostRegressor as ABR\n",
    "from sklearn.ensemble import GradientBoostingRegressor as GBR\n",
    "from sklearn.ensemble import RandomForestRegressor as RFR\n"
   ]
  },
  {
   "cell_type": "code",
   "execution_count": null,
   "metadata": {},
   "outputs": [],
   "source": [
    "ada = ABR(n_estimators=20,random_state=120)\n",
    "gradient = GBR(n_estimators=20,random_state=13)\n",
    "rfr = RFR(n_estimators=20,random_state=76)\n",
    "\n",
    "boosting_model = [ada,gradient,rfr]\n",
    "\n",
    "for i in range(len(boosting_model)):\n",
    "    boost = boosting_model[i]\n",
    "    boost.fit(x_train,y_train)\n",
    "    pred = boost.predict(x_test)\n",
    "    r2Score = r2_score(y_test,pred)\n",
    "    print(\"-----------------------------------------------------------\")\n",
    "    print(boost)\n",
    "    print(\"-----------------------------------------------------------\")\n",
    "    print(\"R2 Score : \", r2Score)\n",
    "    print(\"\\n\")"
   ]
  },
  {
   "cell_type": "markdown",
   "metadata": {},
   "source": [
    "    Out of all the models KNR performed best"
   ]
  },
  {
   "cell_type": "code",
   "execution_count": null,
   "metadata": {},
   "outputs": [],
   "source": [
    "knr.fit(x_train,y_train)\n",
    "y_pred= knr.predict(x_test)\n",
    "r2score = r2_score(y_test,y_pred)\n",
    "print(\"R2 Score for KNeighbor Regressor : \",r2score)\n",
    "print(\"Mean Absolute Error : \" ,mean_absolute_error(y_test,y_pred))\n",
    "print(\"Mean Squared Error : \" ,mean_squared_error(y_test,y_pred))\n",
    "print(\"Root Mean Squared Error : \" ,np.sqrt(mean_squared_error(y_test,y_pred)))"
   ]
  },
  {
   "cell_type": "code",
   "execution_count": null,
   "metadata": {},
   "outputs": [],
   "source": [
    "from sklearn.externals import joblib\n",
    "\n",
    "joblib.dump(knr,'KNRModel.obj')\n",
    "\n",
    "knr_from_joblib = joblib.load('KNRModel.obj')\n",
    "\n",
    "finalOutput = knr_from_joblib.predict(x_test)"
   ]
  },
  {
   "cell_type": "code",
   "execution_count": null,
   "metadata": {},
   "outputs": [],
   "source": [
    "#save final output to a csv file :\n",
    "pd.DataFrame(finalOutput).to_csv(\"Avocado_Regressor_Output.csv\")"
   ]
  },
  {
   "cell_type": "markdown",
   "metadata": {},
   "source": [
    "# Part B : Find the Region "
   ]
  },
  {
   "cell_type": "code",
   "execution_count": null,
   "metadata": {},
   "outputs": [],
   "source": [
    "from sklearn.metrics import confusion_matrix,accuracy_score,classification_report\n",
    "\n",
    "from sklearn.tree import DecisionTreeClassifier\n",
    "from sklearn.neighbors import KNeighborsClassifier\n",
    "from sklearn.svm import SVC"
   ]
  },
  {
   "cell_type": "code",
   "execution_count": null,
   "metadata": {},
   "outputs": [],
   "source": [
    "def calBestRandomStateOf(model):\n",
    "    max_score=0\n",
    "    for i in range(40,100):\n",
    "        x_train,x_test,y_train,y_test = train_test_split(X,Y,test_size=.20,random_state=i)\n",
    "        model.fit(x_train,y_train)\n",
    "        pred = model.predict(x_test)\n",
    "        score = r2_score(y_test,pred)\n",
    "        if score>max_score:\n",
    "            max_score = score\n",
    "            final_state = i\n",
    "\n",
    "    return final_state"
   ]
  },
  {
   "cell_type": "code",
   "execution_count": null,
   "metadata": {},
   "outputs": [],
   "source": [
    "model = [DecisionTreeClassifier(),KNeighborsClassifier()]\n",
    "\n",
    "for i in range(len(model)):\n",
    "    state = calBestRandomStateOf(model[i])\n",
    "    x_train,x_test,y_train,y_test = train_test_split(X,Y,test_size=.20,random_state=state)\n",
    "    model[i].fit(x_train,y_train)\n",
    "    score = model[i].score(x_train,y_train)\n",
    "    y_pred = model[i].predict(x_test)\n",
    "    accuracy = accuracy_score(y_test,y_pred)\n",
    "    classificationReport = classification_report(y_test,y_pred)\n",
    "    confusionMatrix = confusion_matrix(y_test,y_pred)\n",
    "    \n",
    "    print(\"*************************************************************************************\")\n",
    "    print(\"Random State : \",state)\n",
    "    print(\"Score of \",model[i],\" is : \", score)\n",
    "    print(\"Accuracy : \",accuracy*100,\"% \")\n",
    "    #print(\"Classification Report : \\n\")\n",
    "    #print(classificationReport)\n",
    "    #print(\"Confusion Matrix :\\n \")\n",
    "    #print(confusionMatrix)\n",
    "    print(\"*************************************************************************************\")\n"
   ]
  },
  {
   "cell_type": "code",
   "execution_count": null,
   "metadata": {},
   "outputs": [],
   "source": [
    "#Cross Validation :\n",
    "from sklearn.model_selection import cross_val_score\n",
    "\n",
    "model = [DecisionTreeClassifier(),KNeighborsClassifier()]\n",
    "for i in range(len(model)):\n",
    "    cv_score = cross_val_score(model[i],X,Y,cv=4,scoring='accuracy')\n",
    "    print(\"*************************************************************************************\")\n",
    "    print(\"Score for \",model[i],\" : \")\n",
    "    print(\"Score : \", cv_score)\n",
    "    print(\"Mean : \", cv_score.mean())\n",
    "    print(\"Standard Deviation : \", cv_score.std())\n",
    "    print(\"*************************************************************************************\")\n",
    "    print(\"\")"
   ]
  },
  {
   "cell_type": "code",
   "execution_count": null,
   "metadata": {},
   "outputs": [],
   "source": [
    "#GridSearchCV\n",
    "from sklearn.model_selection import GridSearchCV\n",
    "\n",
    "parameters = {'n_neighbors':list(range(1,31)),'weights':['uniform','distance']}\n",
    "\n",
    "gridsearch = GridSearchCV(KNeighborsClassifier(),parameters,n_jobs=-1,pre_dispatch=2)\n",
    "\n",
    "gridsearch.fit(X,Y)\n",
    "gridsearch.best_params_\n",
    "                        "
   ]
  },
  {
   "cell_type": "code",
   "execution_count": null,
   "metadata": {},
   "outputs": [],
   "source": [
    "from sklearn.metrics import mean_absolute_error, mean_squared_error\n",
    "\n",
    "knc = KNeighborsClassifier(n_neighbors=3,weights='distance')\n",
    "x_train,x_test,y_train,y_test = train_test_split(x,y,test_size=.20,random_state = 85)\n",
    "knc.fit(x_train,y_train)\n",
    "score = knc.score(x_train,y_train)\n",
    "print(\"Score for KNeighbors Classifier : \",score)\n",
    "y_pred = knc.predict(x_test)\n",
    "accuracy = accuracy_score(y_test,y_pred)\n",
    "print(\"Accuracy Score for KNC : \",accuracy)\n",
    "print(\"Mean Squared Error : \" ,mean_squared_error(y_test,y_pred))\n",
    "print(\"Mean Absolute Error : \" ,mean_absolute_error(y_test,y_pred))\n",
    "print(\"Root Mean Squared Error : \" ,np.sqrt(mean_squared_error(y_test,y_pred)))"
   ]
  },
  {
   "cell_type": "code",
   "execution_count": null,
   "metadata": {},
   "outputs": [],
   "source": [
    "cv_score = cross_val_score(KNeighborsClassifier(),X,y,cv=4,scoring='accuracy')\n",
    "print(\"*************************************************************************************\")\n",
    "print(\"Score for \",KNeighborsClassifier(),\" : \")\n",
    "print(\"Score : \", cv_score)\n",
    "print(\"Mean : \", cv_score.mean())\n",
    "print(\"Standard Deviation : \", cv_score.std())\n",
    "print(\"*************************************************************************************\")\n",
    "print(\"\")"
   ]
  },
  {
   "cell_type": "code",
   "execution_count": null,
   "metadata": {},
   "outputs": [],
   "source": [
    "ada = ABC(n_estimators=20)\n",
    "gradient = GBC(n_estimators=20)\n",
    "rfc = RFC(n_estimators=20)\n"
   ]
  },
  {
   "cell_type": "code",
   "execution_count": null,
   "metadata": {},
   "outputs": [],
   "source": [
    "#Adaboost Regressor and RandomforestRegressor\n",
    "from sklearn.ensemble import AdaBoostClassifier as ABC\n",
    "from sklearn.ensemble import GradientBoostingClassifier as GBC\n",
    "from sklearn.ensemble import RandomForestClassifier as RFC\n",
    "\n",
    "ada = ABC(n_estimators=20,random_state=41)\n",
    "gradient = GBC(n_estimators=20,random_state=162)\n",
    "rfc = RFC(n_estimators=20,random_state=115)\n",
    "\n",
    "boosting_model = [ada,gradient,rfc]\n",
    "\n",
    "for i in range(len(boosting_model)):\n",
    "    boost = boosting_model[i]\n",
    "    boost.fit(x_train,y_train)\n",
    "    pred = boost.predict(x_test)\n",
    "    accuracyScore = accuracy_score(y_test,pred)\n",
    "    print(\"-----------------------------------------------------------\")\n",
    "    print(boost)\n",
    "    print(\"-----------------------------------------------------------\")\n",
    "    print(\"Accuracy Score : \", accuracyScore)\n",
    "    print(\"\\n\")"
   ]
  },
  {
   "cell_type": "code",
   "execution_count": null,
   "metadata": {},
   "outputs": [],
   "source": [
    "#Final Model :\n",
    "gradient = GBC(n_estimators=20,random_state=162)\n",
    "gradient.fit(x_train,y_train)\n",
    "y_pred= gradient.predict(x_test)\n",
    "accuracy = accuracy_score(y_test,y_pred)\n",
    "print(\"Accuracy Score for SVC : \",accuracy)\n",
    "print(\"Mean Absolute Error : \" ,mean_absolute_error(y_test,y_pred))\n",
    "print(\"Mean Squared Error : \" ,mean_squared_error(y_test,y_pred))\n",
    "print(\"Root Mean Squared Error : \" ,np.sqrt(mean_squared_error(y_test,y_pred)))"
   ]
  },
  {
   "cell_type": "code",
   "execution_count": null,
   "metadata": {},
   "outputs": [],
   "source": [
    "from sklearn.externals import joblib\n",
    "\n",
    "joblib.dump(gradient,'gradientmodel.obj')\n",
    "\n",
    "gradient_from_joblib = joblib.load('gradientmodel.obj')\n",
    "\n",
    "final_output = gradient_from_joblib.predict(x_test)"
   ]
  },
  {
   "cell_type": "code",
   "execution_count": null,
   "metadata": {},
   "outputs": [],
   "source": [
    "#save final output to a csv file :\n",
    "pd.DataFrame(final_output).to_csv(\"Avocado_Classifier_Output.csv\")"
   ]
  }
 ],
 "metadata": {
  "kernelspec": {
   "display_name": "Python 3",
   "language": "python",
   "name": "python3"
  },
  "language_info": {
   "codemirror_mode": {
    "name": "ipython",
    "version": 3
   },
   "file_extension": ".py",
   "mimetype": "text/x-python",
   "name": "python",
   "nbconvert_exporter": "python",
   "pygments_lexer": "ipython3",
   "version": "3.7.6"
  }
 },
 "nbformat": 4,
 "nbformat_minor": 4
}
