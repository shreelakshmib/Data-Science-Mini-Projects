{
 "cells": [
  {
   "cell_type": "raw",
   "metadata": {},
   "source": [
    "Abstract : To predict - a) AveragePrice of Avocado\n",
    "                        b) To find the Region"
   ]
  },
  {
   "cell_type": "code",
   "execution_count": 1,
   "metadata": {},
   "outputs": [],
   "source": [
    "import pandas as pd\n",
    "import numpy as np\n",
    "import seaborn as sns\n",
    "import matplotlib.pyplot as plt\n",
    "import warnings\n",
    "warnings.filterwarnings(\"ignore\")"
   ]
  },
  {
   "cell_type": "code",
   "execution_count": 2,
   "metadata": {},
   "outputs": [],
   "source": [
    "df = pd.read_csv('avocado.csv')"
   ]
  },
  {
   "cell_type": "code",
   "execution_count": 3,
   "metadata": {},
   "outputs": [
    {
     "data": {
      "text/html": [
       "<div>\n",
       "<style scoped>\n",
       "    .dataframe tbody tr th:only-of-type {\n",
       "        vertical-align: middle;\n",
       "    }\n",
       "\n",
       "    .dataframe tbody tr th {\n",
       "        vertical-align: top;\n",
       "    }\n",
       "\n",
       "    .dataframe thead th {\n",
       "        text-align: right;\n",
       "    }\n",
       "</style>\n",
       "<table border=\"1\" class=\"dataframe\">\n",
       "  <thead>\n",
       "    <tr style=\"text-align: right;\">\n",
       "      <th></th>\n",
       "      <th>Unnamed: 0</th>\n",
       "      <th>Date</th>\n",
       "      <th>AveragePrice</th>\n",
       "      <th>Total Volume</th>\n",
       "      <th>4046</th>\n",
       "      <th>4225</th>\n",
       "      <th>4770</th>\n",
       "      <th>Total Bags</th>\n",
       "      <th>Small Bags</th>\n",
       "      <th>Large Bags</th>\n",
       "      <th>XLarge Bags</th>\n",
       "      <th>type</th>\n",
       "      <th>year</th>\n",
       "      <th>region</th>\n",
       "    </tr>\n",
       "  </thead>\n",
       "  <tbody>\n",
       "    <tr>\n",
       "      <th>0</th>\n",
       "      <td>0</td>\n",
       "      <td>2015-12-27</td>\n",
       "      <td>1.33</td>\n",
       "      <td>64236.62</td>\n",
       "      <td>1036.74</td>\n",
       "      <td>54454.85</td>\n",
       "      <td>48.16</td>\n",
       "      <td>8696.87</td>\n",
       "      <td>8603.62</td>\n",
       "      <td>93.25</td>\n",
       "      <td>0.0</td>\n",
       "      <td>conventional</td>\n",
       "      <td>2015</td>\n",
       "      <td>Albany</td>\n",
       "    </tr>\n",
       "    <tr>\n",
       "      <th>1</th>\n",
       "      <td>1</td>\n",
       "      <td>2015-12-20</td>\n",
       "      <td>1.35</td>\n",
       "      <td>54876.98</td>\n",
       "      <td>674.28</td>\n",
       "      <td>44638.81</td>\n",
       "      <td>58.33</td>\n",
       "      <td>9505.56</td>\n",
       "      <td>9408.07</td>\n",
       "      <td>97.49</td>\n",
       "      <td>0.0</td>\n",
       "      <td>conventional</td>\n",
       "      <td>2015</td>\n",
       "      <td>Albany</td>\n",
       "    </tr>\n",
       "    <tr>\n",
       "      <th>2</th>\n",
       "      <td>2</td>\n",
       "      <td>2015-12-13</td>\n",
       "      <td>0.93</td>\n",
       "      <td>118220.22</td>\n",
       "      <td>794.70</td>\n",
       "      <td>109149.67</td>\n",
       "      <td>130.50</td>\n",
       "      <td>8145.35</td>\n",
       "      <td>8042.21</td>\n",
       "      <td>103.14</td>\n",
       "      <td>0.0</td>\n",
       "      <td>conventional</td>\n",
       "      <td>2015</td>\n",
       "      <td>Albany</td>\n",
       "    </tr>\n",
       "    <tr>\n",
       "      <th>3</th>\n",
       "      <td>3</td>\n",
       "      <td>2015-12-06</td>\n",
       "      <td>1.08</td>\n",
       "      <td>78992.15</td>\n",
       "      <td>1132.00</td>\n",
       "      <td>71976.41</td>\n",
       "      <td>72.58</td>\n",
       "      <td>5811.16</td>\n",
       "      <td>5677.40</td>\n",
       "      <td>133.76</td>\n",
       "      <td>0.0</td>\n",
       "      <td>conventional</td>\n",
       "      <td>2015</td>\n",
       "      <td>Albany</td>\n",
       "    </tr>\n",
       "    <tr>\n",
       "      <th>4</th>\n",
       "      <td>4</td>\n",
       "      <td>2015-11-29</td>\n",
       "      <td>1.28</td>\n",
       "      <td>51039.60</td>\n",
       "      <td>941.48</td>\n",
       "      <td>43838.39</td>\n",
       "      <td>75.78</td>\n",
       "      <td>6183.95</td>\n",
       "      <td>5986.26</td>\n",
       "      <td>197.69</td>\n",
       "      <td>0.0</td>\n",
       "      <td>conventional</td>\n",
       "      <td>2015</td>\n",
       "      <td>Albany</td>\n",
       "    </tr>\n",
       "  </tbody>\n",
       "</table>\n",
       "</div>"
      ],
      "text/plain": [
       "   Unnamed: 0        Date  AveragePrice  Total Volume     4046       4225  \\\n",
       "0           0  2015-12-27          1.33      64236.62  1036.74   54454.85   \n",
       "1           1  2015-12-20          1.35      54876.98   674.28   44638.81   \n",
       "2           2  2015-12-13          0.93     118220.22   794.70  109149.67   \n",
       "3           3  2015-12-06          1.08      78992.15  1132.00   71976.41   \n",
       "4           4  2015-11-29          1.28      51039.60   941.48   43838.39   \n",
       "\n",
       "     4770  Total Bags  Small Bags  Large Bags  XLarge Bags          type  \\\n",
       "0   48.16     8696.87     8603.62       93.25          0.0  conventional   \n",
       "1   58.33     9505.56     9408.07       97.49          0.0  conventional   \n",
       "2  130.50     8145.35     8042.21      103.14          0.0  conventional   \n",
       "3   72.58     5811.16     5677.40      133.76          0.0  conventional   \n",
       "4   75.78     6183.95     5986.26      197.69          0.0  conventional   \n",
       "\n",
       "   year  region  \n",
       "0  2015  Albany  \n",
       "1  2015  Albany  \n",
       "2  2015  Albany  \n",
       "3  2015  Albany  \n",
       "4  2015  Albany  "
      ]
     },
     "execution_count": 3,
     "metadata": {},
     "output_type": "execute_result"
    }
   ],
   "source": [
    "df.head()"
   ]
  },
  {
   "cell_type": "code",
   "execution_count": 4,
   "metadata": {},
   "outputs": [
    {
     "name": "stdout",
     "output_type": "stream",
     "text": [
      "<class 'pandas.core.frame.DataFrame'>\n",
      "RangeIndex: 18249 entries, 0 to 18248\n",
      "Data columns (total 14 columns):\n",
      " #   Column        Non-Null Count  Dtype  \n",
      "---  ------        --------------  -----  \n",
      " 0   Unnamed: 0    18249 non-null  int64  \n",
      " 1   Date          18249 non-null  object \n",
      " 2   AveragePrice  18249 non-null  float64\n",
      " 3   Total Volume  18249 non-null  float64\n",
      " 4   4046          18249 non-null  float64\n",
      " 5   4225          18249 non-null  float64\n",
      " 6   4770          18249 non-null  float64\n",
      " 7   Total Bags    18249 non-null  float64\n",
      " 8   Small Bags    18249 non-null  float64\n",
      " 9   Large Bags    18249 non-null  float64\n",
      " 10  XLarge Bags   18249 non-null  float64\n",
      " 11  type          18249 non-null  object \n",
      " 12  year          18249 non-null  int64  \n",
      " 13  region        18249 non-null  object \n",
      "dtypes: float64(9), int64(2), object(3)\n",
      "memory usage: 1.9+ MB\n"
     ]
    }
   ],
   "source": [
    "df.info()"
   ]
  },
  {
   "cell_type": "code",
   "execution_count": 5,
   "metadata": {},
   "outputs": [
    {
     "data": {
      "text/html": [
       "<div>\n",
       "<style scoped>\n",
       "    .dataframe tbody tr th:only-of-type {\n",
       "        vertical-align: middle;\n",
       "    }\n",
       "\n",
       "    .dataframe tbody tr th {\n",
       "        vertical-align: top;\n",
       "    }\n",
       "\n",
       "    .dataframe thead th {\n",
       "        text-align: right;\n",
       "    }\n",
       "</style>\n",
       "<table border=\"1\" class=\"dataframe\">\n",
       "  <thead>\n",
       "    <tr style=\"text-align: right;\">\n",
       "      <th></th>\n",
       "      <th>Unnamed: 0</th>\n",
       "      <th>AveragePrice</th>\n",
       "      <th>Total Volume</th>\n",
       "      <th>4046</th>\n",
       "      <th>4225</th>\n",
       "      <th>4770</th>\n",
       "      <th>Total Bags</th>\n",
       "      <th>Small Bags</th>\n",
       "      <th>Large Bags</th>\n",
       "      <th>XLarge Bags</th>\n",
       "      <th>year</th>\n",
       "    </tr>\n",
       "  </thead>\n",
       "  <tbody>\n",
       "    <tr>\n",
       "      <th>count</th>\n",
       "      <td>18249.000000</td>\n",
       "      <td>18249.000000</td>\n",
       "      <td>1.824900e+04</td>\n",
       "      <td>1.824900e+04</td>\n",
       "      <td>1.824900e+04</td>\n",
       "      <td>1.824900e+04</td>\n",
       "      <td>1.824900e+04</td>\n",
       "      <td>1.824900e+04</td>\n",
       "      <td>1.824900e+04</td>\n",
       "      <td>18249.000000</td>\n",
       "      <td>18249.000000</td>\n",
       "    </tr>\n",
       "    <tr>\n",
       "      <th>mean</th>\n",
       "      <td>24.232232</td>\n",
       "      <td>1.405978</td>\n",
       "      <td>8.506440e+05</td>\n",
       "      <td>2.930084e+05</td>\n",
       "      <td>2.951546e+05</td>\n",
       "      <td>2.283974e+04</td>\n",
       "      <td>2.396392e+05</td>\n",
       "      <td>1.821947e+05</td>\n",
       "      <td>5.433809e+04</td>\n",
       "      <td>3106.426507</td>\n",
       "      <td>2016.147899</td>\n",
       "    </tr>\n",
       "    <tr>\n",
       "      <th>std</th>\n",
       "      <td>15.481045</td>\n",
       "      <td>0.402677</td>\n",
       "      <td>3.453545e+06</td>\n",
       "      <td>1.264989e+06</td>\n",
       "      <td>1.204120e+06</td>\n",
       "      <td>1.074641e+05</td>\n",
       "      <td>9.862424e+05</td>\n",
       "      <td>7.461785e+05</td>\n",
       "      <td>2.439660e+05</td>\n",
       "      <td>17692.894652</td>\n",
       "      <td>0.939938</td>\n",
       "    </tr>\n",
       "    <tr>\n",
       "      <th>min</th>\n",
       "      <td>0.000000</td>\n",
       "      <td>0.440000</td>\n",
       "      <td>8.456000e+01</td>\n",
       "      <td>0.000000e+00</td>\n",
       "      <td>0.000000e+00</td>\n",
       "      <td>0.000000e+00</td>\n",
       "      <td>0.000000e+00</td>\n",
       "      <td>0.000000e+00</td>\n",
       "      <td>0.000000e+00</td>\n",
       "      <td>0.000000</td>\n",
       "      <td>2015.000000</td>\n",
       "    </tr>\n",
       "    <tr>\n",
       "      <th>25%</th>\n",
       "      <td>10.000000</td>\n",
       "      <td>1.100000</td>\n",
       "      <td>1.083858e+04</td>\n",
       "      <td>8.540700e+02</td>\n",
       "      <td>3.008780e+03</td>\n",
       "      <td>0.000000e+00</td>\n",
       "      <td>5.088640e+03</td>\n",
       "      <td>2.849420e+03</td>\n",
       "      <td>1.274700e+02</td>\n",
       "      <td>0.000000</td>\n",
       "      <td>2015.000000</td>\n",
       "    </tr>\n",
       "    <tr>\n",
       "      <th>50%</th>\n",
       "      <td>24.000000</td>\n",
       "      <td>1.370000</td>\n",
       "      <td>1.073768e+05</td>\n",
       "      <td>8.645300e+03</td>\n",
       "      <td>2.906102e+04</td>\n",
       "      <td>1.849900e+02</td>\n",
       "      <td>3.974383e+04</td>\n",
       "      <td>2.636282e+04</td>\n",
       "      <td>2.647710e+03</td>\n",
       "      <td>0.000000</td>\n",
       "      <td>2016.000000</td>\n",
       "    </tr>\n",
       "    <tr>\n",
       "      <th>75%</th>\n",
       "      <td>38.000000</td>\n",
       "      <td>1.660000</td>\n",
       "      <td>4.329623e+05</td>\n",
       "      <td>1.110202e+05</td>\n",
       "      <td>1.502069e+05</td>\n",
       "      <td>6.243420e+03</td>\n",
       "      <td>1.107834e+05</td>\n",
       "      <td>8.333767e+04</td>\n",
       "      <td>2.202925e+04</td>\n",
       "      <td>132.500000</td>\n",
       "      <td>2017.000000</td>\n",
       "    </tr>\n",
       "    <tr>\n",
       "      <th>max</th>\n",
       "      <td>52.000000</td>\n",
       "      <td>3.250000</td>\n",
       "      <td>6.250565e+07</td>\n",
       "      <td>2.274362e+07</td>\n",
       "      <td>2.047057e+07</td>\n",
       "      <td>2.546439e+06</td>\n",
       "      <td>1.937313e+07</td>\n",
       "      <td>1.338459e+07</td>\n",
       "      <td>5.719097e+06</td>\n",
       "      <td>551693.650000</td>\n",
       "      <td>2018.000000</td>\n",
       "    </tr>\n",
       "  </tbody>\n",
       "</table>\n",
       "</div>"
      ],
      "text/plain": [
       "         Unnamed: 0  AveragePrice  Total Volume          4046          4225  \\\n",
       "count  18249.000000  18249.000000  1.824900e+04  1.824900e+04  1.824900e+04   \n",
       "mean      24.232232      1.405978  8.506440e+05  2.930084e+05  2.951546e+05   \n",
       "std       15.481045      0.402677  3.453545e+06  1.264989e+06  1.204120e+06   \n",
       "min        0.000000      0.440000  8.456000e+01  0.000000e+00  0.000000e+00   \n",
       "25%       10.000000      1.100000  1.083858e+04  8.540700e+02  3.008780e+03   \n",
       "50%       24.000000      1.370000  1.073768e+05  8.645300e+03  2.906102e+04   \n",
       "75%       38.000000      1.660000  4.329623e+05  1.110202e+05  1.502069e+05   \n",
       "max       52.000000      3.250000  6.250565e+07  2.274362e+07  2.047057e+07   \n",
       "\n",
       "               4770    Total Bags    Small Bags    Large Bags    XLarge Bags  \\\n",
       "count  1.824900e+04  1.824900e+04  1.824900e+04  1.824900e+04   18249.000000   \n",
       "mean   2.283974e+04  2.396392e+05  1.821947e+05  5.433809e+04    3106.426507   \n",
       "std    1.074641e+05  9.862424e+05  7.461785e+05  2.439660e+05   17692.894652   \n",
       "min    0.000000e+00  0.000000e+00  0.000000e+00  0.000000e+00       0.000000   \n",
       "25%    0.000000e+00  5.088640e+03  2.849420e+03  1.274700e+02       0.000000   \n",
       "50%    1.849900e+02  3.974383e+04  2.636282e+04  2.647710e+03       0.000000   \n",
       "75%    6.243420e+03  1.107834e+05  8.333767e+04  2.202925e+04     132.500000   \n",
       "max    2.546439e+06  1.937313e+07  1.338459e+07  5.719097e+06  551693.650000   \n",
       "\n",
       "               year  \n",
       "count  18249.000000  \n",
       "mean    2016.147899  \n",
       "std        0.939938  \n",
       "min     2015.000000  \n",
       "25%     2015.000000  \n",
       "50%     2016.000000  \n",
       "75%     2017.000000  \n",
       "max     2018.000000  "
      ]
     },
     "execution_count": 5,
     "metadata": {},
     "output_type": "execute_result"
    }
   ],
   "source": [
    "df.describe()"
   ]
  },
  {
   "cell_type": "markdown",
   "metadata": {},
   "source": [
    "    1. Column Unnamed can be dropped as it does not provide any value for the analysis.\n",
    "    2. There may be some outliers present as there is wide gap between 75% and max values in most of the columns.\n",
    "    3. We need to scale the dataset as range varies for each column.\n",
    "    4. We can also drop date column."
   ]
  },
  {
   "cell_type": "code",
   "execution_count": 6,
   "metadata": {},
   "outputs": [
    {
     "data": {
      "text/plain": [
       "Index(['Unnamed: 0', 'Date', 'AveragePrice', 'Total Volume', '4046', '4225',\n",
       "       '4770', 'Total Bags', 'Small Bags', 'Large Bags', 'XLarge Bags', 'type',\n",
       "       'year', 'region'],\n",
       "      dtype='object')"
      ]
     },
     "execution_count": 6,
     "metadata": {},
     "output_type": "execute_result"
    }
   ],
   "source": [
    "df.columns"
   ]
  },
  {
   "cell_type": "code",
   "execution_count": 7,
   "metadata": {},
   "outputs": [
    {
     "data": {
      "text/plain": [
       "0.00        12048\n",
       "3.33           29\n",
       "6.67           16\n",
       "1.11           15\n",
       "5.00           12\n",
       "            ...  \n",
       "36.39           1\n",
       "29342.75        1\n",
       "724.83          1\n",
       "7415.42         1\n",
       "118.86          1\n",
       "Name: XLarge Bags, Length: 5588, dtype: int64"
      ]
     },
     "execution_count": 7,
     "metadata": {},
     "output_type": "execute_result"
    }
   ],
   "source": [
    "#We can see that more than 60% of the data in this column has value as 0, hence we can drop this column.\n",
    "df['XLarge Bags'].value_counts()"
   ]
  },
  {
   "cell_type": "markdown",
   "metadata": {},
   "source": [
    "# Data Visualization"
   ]
  },
  {
   "cell_type": "code",
   "execution_count": 8,
   "metadata": {},
   "outputs": [
    {
     "data": {
      "text/html": [
       "<div>\n",
       "<style scoped>\n",
       "    .dataframe tbody tr th:only-of-type {\n",
       "        vertical-align: middle;\n",
       "    }\n",
       "\n",
       "    .dataframe tbody tr th {\n",
       "        vertical-align: top;\n",
       "    }\n",
       "\n",
       "    .dataframe thead th {\n",
       "        text-align: right;\n",
       "    }\n",
       "</style>\n",
       "<table border=\"1\" class=\"dataframe\">\n",
       "  <thead>\n",
       "    <tr style=\"text-align: right;\">\n",
       "      <th></th>\n",
       "      <th>Unnamed: 0</th>\n",
       "      <th>Date</th>\n",
       "      <th>AveragePrice</th>\n",
       "      <th>Total Volume</th>\n",
       "      <th>4046</th>\n",
       "      <th>4225</th>\n",
       "      <th>4770</th>\n",
       "      <th>Total Bags</th>\n",
       "      <th>Small Bags</th>\n",
       "      <th>Large Bags</th>\n",
       "      <th>XLarge Bags</th>\n",
       "      <th>type</th>\n",
       "      <th>year</th>\n",
       "      <th>region</th>\n",
       "    </tr>\n",
       "  </thead>\n",
       "  <tbody>\n",
       "    <tr>\n",
       "      <th>0</th>\n",
       "      <td>0</td>\n",
       "      <td>2015-12-27</td>\n",
       "      <td>1.33</td>\n",
       "      <td>64236.62</td>\n",
       "      <td>1036.74</td>\n",
       "      <td>54454.85</td>\n",
       "      <td>48.16</td>\n",
       "      <td>8696.87</td>\n",
       "      <td>8603.62</td>\n",
       "      <td>93.25</td>\n",
       "      <td>0.0</td>\n",
       "      <td>conventional</td>\n",
       "      <td>2015</td>\n",
       "      <td>Albany</td>\n",
       "    </tr>\n",
       "    <tr>\n",
       "      <th>1</th>\n",
       "      <td>1</td>\n",
       "      <td>2015-12-20</td>\n",
       "      <td>1.35</td>\n",
       "      <td>54876.98</td>\n",
       "      <td>674.28</td>\n",
       "      <td>44638.81</td>\n",
       "      <td>58.33</td>\n",
       "      <td>9505.56</td>\n",
       "      <td>9408.07</td>\n",
       "      <td>97.49</td>\n",
       "      <td>0.0</td>\n",
       "      <td>conventional</td>\n",
       "      <td>2015</td>\n",
       "      <td>Albany</td>\n",
       "    </tr>\n",
       "    <tr>\n",
       "      <th>2</th>\n",
       "      <td>2</td>\n",
       "      <td>2015-12-13</td>\n",
       "      <td>0.93</td>\n",
       "      <td>118220.22</td>\n",
       "      <td>794.70</td>\n",
       "      <td>109149.67</td>\n",
       "      <td>130.50</td>\n",
       "      <td>8145.35</td>\n",
       "      <td>8042.21</td>\n",
       "      <td>103.14</td>\n",
       "      <td>0.0</td>\n",
       "      <td>conventional</td>\n",
       "      <td>2015</td>\n",
       "      <td>Albany</td>\n",
       "    </tr>\n",
       "    <tr>\n",
       "      <th>3</th>\n",
       "      <td>3</td>\n",
       "      <td>2015-12-06</td>\n",
       "      <td>1.08</td>\n",
       "      <td>78992.15</td>\n",
       "      <td>1132.00</td>\n",
       "      <td>71976.41</td>\n",
       "      <td>72.58</td>\n",
       "      <td>5811.16</td>\n",
       "      <td>5677.40</td>\n",
       "      <td>133.76</td>\n",
       "      <td>0.0</td>\n",
       "      <td>conventional</td>\n",
       "      <td>2015</td>\n",
       "      <td>Albany</td>\n",
       "    </tr>\n",
       "    <tr>\n",
       "      <th>4</th>\n",
       "      <td>4</td>\n",
       "      <td>2015-11-29</td>\n",
       "      <td>1.28</td>\n",
       "      <td>51039.60</td>\n",
       "      <td>941.48</td>\n",
       "      <td>43838.39</td>\n",
       "      <td>75.78</td>\n",
       "      <td>6183.95</td>\n",
       "      <td>5986.26</td>\n",
       "      <td>197.69</td>\n",
       "      <td>0.0</td>\n",
       "      <td>conventional</td>\n",
       "      <td>2015</td>\n",
       "      <td>Albany</td>\n",
       "    </tr>\n",
       "  </tbody>\n",
       "</table>\n",
       "</div>"
      ],
      "text/plain": [
       "   Unnamed: 0        Date  AveragePrice  Total Volume     4046       4225  \\\n",
       "0           0  2015-12-27          1.33      64236.62  1036.74   54454.85   \n",
       "1           1  2015-12-20          1.35      54876.98   674.28   44638.81   \n",
       "2           2  2015-12-13          0.93     118220.22   794.70  109149.67   \n",
       "3           3  2015-12-06          1.08      78992.15  1132.00   71976.41   \n",
       "4           4  2015-11-29          1.28      51039.60   941.48   43838.39   \n",
       "\n",
       "     4770  Total Bags  Small Bags  Large Bags  XLarge Bags          type  \\\n",
       "0   48.16     8696.87     8603.62       93.25          0.0  conventional   \n",
       "1   58.33     9505.56     9408.07       97.49          0.0  conventional   \n",
       "2  130.50     8145.35     8042.21      103.14          0.0  conventional   \n",
       "3   72.58     5811.16     5677.40      133.76          0.0  conventional   \n",
       "4   75.78     6183.95     5986.26      197.69          0.0  conventional   \n",
       "\n",
       "   year  region  \n",
       "0  2015  Albany  \n",
       "1  2015  Albany  \n",
       "2  2015  Albany  \n",
       "3  2015  Albany  \n",
       "4  2015  Albany  "
      ]
     },
     "execution_count": 8,
     "metadata": {},
     "output_type": "execute_result"
    }
   ],
   "source": [
    "df.head()"
   ]
  },
  {
   "cell_type": "code",
   "execution_count": 9,
   "metadata": {},
   "outputs": [
    {
     "data": {
      "text/plain": [
       "<matplotlib.axes._subplots.AxesSubplot at 0x2326817b388>"
      ]
     },
     "execution_count": 9,
     "metadata": {},
     "output_type": "execute_result"
    },
    {
     "data": {
      "image/png": "[encoded data removed]",
      "text/plain": [
       "<Figure size 432x288 with 1 Axes>"
      ]
     },
     "metadata": {
      "needs_background": "light"
     },
     "output_type": "display_data"
    }
   ],
   "source": [
    "sns.distplot(df['AveragePrice'])"
   ]
  },
  {
   "cell_type": "markdown",
   "metadata": {},
   "source": [
    "    Average price of Avocados ranges between 0.5 and 3.0"
   ]
  },
  {
   "cell_type": "code",
   "execution_count": 10,
   "metadata": {},
   "outputs": [
    {
     "data": {
      "text/plain": [
       "<matplotlib.axes._subplots.AxesSubplot at 0x23268aeeb48>"
      ]
     },
     "execution_count": 10,
     "metadata": {},
     "output_type": "execute_result"
    },
    {
     "data": {
      "image/png": "[encoded data removed]",
      "text/plain": [
       "<Figure size 432x288 with 1 Axes>"
      ]
     },
     "metadata": {
      "needs_background": "light"
     },
     "output_type": "display_data"
    }
   ],
   "source": [
    "sns.countplot(df['type'])"
   ]
  },
  {
   "cell_type": "markdown",
   "metadata": {},
   "source": [
    "      Two types of avocados are grown - conventional and oragnic."
   ]
  },
  {
   "cell_type": "code",
   "execution_count": 11,
   "metadata": {},
   "outputs": [
    {
     "data": {
      "text/plain": [
       "<matplotlib.axes._subplots.AxesSubplot at 0x23268b455c8>"
      ]
     },
     "execution_count": 11,
     "metadata": {},
     "output_type": "execute_result"
    },
    {
     "data": {
      "image/png": "[encoded data removed]",
      "text/plain": [
       "<Figure size 432x288 with 2 Axes>"
      ]
     },
     "metadata": {
      "needs_background": "light"
     },
     "output_type": "display_data"
    }
   ],
   "source": [
    "sns.heatmap(df.isnull())"
   ]
  },
  {
   "cell_type": "markdown",
   "metadata": {},
   "source": [
    "    No null values."
   ]
  },
  {
   "cell_type": "markdown",
   "metadata": {},
   "source": [
    "# Data Manipulation"
   ]
  },
  {
   "cell_type": "code",
   "execution_count": 12,
   "metadata": {},
   "outputs": [],
   "source": [
    "df.drop('Unnamed: 0',axis=1,inplace=True)\n",
    "df.drop('Date',axis=1,inplace=True)\n",
    "df.drop('XLarge Bags',axis=1,inplace=True)\n"
   ]
  },
  {
   "cell_type": "code",
   "execution_count": 13,
   "metadata": {},
   "outputs": [],
   "source": [
    "#Move AveragePrice column to the end :\n",
    "df = df[[c for c in df if c not in ['AveragePrice']] + ['AveragePrice']] "
   ]
  },
  {
   "cell_type": "code",
   "execution_count": 14,
   "metadata": {},
   "outputs": [
    {
     "name": "stdout",
     "output_type": "stream",
     "text": [
      "<class 'pandas.core.frame.DataFrame'>\n",
      "RangeIndex: 18249 entries, 0 to 18248\n",
      "Data columns (total 11 columns):\n",
      " #   Column        Non-Null Count  Dtype  \n",
      "---  ------        --------------  -----  \n",
      " 0   Total Volume  18249 non-null  float64\n",
      " 1   4046          18249 non-null  float64\n",
      " 2   4225          18249 non-null  float64\n",
      " 3   4770          18249 non-null  float64\n",
      " 4   Total Bags    18249 non-null  float64\n",
      " 5   Small Bags    18249 non-null  float64\n",
      " 6   Large Bags    18249 non-null  float64\n",
      " 7   type          18249 non-null  int32  \n",
      " 8   year          18249 non-null  int64  \n",
      " 9   region        18249 non-null  int32  \n",
      " 10  AveragePrice  18249 non-null  float64\n",
      "dtypes: float64(8), int32(2), int64(1)\n",
      "memory usage: 1.4 MB\n"
     ]
    }
   ],
   "source": [
    "#Encode the columns :\n",
    "from sklearn.preprocessing import LabelEncoder\n",
    "\n",
    "cols = ['type','region']\n",
    "for each in cols:\n",
    "    encoder = LabelEncoder()\n",
    "    df[each] = encoder.fit_transform(df[each])\n",
    "df.info()"
   ]
  },
  {
   "cell_type": "code",
   "execution_count": 15,
   "metadata": {},
   "outputs": [
    {
     "data": {
      "text/plain": [
       "<matplotlib.axes._subplots.AxesSubplot at 0x23268dade48>"
      ]
     },
     "execution_count": 15,
     "metadata": {},
     "output_type": "execute_result"
    },
    {
     "data": {
      "image/png": "[encoded data removed]",
      "text/plain": [
       "<Figure size 720x720 with 2 Axes>"
      ]
     },
     "metadata": {
      "needs_background": "light"
     },
     "output_type": "display_data"
    }
   ],
   "source": [
    "#Find correlation between variables :\n",
    "corr = df.corr()\n",
    "plt.figure(figsize=(10,10))\n",
    "sns.heatmap(corr,annot=True)"
   ]
  },
  {
   "cell_type": "markdown",
   "metadata": {},
   "source": [
    "    1. column type,year are positively related to target variable average price.\n",
    "    2. Bag sizes and avocado types are positively related to target variable region."
   ]
  },
  {
   "cell_type": "code",
   "execution_count": 16,
   "metadata": {},
   "outputs": [
    {
     "data": {
      "image/png": "[encoded data removed]",
      "text/plain": [
       "<Figure size 1440x1440 with 11 Axes>"
      ]
     },
     "metadata": {
      "needs_background": "light"
     },
     "output_type": "display_data"
    }
   ],
   "source": [
    "#Check for skewness\n",
    "col = df.columns.values\n",
    "plt.figure(figsize=(20,20))\n",
    "for i in range(0,len(col)):\n",
    "    plt.subplot(11,5,i+1)\n",
    "    sns.distplot(df[col[i]],color='red')\n",
    "plt.show()"
   ]
  },
  {
   "cell_type": "code",
   "execution_count": 17,
   "metadata": {},
   "outputs": [
    {
     "data": {
      "image/png": "[encoded data removed]",
      "text/plain": [
       "<Figure size 720x1440 with 11 Axes>"
      ]
     },
     "metadata": {
      "needs_background": "light"
     },
     "output_type": "display_data"
    }
   ],
   "source": [
    "#Check for outliers :\n",
    "plt.figure(figsize=(10,20))\n",
    "for i in range(0,len(col)):\n",
    "    plt.subplot(10,5,i+1)\n",
    "    sns.boxplot(df[col[i]],palette='rocket',orient='v')\n",
    "    plt.tight_layout()"
   ]
  },
  {
   "cell_type": "markdown",
   "metadata": {},
   "source": [
    "    Many outliers are present."
   ]
  },
  {
   "cell_type": "code",
   "execution_count": 18,
   "metadata": {},
   "outputs": [
    {
     "name": "stdout",
     "output_type": "stream",
     "text": [
      "(array([  346,   359,   783, ..., 17304, 17402, 17428], dtype=int64), array([ 1,  1,  3, ..., 10, 10, 10], dtype=int64))\n"
     ]
    }
   ],
   "source": [
    "#Use z-score to remove outliers :\n",
    "from scipy.stats import zscore\n",
    "#data.info()\n",
    "z=np.abs(zscore(df))\n",
    "print(np.where(z>3))\n",
    "#new df with no outliers.\n",
    "df_new = df[(z<3).all(axis=1)]"
   ]
  },
  {
   "cell_type": "code",
   "execution_count": 19,
   "metadata": {},
   "outputs": [
    {
     "name": "stdout",
     "output_type": "stream",
     "text": [
      "(18249, 11) \t (17736, 11)\n"
     ]
    }
   ],
   "source": [
    "print(df.shape,\"\\t\",df_new.shape)"
   ]
  },
  {
   "cell_type": "code",
   "execution_count": 20,
   "metadata": {},
   "outputs": [],
   "source": [
    "from sklearn.model_selection import train_test_split\n",
    "\n",
    "#Features where AveragePrice is the target variable\n",
    "x = df_new.drop('AveragePrice',axis=1)\n",
    "y = df_new.iloc[:,-1:]\n",
    "\n",
    "#Features where region is the target variable.\n",
    "X = df_new.drop('region',axis=1)\n",
    "Y = df_new.iloc[:,-2:-1]"
   ]
  },
  {
   "cell_type": "code",
   "execution_count": 21,
   "metadata": {},
   "outputs": [
    {
     "data": {
      "text/plain": [
       "Total Volume    3.668336\n",
       "4046            4.702134\n",
       "4225            4.305257\n",
       "4770            4.972602\n",
       "Total Bags      3.979019\n",
       "Small Bags      4.217194\n",
       "Large Bags      4.939150\n",
       "type           -0.027971\n",
       "year            0.225579\n",
       "region          0.015564\n",
       "dtype: float64"
      ]
     },
     "execution_count": 21,
     "metadata": {},
     "output_type": "execute_result"
    }
   ],
   "source": [
    "#Check for skewness for both independent variables.\n",
    "x.skew()"
   ]
  },
  {
   "cell_type": "code",
   "execution_count": 22,
   "metadata": {},
   "outputs": [
    {
     "data": {
      "text/plain": [
       "Total Volume    3.668336\n",
       "4046            4.702134\n",
       "4225            4.305257\n",
       "4770            4.972602\n",
       "Total Bags      3.979019\n",
       "Small Bags      4.217194\n",
       "Large Bags      4.939150\n",
       "type           -0.027971\n",
       "year            0.225579\n",
       "AveragePrice    0.382151\n",
       "dtype: float64"
      ]
     },
     "execution_count": 22,
     "metadata": {},
     "output_type": "execute_result"
    }
   ],
   "source": [
    "X.skew()"
   ]
  },
  {
   "cell_type": "code",
   "execution_count": 23,
   "metadata": {},
   "outputs": [],
   "source": [
    "#To remove skewness :\n",
    "from sklearn.preprocessing import PowerTransformer\n",
    "\n",
    "pt = PowerTransformer('yeo-johnson')\n",
    "X = pd.DataFrame(pt.fit_transform(X))\n",
    "x = pd.DataFrame(pt.fit_transform(x))"
   ]
  },
  {
   "cell_type": "code",
   "execution_count": 24,
   "metadata": {},
   "outputs": [
    {
     "data": {
      "text/plain": [
       "0   -0.007418\n",
       "1   -0.038752\n",
       "2   -0.044355\n",
       "3    0.023088\n",
       "4   -0.020681\n",
       "5   -0.022020\n",
       "6   -0.110487\n",
       "7   -0.027971\n",
       "8    0.223316\n",
       "9   -0.256886\n",
       "dtype: float64"
      ]
     },
     "execution_count": 24,
     "metadata": {},
     "output_type": "execute_result"
    }
   ],
   "source": [
    "x.skew()"
   ]
  },
  {
   "cell_type": "code",
   "execution_count": 25,
   "metadata": {},
   "outputs": [
    {
     "data": {
      "text/plain": [
       "0   -0.007418\n",
       "1   -0.038752\n",
       "2   -0.044355\n",
       "3    0.023088\n",
       "4   -0.020681\n",
       "5   -0.022020\n",
       "6   -0.110487\n",
       "7   -0.027971\n",
       "8    0.223316\n",
       "9    0.000733\n",
       "dtype: float64"
      ]
     },
     "execution_count": 25,
     "metadata": {},
     "output_type": "execute_result"
    }
   ],
   "source": [
    "X.skew()"
   ]
  },
  {
   "cell_type": "markdown",
   "metadata": {},
   "source": [
    "# PART A - Predict Average Price"
   ]
  },
  {
   "cell_type": "code",
   "execution_count": 26,
   "metadata": {},
   "outputs": [],
   "source": [
    "from sklearn.metrics import r2_score,mean_absolute_error, mean_squared_error\n",
    "\n",
    "from sklearn.linear_model import LinearRegression as LR\n",
    "from sklearn.tree import DecisionTreeRegressor as DTR\n",
    "from sklearn.svm import SVR\n",
    "from sklearn.neighbors import KNeighborsRegressor as KNR\n",
    "from sklearn.linear_model import Lasso,Ridge,ElasticNet"
   ]
  },
  {
   "cell_type": "code",
   "execution_count": 27,
   "metadata": {},
   "outputs": [
    {
     "name": "stdout",
     "output_type": "stream",
     "text": [
      "*************************************************************************************\n",
      "LinearRegression(copy_X=True, fit_intercept=True, n_jobs=None, normalize=False)\n",
      "R2 Score :  0.541283094753503\n",
      "Mean Absolute Error :  0.20846503093664193\n",
      "Mean Squared Error :  0.07031447145982116\n",
      "Root Mean Squared Error :  0.26516876033918696\n",
      "\n",
      "*************************************************************************************\n",
      "*************************************************************************************\n",
      "DecisionTreeRegressor(ccp_alpha=0.0, criterion='mse', max_depth=None,\n",
      "                      max_features=None, max_leaf_nodes=None,\n",
      "                      min_impurity_decrease=0.0, min_impurity_split=None,\n",
      "                      min_samples_leaf=1, min_samples_split=2,\n",
      "                      min_weight_fraction_leaf=0.0, presort='deprecated',\n",
      "                      random_state=None, splitter='best')\n",
      "R2 Score :  0.6761963852684387\n",
      "Mean Absolute Error :  0.14583990980834274\n",
      "Mean Squared Error :  0.049634272829763244\n",
      "Root Mean Squared Error :  0.22278750600014186\n",
      "\n",
      "*************************************************************************************\n",
      "*************************************************************************************\n",
      "KNeighborsRegressor(algorithm='auto', leaf_size=30, metric='minkowski',\n",
      "                    metric_params=None, n_jobs=None, n_neighbors=5, p=2,\n",
      "                    weights='uniform')\n",
      "R2 Score :  0.8487477111859385\n",
      "Mean Absolute Error :  0.10702254791431792\n",
      "Mean Squared Error :  0.023184723788049606\n",
      "Root Mean Squared Error :  0.1522653072372351\n",
      "\n",
      "*************************************************************************************\n",
      "*************************************************************************************\n",
      "SVR(C=1.0, cache_size=200, coef0=0.0, degree=3, epsilon=0.1, gamma='scale',\n",
      "    kernel='rbf', max_iter=-1, shrinking=True, tol=0.001, verbose=False)\n",
      "R2 Score :  0.7247029454476459\n",
      "Mean Absolute Error :  0.15147539705341678\n",
      "Mean Squared Error :  0.04219893939791127\n",
      "Root Mean Squared Error :  0.2054238043604277\n",
      "\n",
      "*************************************************************************************\n",
      "*************************************************************************************\n",
      "Lasso(alpha=1.0, copy_X=True, fit_intercept=True, max_iter=1000,\n",
      "      normalize=False, positive=False, precompute=False, random_state=None,\n",
      "      selection='cyclic', tol=0.0001, warm_start=False)\n",
      "R2 Score :  -0.00013502797849729298\n",
      "Mean Absolute Error :  0.31981043732592035\n",
      "Mean Squared Error :  0.15330580817153894\n",
      "Root Mean Squared Error :  0.39154285611097406\n",
      "\n",
      "*************************************************************************************\n",
      "*************************************************************************************\n",
      "Ridge(alpha=1.0, copy_X=True, fit_intercept=True, max_iter=None,\n",
      "      normalize=False, random_state=None, solver='auto', tol=0.001)\n",
      "R2 Score :  0.54129383201479\n",
      "Mean Absolute Error :  0.20845970465494354\n",
      "Mean Squared Error :  0.07031282559753946\n",
      "Root Mean Squared Error :  0.2651656568968528\n",
      "\n",
      "*************************************************************************************\n",
      "*************************************************************************************\n",
      "ElasticNet(alpha=1.0, copy_X=True, fit_intercept=True, l1_ratio=0.5,\n",
      "           max_iter=1000, normalize=False, positive=False, precompute=False,\n",
      "           random_state=None, selection='cyclic', tol=0.0001, warm_start=False)\n",
      "R2 Score :  -0.00013502797849729298\n",
      "Mean Absolute Error :  0.31981043732592035\n",
      "Mean Squared Error :  0.15330580817153894\n",
      "Root Mean Squared Error :  0.39154285611097406\n",
      "\n",
      "*************************************************************************************\n"
     ]
    }
   ],
   "source": [
    "model = [LR(),DTR(),KNR(),SVR(),Lasso(),Ridge(),ElasticNet()]\n",
    "\n",
    "for i in range(len(model)):\n",
    "    x_train,x_test,y_train,y_test = train_test_split(x,y,test_size=.20,random_state=40)\n",
    "    model[i].fit(x_train,y_train)\n",
    "    y_pred = model[i].predict(x_test)\n",
    "    r2Score = r2_score(y_test,y_pred)\n",
    "    \n",
    "    print(\"*************************************************************************************\")\n",
    "    print(model[i])\n",
    "    print(\"R2 Score : \",r2Score)\n",
    "    print(\"Mean Absolute Error : \" ,mean_absolute_error(y_test,y_pred))\n",
    "    print(\"Mean Squared Error : \" ,mean_squared_error(y_test,y_pred))\n",
    "    print(\"Root Mean Squared Error : \" ,np.sqrt(mean_squared_error(y_test,y_pred)))\n",
    "    print(\"\")\n",
    "    print(\"*************************************************************************************\")\n",
    "\n"
   ]
  },
  {
   "cell_type": "markdown",
   "metadata": {},
   "source": [
    "    KNeighbor Regressors performed best with 84.87% accuracy."
   ]
  },
  {
   "cell_type": "code",
   "execution_count": 28,
   "metadata": {},
   "outputs": [
    {
     "name": "stdout",
     "output_type": "stream",
     "text": [
      "*************************************************************************************\n",
      "Score for  KNeighborsRegressor(algorithm='auto', leaf_size=30, metric='minkowski',\n",
      "                    metric_params=None, n_jobs=None, n_neighbors=5, p=2,\n",
      "                    weights='uniform')  : \n",
      "Score :  [-0.07027499  0.19132697  0.43662541  0.23537841 -0.11684639]\n",
      "Mean :  0.13524188288424852\n",
      "Standard Deviation :  0.20483680182009148\n",
      "*************************************************************************************\n",
      "\n"
     ]
    }
   ],
   "source": [
    "from sklearn.model_selection import cross_val_score\n",
    "\n",
    "cv_score = cross_val_score(KNR(),x,y,cv=5,scoring='r2')\n",
    "print(\"*************************************************************************************\")\n",
    "print(\"Score for \",KNR(),\" : \")\n",
    "print(\"Score : \", cv_score)\n",
    "print(\"Mean : \", cv_score.mean())\n",
    "print(\"Standard Deviation : \", cv_score.std())\n",
    "print(\"*************************************************************************************\")\n",
    "print(\"\")"
   ]
  },
  {
   "cell_type": "code",
   "execution_count": 29,
   "metadata": {},
   "outputs": [
    {
     "data": {
      "text/plain": [
       "{'n_neighbors': 30, 'weights': 'distance'}"
      ]
     },
     "execution_count": 29,
     "metadata": {},
     "output_type": "execute_result"
    }
   ],
   "source": [
    "#GridSearchCV\n",
    "from sklearn.model_selection import GridSearchCV\n",
    "\n",
    "parameters = {'n_neighbors':list(range(1,31)),'weights':['uniform','distance']}\n",
    "\n",
    "gridsearch = GridSearchCV(KNR(),parameters,n_jobs=-1,pre_dispatch=2)\n",
    "gridsearch.fit(x,y)\n",
    "gridsearch.best_params_"
   ]
  },
  {
   "cell_type": "code",
   "execution_count": 30,
   "metadata": {},
   "outputs": [],
   "source": [
    "def random_state_counter(model):\n",
    "    max_r2_score=0\n",
    "    for j in range(10,90):\n",
    "        x_train,x_test,y_train,y_test = train_test_split(x,y,test_size=.20,random_state=j)\n",
    "        reg = model\n",
    "        reg.fit(x_train,y_train)\n",
    "        y_pred = reg.predict(x_test)\n",
    "        score = r2_score(y_test,y_pred)\n",
    "        if score>max_r2_score:\n",
    "            max_r2_score = score\n",
    "            final_state = j\n",
    "    return final_state"
   ]
  },
  {
   "cell_type": "code",
   "execution_count": 31,
   "metadata": {},
   "outputs": [
    {
     "name": "stdout",
     "output_type": "stream",
     "text": [
      "Score for KNeighbors regression :  1.0\n",
      "R2 Score for Linear Regression :  0.7995250025900861\n",
      "Mean Squared Error :  0.030497018096693387\n",
      "Mean Absolute Error :  0.1280350630323141\n",
      "Root Mean Squared Error :  0.17463395459272343\n"
     ]
    }
   ],
   "source": [
    "knr = KNR(n_neighbors=30,weights='distance')\n",
    "state = random_state_counter(knr)\n",
    "x_train,x_test,y_train,y_test = train_test_split(x,y,test_size=.20,random_state = state)\n",
    "knr.fit(x_train,y_train)\n",
    "score = knr.score(x_train,y_train)\n",
    "print(\"Score for KNeighbors regression : \",score)\n",
    "y_pred = knr.predict(x_test)\n",
    "r2Score = r2_score(y_test,y_pred)\n",
    "print(\"R2 Score for Linear Regression : \",r2Score)\n",
    "print(\"Mean Squared Error : \" ,mean_squared_error(y_test,y_pred))\n",
    "print(\"Mean Absolute Error : \" ,mean_absolute_error(y_test,y_pred))\n",
    "print(\"Root Mean Squared Error : \" ,np.sqrt(mean_squared_error(y_test,y_pred)))"
   ]
  },
  {
   "cell_type": "code",
   "execution_count": 32,
   "metadata": {},
   "outputs": [],
   "source": [
    "#Adaboost Regressor and RandomforestRegressor\n",
    "from sklearn.ensemble import AdaBoostRegressor as ABR\n",
    "from sklearn.ensemble import GradientBoostingRegressor as GBR\n",
    "from sklearn.ensemble import RandomForestRegressor as RFR\n"
   ]
  },
  {
   "cell_type": "code",
   "execution_count": 33,
   "metadata": {},
   "outputs": [
    {
     "name": "stdout",
     "output_type": "stream",
     "text": [
      "-----------------------------------------------------------\n",
      "AdaBoostRegressor(base_estimator=None, learning_rate=1.0, loss='linear',\n",
      "                  n_estimators=20, random_state=120)\n",
      "-----------------------------------------------------------\n",
      "R2 Score :  0.5188374071499003\n",
      "\n",
      "\n",
      "-----------------------------------------------------------\n",
      "GradientBoostingRegressor(alpha=0.9, ccp_alpha=0.0, criterion='friedman_mse',\n",
      "                          init=None, learning_rate=0.1, loss='ls', max_depth=3,\n",
      "                          max_features=None, max_leaf_nodes=None,\n",
      "                          min_impurity_decrease=0.0, min_impurity_split=None,\n",
      "                          min_samples_leaf=1, min_samples_split=2,\n",
      "                          min_weight_fraction_leaf=0.0, n_estimators=20,\n",
      "                          n_iter_no_change=None, presort='deprecated',\n",
      "                          random_state=13, subsample=1.0, tol=0.0001,\n",
      "                          validation_fraction=0.1, verbose=0, warm_start=False)\n",
      "-----------------------------------------------------------\n",
      "R2 Score :  0.5474873598989336\n",
      "\n",
      "\n",
      "-----------------------------------------------------------\n",
      "RandomForestRegressor(bootstrap=True, ccp_alpha=0.0, criterion='mse',\n",
      "                      max_depth=None, max_features='auto', max_leaf_nodes=None,\n",
      "                      max_samples=None, min_impurity_decrease=0.0,\n",
      "                      min_impurity_split=None, min_samples_leaf=1,\n",
      "                      min_samples_split=2, min_weight_fraction_leaf=0.0,\n",
      "                      n_estimators=20, n_jobs=None, oob_score=False,\n",
      "                      random_state=76, verbose=0, warm_start=False)\n",
      "-----------------------------------------------------------\n",
      "R2 Score :  0.8387819493501534\n",
      "\n",
      "\n"
     ]
    }
   ],
   "source": [
    "ada = ABR(n_estimators=20,random_state=120)\n",
    "gradient = GBR(n_estimators=20,random_state=13)\n",
    "rfr = RFR(n_estimators=20,random_state=76)\n",
    "\n",
    "boosting_model = [ada,gradient,rfr]\n",
    "\n",
    "for i in range(len(boosting_model)):\n",
    "    boost = boosting_model[i]\n",
    "    boost.fit(x_train,y_train)\n",
    "    pred = boost.predict(x_test)\n",
    "    r2Score = r2_score(y_test,pred)\n",
    "    print(\"-----------------------------------------------------------\")\n",
    "    print(boost)\n",
    "    print(\"-----------------------------------------------------------\")\n",
    "    print(\"R2 Score : \", r2Score)\n",
    "    print(\"\\n\")"
   ]
  },
  {
   "cell_type": "markdown",
   "metadata": {},
   "source": [
    "    Out of all the models KNR performed best"
   ]
  },
  {
   "cell_type": "code",
   "execution_count": 34,
   "metadata": {},
   "outputs": [
    {
     "name": "stdout",
     "output_type": "stream",
     "text": [
      "R2 Score for KNeighbor Regressor :  0.7995250025900861\n",
      "Mean Absolute Error :  0.1280350630323141\n",
      "Mean Squared Error :  0.030497018096693387\n",
      "Root Mean Squared Error :  0.17463395459272343\n"
     ]
    }
   ],
   "source": [
    "knr.fit(x_train,y_train)\n",
    "y_pred= knr.predict(x_test)\n",
    "r2score = r2_score(y_test,y_pred)\n",
    "print(\"R2 Score for KNeighbor Regressor : \",r2score)\n",
    "print(\"Mean Absolute Error : \" ,mean_absolute_error(y_test,y_pred))\n",
    "print(\"Mean Squared Error : \" ,mean_squared_error(y_test,y_pred))\n",
    "print(\"Root Mean Squared Error : \" ,np.sqrt(mean_squared_error(y_test,y_pred)))"
   ]
  },
  {
   "cell_type": "code",
   "execution_count": 35,
   "metadata": {},
   "outputs": [],
   "source": [
    "from sklearn.externals import joblib\n",
    "\n",
    "joblib.dump(knr,'KNRModel.obj')\n",
    "\n",
    "knr_from_joblib = joblib.load('KNRModel.obj')\n",
    "\n",
    "finalOutput = knr_from_joblib.predict(x_test)"
   ]
  },
  {
   "cell_type": "code",
   "execution_count": 36,
   "metadata": {},
   "outputs": [],
   "source": [
    "#save final output to a csv file :\n",
    "pd.DataFrame(finalOutput).to_csv(\"Avocado_Regressor_Output.csv\")"
   ]
  },
  {
   "cell_type": "markdown",
   "metadata": {},
   "source": [
    "# Part B : Find the Region "
   ]
  },
  {
   "cell_type": "code",
   "execution_count": 37,
   "metadata": {},
   "outputs": [],
   "source": [
    "from sklearn.metrics import confusion_matrix,accuracy_score,classification_report\n",
    "\n",
    "from sklearn.tree import DecisionTreeClassifier\n",
    "from sklearn.neighbors import KNeighborsClassifier\n",
    "from sklearn.svm import SVC"
   ]
  },
  {
   "cell_type": "code",
   "execution_count": 38,
   "metadata": {},
   "outputs": [],
   "source": [
    "def calBestRandomStateOf(model):\n",
    "    max_score=0\n",
    "    for i in range(40,100):\n",
    "        x_train,x_test,y_train,y_test = train_test_split(X,Y,test_size=.20,random_state=i)\n",
    "        model.fit(x_train,y_train)\n",
    "        pred = model.predict(x_test)\n",
    "        score = r2_score(y_test,pred)\n",
    "        if score>max_score:\n",
    "            max_score = score\n",
    "            final_state = i\n",
    "\n",
    "    return final_state"
   ]
  },
  {
   "cell_type": "code",
   "execution_count": 39,
   "metadata": {},
   "outputs": [
    {
     "name": "stdout",
     "output_type": "stream",
     "text": [
      "*************************************************************************************\n",
      "Random State :  98\n",
      "Score of  DecisionTreeClassifier(ccp_alpha=0.0, class_weight=None, criterion='gini',\n",
      "                       max_depth=None, max_features=None, max_leaf_nodes=None,\n",
      "                       min_impurity_decrease=0.0, min_impurity_split=None,\n",
      "                       min_samples_leaf=1, min_samples_split=2,\n",
      "                       min_weight_fraction_leaf=0.0, presort='deprecated',\n",
      "                       random_state=None, splitter='best')  is :  1.0\n",
      "Accuracy :  80.04509582863585 % \n",
      "*************************************************************************************\n",
      "*************************************************************************************\n",
      "Random State :  85\n",
      "Score of  KNeighborsClassifier(algorithm='auto', leaf_size=30, metric='minkowski',\n",
      "                     metric_params=None, n_jobs=None, n_neighbors=5, p=2,\n",
      "                     weights='uniform')  is :  0.918170284747674\n",
      "Accuracy :  87.03494926719279 % \n",
      "*************************************************************************************\n"
     ]
    }
   ],
   "source": [
    "model = [DecisionTreeClassifier(),KNeighborsClassifier()]\n",
    "\n",
    "for i in range(len(model)):\n",
    "    state = calBestRandomStateOf(model[i])\n",
    "    x_train,x_test,y_train,y_test = train_test_split(X,Y,test_size=.20,random_state=state)\n",
    "    model[i].fit(x_train,y_train)\n",
    "    score = model[i].score(x_train,y_train)\n",
    "    y_pred = model[i].predict(x_test)\n",
    "    accuracy = accuracy_score(y_test,y_pred)\n",
    "    classificationReport = classification_report(y_test,y_pred)\n",
    "    confusionMatrix = confusion_matrix(y_test,y_pred)\n",
    "    \n",
    "    print(\"*************************************************************************************\")\n",
    "    print(\"Random State : \",state)\n",
    "    print(\"Score of \",model[i],\" is : \", score)\n",
    "    print(\"Accuracy : \",accuracy*100,\"% \")\n",
    "    #print(\"Classification Report : \\n\")\n",
    "    #print(classificationReport)\n",
    "    #print(\"Confusion Matrix :\\n \")\n",
    "    #print(confusionMatrix)\n",
    "    print(\"*************************************************************************************\")\n"
   ]
  },
  {
   "cell_type": "code",
   "execution_count": 40,
   "metadata": {},
   "outputs": [
    {
     "name": "stdout",
     "output_type": "stream",
     "text": [
      "*************************************************************************************\n",
      "Score for  DecisionTreeClassifier(ccp_alpha=0.0, class_weight=None, criterion='gini',\n",
      "                       max_depth=None, max_features=None, max_leaf_nodes=None,\n",
      "                       min_impurity_decrease=0.0, min_impurity_split=None,\n",
      "                       min_samples_leaf=1, min_samples_split=2,\n",
      "                       min_weight_fraction_leaf=0.0, presort='deprecated',\n",
      "                       random_state=None, splitter='best')  : \n",
      "Score :  [0.52593595 0.58231845 0.43166441 0.44068561]\n",
      "Mean :  0.4951511050969779\n",
      "Standard Deviation :  0.06233558911634062\n",
      "*************************************************************************************\n",
      "\n",
      "*************************************************************************************\n",
      "Score for  KNeighborsClassifier(algorithm='auto', leaf_size=30, metric='minkowski',\n",
      "                     metric_params=None, n_jobs=None, n_neighbors=5, p=2,\n",
      "                     weights='uniform')  : \n",
      "Score :  [0.61434371 0.60239062 0.44429409 0.46301308]\n",
      "Mean :  0.5310103743797926\n",
      "Standard Deviation :  0.07775430750557058\n",
      "*************************************************************************************\n",
      "\n"
     ]
    }
   ],
   "source": [
    "#Cross Validation :\n",
    "from sklearn.model_selection import cross_val_score\n",
    "\n",
    "model = [DecisionTreeClassifier(),KNeighborsClassifier()]\n",
    "for i in range(len(model)):\n",
    "    cv_score = cross_val_score(model[i],X,Y,cv=4,scoring='accuracy')\n",
    "    print(\"*************************************************************************************\")\n",
    "    print(\"Score for \",model[i],\" : \")\n",
    "    print(\"Score : \", cv_score)\n",
    "    print(\"Mean : \", cv_score.mean())\n",
    "    print(\"Standard Deviation : \", cv_score.std())\n",
    "    print(\"*************************************************************************************\")\n",
    "    print(\"\")"
   ]
  },
  {
   "cell_type": "code",
   "execution_count": 41,
   "metadata": {},
   "outputs": [
    {
     "data": {
      "text/plain": [
       "{'n_neighbors': 3, 'weights': 'distance'}"
      ]
     },
     "execution_count": 41,
     "metadata": {},
     "output_type": "execute_result"
    }
   ],
   "source": [
    "#GridSearchCV\n",
    "from sklearn.model_selection import GridSearchCV\n",
    "\n",
    "parameters = {'n_neighbors':list(range(1,31)),'weights':['uniform','distance']}\n",
    "\n",
    "gridsearch = GridSearchCV(KNeighborsClassifier(),parameters,n_jobs=-1,pre_dispatch=2)\n",
    "\n",
    "gridsearch.fit(X,Y)\n",
    "gridsearch.best_params_\n",
    "                        "
   ]
  },
  {
   "cell_type": "code",
   "execution_count": 42,
   "metadata": {},
   "outputs": [
    {
     "name": "stdout",
     "output_type": "stream",
     "text": [
      "Score for KNeighbors Classifier :  1.0\n",
      "Accuracy Score for KNC :  0.8892333709131905\n",
      "Mean Squared Error :  44.84216459977452\n",
      "Mean Absolute Error :  1.846674182638106\n",
      "Root Mean Squared Error :  6.696429242497416\n"
     ]
    }
   ],
   "source": [
    "from sklearn.metrics import mean_absolute_error, mean_squared_error\n",
    "\n",
    "knc = KNeighborsClassifier(n_neighbors=3,weights='distance')\n",
    "x_train,x_test,y_train,y_test = train_test_split(X,Y,test_size=.20,random_state = 85)\n",
    "knc.fit(x_train,y_train)\n",
    "score = knc.score(x_train,y_train)\n",
    "print(\"Score for KNeighbors Classifier : \",score)\n",
    "y_pred = knc.predict(x_test)\n",
    "accuracy = accuracy_score(y_test,y_pred)\n",
    "print(\"Accuracy Score for KNC : \",accuracy)\n",
    "print(\"Mean Squared Error : \" ,mean_squared_error(y_test,y_pred))\n",
    "print(\"Mean Absolute Error : \" ,mean_absolute_error(y_test,y_pred))\n",
    "print(\"Root Mean Squared Error : \" ,np.sqrt(mean_squared_error(y_test,y_pred)))"
   ]
  },
  {
   "cell_type": "code",
   "execution_count": 43,
   "metadata": {},
   "outputs": [
    {
     "name": "stdout",
     "output_type": "stream",
     "text": [
      "*************************************************************************************\n",
      "Score for  KNeighborsClassifier(algorithm='auto', leaf_size=30, metric='minkowski',\n",
      "                     metric_params=None, n_jobs=None, n_neighbors=3, p=2,\n",
      "                     weights='distance')  : \n",
      "Score :  [0.62471809 0.62223726 0.45060893 0.47248534]\n",
      "Mean :  0.5425124041497519\n",
      "Standard Deviation :  0.08133858961484013\n",
      "*************************************************************************************\n",
      "\n"
     ]
    }
   ],
   "source": [
    "cv_score = cross_val_score(knc,X,Y,cv=4,scoring='accuracy')\n",
    "print(\"*************************************************************************************\")\n",
    "print(\"Score for \",knc,\" : \")\n",
    "print(\"Score : \", cv_score)\n",
    "print(\"Mean : \", cv_score.mean())\n",
    "print(\"Standard Deviation : \", cv_score.std())\n",
    "print(\"*************************************************************************************\")\n",
    "print(\"\")"
   ]
  },
  {
   "cell_type": "code",
   "execution_count": 44,
   "metadata": {},
   "outputs": [
    {
     "name": "stdout",
     "output_type": "stream",
     "text": [
      "-----------------------------------------------------------\n",
      "AdaBoostClassifier(algorithm='SAMME.R', base_estimator=None, learning_rate=1.0,\n",
      "                   n_estimators=20, random_state=41)\n",
      "-----------------------------------------------------------\n",
      "Accuracy Score :  0.07158962795941376\n",
      "\n",
      "\n",
      "-----------------------------------------------------------\n",
      "GradientBoostingClassifier(ccp_alpha=0.0, criterion='friedman_mse', init=None,\n",
      "                           learning_rate=0.1, loss='deviance', max_depth=3,\n",
      "                           max_features=None, max_leaf_nodes=None,\n",
      "                           min_impurity_decrease=0.0, min_impurity_split=None,\n",
      "                           min_samples_leaf=1, min_samples_split=2,\n",
      "                           min_weight_fraction_leaf=0.0, n_estimators=20,\n",
      "                           n_iter_no_change=None, presort='deprecated',\n",
      "                           random_state=162, subsample=1.0, tol=0.0001,\n",
      "                           validation_fraction=0.1, verbose=0,\n",
      "                           warm_start=False)\n",
      "-----------------------------------------------------------\n",
      "Accuracy Score :  0.7384441939120632\n",
      "\n",
      "\n",
      "-----------------------------------------------------------\n",
      "RandomForestClassifier(bootstrap=True, ccp_alpha=0.0, class_weight=None,\n",
      "                       criterion='gini', max_depth=None, max_features='auto',\n",
      "                       max_leaf_nodes=None, max_samples=None,\n",
      "                       min_impurity_decrease=0.0, min_impurity_split=None,\n",
      "                       min_samples_leaf=1, min_samples_split=2,\n",
      "                       min_weight_fraction_leaf=0.0, n_estimators=20,\n",
      "                       n_jobs=None, oob_score=False, random_state=115,\n",
      "                       verbose=0, warm_start=False)\n",
      "-----------------------------------------------------------\n",
      "Accuracy Score :  0.8866967305524239\n",
      "\n",
      "\n"
     ]
    }
   ],
   "source": [
    "#Adaboost Regressor and RandomforestRegressor\n",
    "from sklearn.ensemble import AdaBoostClassifier as ABC\n",
    "from sklearn.ensemble import GradientBoostingClassifier as GBC\n",
    "from sklearn.ensemble import RandomForestClassifier as RFC\n",
    "\n",
    "ada = ABC(n_estimators=20,random_state=41)\n",
    "gradient = GBC(n_estimators=20,random_state=162)\n",
    "rfc = RFC(n_estimators=20,random_state=115)\n",
    "\n",
    "boosting_model = [ada,gradient,rfc]\n",
    "\n",
    "for i in range(len(boosting_model)):\n",
    "    boost = boosting_model[i]\n",
    "    boost.fit(x_train,y_train)\n",
    "    pred = boost.predict(x_test)\n",
    "    accuracyScore = accuracy_score(y_test,pred)\n",
    "    print(\"-----------------------------------------------------------\")\n",
    "    print(boost)\n",
    "    print(\"-----------------------------------------------------------\")\n",
    "    print(\"Accuracy Score : \", accuracyScore)\n",
    "    print(\"\\n\")"
   ]
  },
  {
   "cell_type": "markdown",
   "metadata": {},
   "source": [
    "    KNeighbors Classifier Works best of all models with 88.92% accuracy and hence will be our final model."
   ]
  },
  {
   "cell_type": "code",
   "execution_count": 45,
   "metadata": {},
   "outputs": [],
   "source": [
    "from sklearn.externals import joblib\n",
    "\n",
    "joblib.dump(knc,'KNeigborsClassifierModel.obj')\n",
    "\n",
    "knc_from_joblib = joblib.load('KNeigborsClassifierModel.obj')\n",
    "\n",
    "final_output = knc_from_joblib.predict(x_test)"
   ]
  },
  {
   "cell_type": "code",
   "execution_count": 46,
   "metadata": {},
   "outputs": [],
   "source": [
    "#save final output to a csv file :\n",
    "pd.DataFrame(final_output).to_csv(\"Avocado_Classifier_Output.csv\")"
   ]
  }
 ],
 "metadata": {
  "kernelspec": {
   "display_name": "Python 3",
   "language": "python",
   "name": "python3"
  },
  "language_info": {
   "codemirror_mode": {
    "name": "ipython",
    "version": 3
   },
   "file_extension": ".py",
   "mimetype": "text/x-python",
   "name": "python",
   "nbconvert_exporter": "python",
   "pygments_lexer": "ipython3",
   "version": "3.7.6"
  }
 },
 "nbformat": 4,
 "nbformat_minor": 4
}
