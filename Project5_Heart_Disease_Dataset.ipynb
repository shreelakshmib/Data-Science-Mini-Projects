{
 "cells": [
  {
   "cell_type": "raw",
   "metadata": {},
   "source": [
    "Abstract : To predict heart disease in an individual"
   ]
  },
  {
   "cell_type": "code",
   "execution_count": null,
   "metadata": {},
   "outputs": [],
   "source": [
    "import pandas as pd\n",
    "import numpy as np\n",
    "import matplotlib.pyplot as plt\n",
    "import seaborn as sns\n",
    "import warnings\n",
    "import datetime as dt\n",
    "warnings.filterwarnings('ignore')\n",
    "%matplotlib inline"
   ]
  },
  {
   "cell_type": "code",
   "execution_count": null,
   "metadata": {},
   "outputs": [],
   "source": [
    "colnames = ['age','sex','cp','trestbps','chol','fbs','restecg','thalach','exang','oldpeak','slope','ca','thal','num']\n",
    "df = pd.read_csv('heart_disease.csv',names=colnames)"
   ]
  },
  {
   "cell_type": "code",
   "execution_count": null,
   "metadata": {},
   "outputs": [],
   "source": [
    "df.head()"
   ]
  },
  {
   "cell_type": "markdown",
   "metadata": {},
   "source": [
    "We can see here that there are some '?' characters. We need to eliminate them."
   ]
  },
  {
   "cell_type": "code",
   "execution_count": null,
   "metadata": {},
   "outputs": [],
   "source": [
    "df.info()"
   ]
  },
  {
   "cell_type": "markdown",
   "metadata": {},
   "source": [
    "There are 200 rows, no null values. Object type column needs to be converted to int or float."
   ]
  },
  {
   "cell_type": "code",
   "execution_count": null,
   "metadata": {},
   "outputs": [],
   "source": [
    "df [df== '?'].count()"
   ]
  },
  {
   "cell_type": "raw",
   "metadata": {},
   "source": [
    "Here we cann see that : '?' character is present in columns like trestbps,chol,fbs,thalach,exang,oldpeak,slope,ca,thal. \n",
    "1. We will drop columns - slope,ca,thal as they have high number of this char.\n",
    "2. The rest columns we will drop only those rows which has ? as a value."
   ]
  },
  {
   "cell_type": "code",
   "execution_count": null,
   "metadata": {},
   "outputs": [],
   "source": [
    "df.describe()"
   ]
  },
  {
   "cell_type": "code",
   "execution_count": null,
   "metadata": {},
   "outputs": [],
   "source": []
  },
  {
   "cell_type": "markdown",
   "metadata": {},
   "source": [
    "# Data Visualization "
   ]
  },
  {
   "cell_type": "raw",
   "metadata": {},
   "source": [
    "Univariate Analysis: "
   ]
  },
  {
   "cell_type": "code",
   "execution_count": null,
   "metadata": {},
   "outputs": [],
   "source": [
    "sns.countplot(x='sex',data=df)\n",
    "plt.title(\"Gender Ratio\")\n"
   ]
  },
  {
   "cell_type": "raw",
   "metadata": {},
   "source": [
    "Observation : We can observe that males are highly prone to heart disease according to our data."
   ]
  },
  {
   "cell_type": "code",
   "execution_count": null,
   "metadata": {},
   "outputs": [],
   "source": [
    "sns.distplot(df['age'])\n",
    "plt.title(\"Age Distribution\")"
   ]
  },
  {
   "cell_type": "raw",
   "metadata": {},
   "source": [
    "Observation : People who are in the range of 50-70 years old were victim of heart disease."
   ]
  },
  {
   "cell_type": "code",
   "execution_count": null,
   "metadata": {},
   "outputs": [],
   "source": [
    "plt.title(\"Chest Pain type\")\n",
    "sns.countplot(x='cp',data=df)"
   ]
  },
  {
   "cell_type": "raw",
   "metadata": {},
   "source": [
    "Observation : Most people suffer from Type 4 chest pain which is - asymptomatic."
   ]
  },
  {
   "cell_type": "raw",
   "metadata": {},
   "source": [
    "Bivariate Analysis:"
   ]
  },
  {
   "cell_type": "code",
   "execution_count": null,
   "metadata": {},
   "outputs": [],
   "source": [
    "sns.heatmap(df.isnull())"
   ]
  },
  {
   "cell_type": "markdown",
   "metadata": {},
   "source": [
    "# Data Preprocessing"
   ]
  },
  {
   "cell_type": "code",
   "execution_count": null,
   "metadata": {},
   "outputs": [],
   "source": [
    "#drop the following columns as they have too many ? char\n",
    "df.drop('slope',axis=1,inplace=True)\n",
    "df.drop('ca',axis=1,inplace=True)\n",
    "df.drop('thal',axis=1,inplace=True)\n"
   ]
  },
  {
   "cell_type": "code",
   "execution_count": null,
   "metadata": {},
   "outputs": [],
   "source": [
    "#drop only those rows whose column value is ? char.\n",
    "df.drop(df[df['chol'] == '?'].index,axis=0,inplace=True)\n",
    "df.drop(df[df['fbs'] == '?'].index,axis=0,inplace=True)\n",
    "df.drop(df[df['trestbps'] == '?'].index,axis=0,inplace=True)\n",
    "df.drop(df[df['oldpeak'] == '?'].index,axis=0,inplace=True)"
   ]
  },
  {
   "cell_type": "code",
   "execution_count": null,
   "metadata": {},
   "outputs": [],
   "source": [
    "#convert the remaining column type to float.\n",
    "convert_dtype = ['trestbps','chol','fbs','thalach','exang','oldpeak']\n",
    "for i in range(len(convert_dtype)):\n",
    "    df[convert_dtype[i]] = df[convert_dtype[i]].astype('float')"
   ]
  },
  {
   "cell_type": "code",
   "execution_count": null,
   "metadata": {},
   "outputs": [],
   "source": [
    "df.info()"
   ]
  },
  {
   "cell_type": "code",
   "execution_count": null,
   "metadata": {},
   "outputs": [],
   "source": [
    "#correlation:\n",
    "\n",
    "corr = df.corr()\n",
    "plt.figure(figsize=(10,5))\n",
    "sns.heatmap(corr,annot=True)"
   ]
  },
  {
   "cell_type": "markdown",
   "metadata": {},
   "source": [
    "  Observation :   \n",
    "     \n",
    "      1. We can see that age and oldpeak column is highly correlated to the target variable num.\n",
    "      2. Columns - restecg and thalach has negative correlation with target value."
   ]
  },
  {
   "cell_type": "code",
   "execution_count": null,
   "metadata": {},
   "outputs": [],
   "source": [
    "#We can see how data is distributed based on gender.\n",
    "sns.pairplot(df,height=1.5,hue='sex')"
   ]
  },
  {
   "cell_type": "code",
   "execution_count": null,
   "metadata": {},
   "outputs": [],
   "source": [
    "#To check for skewness :\n",
    "col = df.columns.values\n",
    "plt.figure(figsize=(20,35))\n",
    "for i in range(0,len(col)):\n",
    "    plt.subplot(10,5,i+1)\n",
    "    sns.distplot(df[col[i]],color='crimson')\n",
    "plt.show()"
   ]
  },
  {
   "cell_type": "markdown",
   "metadata": {},
   "source": [
    "       Note : Sex and cp column, is left skewed."
   ]
  },
  {
   "cell_type": "code",
   "execution_count": null,
   "metadata": {},
   "outputs": [],
   "source": [
    "#Check for outliers :\n",
    "plt.figure(figsize=(8,20))\n",
    "for i in range(0,len(col)):\n",
    "    plt.subplot(10,5,i+1)\n",
    "    sns.boxplot(df[col[i]],palette='rocket',orient='v')\n",
    "    plt.tight_layout()\n"
   ]
  },
  {
   "cell_type": "markdown",
   "metadata": {},
   "source": [
    "      Obs : Age,sex,cp,and trestbps has some outliers."
   ]
  },
  {
   "cell_type": "code",
   "execution_count": null,
   "metadata": {},
   "outputs": [],
   "source": [
    "#Use z-score to find outliers :\n",
    "from scipy.stats import zscore\n",
    "#data.info()\n",
    "z=np.abs(zscore(df))\n",
    "print(np.where(z>3))"
   ]
  },
  {
   "cell_type": "code",
   "execution_count": null,
   "metadata": {},
   "outputs": [],
   "source": [
    "#remove the outliers and store it a new variable.\n",
    "df_new = df[(z<3).all(axis=1)]"
   ]
  },
  {
   "cell_type": "code",
   "execution_count": null,
   "metadata": {},
   "outputs": [],
   "source": [
    "#Feature Selection :\n",
    "from sklearn.model_selection import train_test_split\n",
    "\n",
    "X = df_new.drop('num',axis=1)\n",
    "y = df_new.iloc[:,-1:]"
   ]
  },
  {
   "cell_type": "code",
   "execution_count": null,
   "metadata": {},
   "outputs": [],
   "source": [
    "#Check for skew values : if skewness is > 0.50, skewness needs to be removed.\n",
    "X.skew()"
   ]
  },
  {
   "cell_type": "code",
   "execution_count": null,
   "metadata": {},
   "outputs": [],
   "source": [
    "from sklearn.preprocessing import StandardScaler\n",
    "scaler = StandardScaler()\n",
    "X = pd.DataFrame(scaler.fit_transform(X))"
   ]
  },
  {
   "cell_type": "markdown",
   "metadata": {},
   "source": [
    "# Model Validation and Prediction"
   ]
  },
  {
   "cell_type": "code",
   "execution_count": null,
   "metadata": {},
   "outputs": [],
   "source": [
    "from sklearn.metrics import confusion_matrix,accuracy_score,classification_report\n",
    "\n",
    "from sklearn.tree import DecisionTreeClassifier\n",
    "from sklearn.neighbors import KNeighborsClassifier\n",
    "from sklearn.svm import SVC"
   ]
  },
  {
   "cell_type": "code",
   "execution_count": null,
   "metadata": {},
   "outputs": [],
   "source": [
    "# algorithm to calculate the random state where models give better score :\n",
    "def calBestRandomStateOf(model):\n",
    "    max_score=0\n",
    "    for i in range(40,200):\n",
    "        x_train,x_test,y_train,y_test = train_test_split(X,y,test_size=.20,random_state=i)\n",
    "        model.fit(x_train,y_train)\n",
    "        pred = model.predict(x_test)\n",
    "        score = accuracy_score(y_test,pred)\n",
    "        if score>max_score:\n",
    "            max_score = score\n",
    "            final_state = i\n",
    "\n",
    "    return final_state\n"
   ]
  },
  {
   "cell_type": "code",
   "execution_count": null,
   "metadata": {},
   "outputs": [],
   "source": [
    "#check for various models and its scores :\n",
    "model = [DecisionTreeClassifier(),KNeighborsClassifier(),SVC()]\n",
    "\n",
    "for i in range(len(model)):\n",
    "    state = calBestRandomStateOf(model[i])\n",
    "    x_train,x_test,y_train,y_test = train_test_split(X,y,test_size=.20,random_state=state)\n",
    "    model[i].fit(x_train,y_train)\n",
    "    score = model[i].score(x_train,y_train)\n",
    "    y_pred = model[i].predict(x_test)\n",
    "    accuracy = accuracy_score(y_test,y_pred)\n",
    "    classificationReport = classification_report(y_test,y_pred)\n",
    "    confusionMatrix = confusion_matrix(y_test,y_pred)\n",
    "    \n",
    "    print(\"*************************************************************************************\")\n",
    "    print(\"Random State : \",state)\n",
    "    print(\"Score of \",model[i],\" is : \", score)\n",
    "    print(\"Accuracy : \",accuracy*100,\"% \")\n",
    "    print(\"Classification Report : \\n\")\n",
    "    print(classificationReport)\n",
    "    print(\"Confusion Matrix :\\n \")\n",
    "    print(confusionMatrix)\n",
    "    print(\"*************************************************************************************\")\n",
    "\n"
   ]
  },
  {
   "cell_type": "markdown",
   "metadata": {},
   "source": [
    "    We can say that SVC scores better than the rest of the model with 68% accuracy."
   ]
  },
  {
   "cell_type": "code",
   "execution_count": null,
   "metadata": {},
   "outputs": [],
   "source": [
    "#Cross Validation :\n",
    "from sklearn.model_selection import cross_val_score\n",
    "\n",
    "model = [DecisionTreeClassifier(),KNeighborsClassifier(),SVC()]\n",
    "for i in range(len(model)):\n",
    "    cv_score = cross_val_score(model[i],X,y,cv=4,scoring='accuracy')\n",
    "    print(\"*************************************************************************************\")\n",
    "    print(\"Score for \",model[i],\" : \")\n",
    "    print(\"Score : \", cv_score)\n",
    "    print(\"Mean : \", cv_score.mean())\n",
    "    print(\"Standard Deviation : \", cv_score.std())\n",
    "    print(\"*************************************************************************************\")\n",
    "    print(\"\")\n"
   ]
  },
  {
   "cell_type": "code",
   "execution_count": null,
   "metadata": {},
   "outputs": [],
   "source": [
    "#GridSearchCV\n",
    "from sklearn.model_selection import GridSearchCV\n",
    "\n",
    "param_grid = {'C': [0.1, 1, 10, 100],  \n",
    "              'gamma': [10,1, 0.1, 0.01, 0.001], \n",
    "              'kernel': ['linear','rbf','radial']\n",
    "              } \n",
    "gridsearch = GridSearchCV(SVC(),param_grid,n_jobs=-1,pre_dispatch=2)\n",
    "gridsearch.fit(X,y)\n",
    "gridsearch.best_params_\n",
    "                          "
   ]
  },
  {
   "cell_type": "code",
   "execution_count": null,
   "metadata": {},
   "outputs": [],
   "source": [
    "#Using the best parameters, build a svc model:\n",
    "\n",
    "from sklearn.metrics import mean_absolute_error, mean_squared_error\n",
    "\n",
    "svc = SVC(C=100,gamma=0.1,kernel='rbf')\n",
    "state = calBestRandomStateOf(svc)\n",
    "x_train,x_test,y_train,y_test = train_test_split(X,y,test_size=.20,random_state = state )\n",
    "\n",
    "svc.fit(x_train,y_train)\n",
    "score = svc.score(x_train,y_train)\n",
    "y_pred = svc.predict(x_test)\n",
    "accuracy = accuracy_score(y_test,y_pred)\n",
    "\n",
    "print(\"Score for SVC : \",score)\n",
    "print(\"Accuracy Score for SVC : \",accuracy)\n",
    "print(\"Mean Squared Error : \" ,mean_squared_error(y_test,y_pred))\n",
    "print(\"Mean Absolute Error : \" ,mean_absolute_error(y_test,y_pred))\n",
    "print(\"Root Mean Squared Error : \" ,np.sqrt(mean_squared_error(y_test,y_pred)))"
   ]
  },
  {
   "cell_type": "code",
   "execution_count": null,
   "metadata": {},
   "outputs": [],
   "source": [
    "#K-fold Cross Validation\n",
    "cv_score = cross_val_score(svc,X,y,cv=4,scoring='accuracy')\n",
    "print(\"*************************************************************************************\")\n",
    "print(\"Score for \",svc,\" : \")\n",
    "print(\"Score : \", cv_score)\n",
    "print(\"Mean : \", cv_score.mean())\n",
    "print(\"Standard Deviation : \", cv_score.std())\n",
    "print(\"*************************************************************************************\")\n",
    "print(\"\")"
   ]
  },
  {
   "cell_type": "code",
   "execution_count": null,
   "metadata": {},
   "outputs": [],
   "source": [
    "#Boost scores using Adaboost Regressor, Gradient Regressor and RandomforestRegressor\n",
    "from sklearn.ensemble import AdaBoostClassifier as ABC\n",
    "from sklearn.ensemble import GradientBoostingClassifier as GBC\n",
    "from sklearn.ensemble import RandomForestClassifier as RFC\n",
    "\n",
    "ada = ABC(n_estimators=20,random_state=41)\n",
    "gradient = GBC(n_estimators=20,random_state=162)\n",
    "rfc = RFC(n_estimators=20,random_state=115)\n",
    "\n",
    "boosting_model = [ada,gradient,rfc]\n",
    "\n",
    "for i in range(len(boosting_model)):\n",
    "    boost = boosting_model[i]\n",
    "    boost.fit(x_train,y_train)\n",
    "    pred = boost.predict(x_test)\n",
    "    accuracyScore = accuracy_score(y_test,pred)\n",
    "    print(\"-----------------------------------------------------------\")\n",
    "    print(boost)\n",
    "    print(\"-----------------------------------------------------------\")\n",
    "    print(\"Accuracy Score : \", accuracyScore)\n",
    "    print(\"\\n\")"
   ]
  },
  {
   "cell_type": "markdown",
   "metadata": {},
   "source": [
    "    Out of all the models, GradientBoostClassifier performed best. Hence we will select this as our final model."
   ]
  },
  {
   "cell_type": "code",
   "execution_count": null,
   "metadata": {},
   "outputs": [],
   "source": [
    "#Final Model :\n",
    "gradient = GBC(n_estimators=20,random_state=162)\n",
    "gradient.fit(x_train,y_train)\n",
    "y_pred= gradient.predict(x_test)\n",
    "accuracy = accuracy_score(y_test,y_pred)\n",
    "print(\"Accuracy Score for SVC : \",accuracy)\n",
    "print(\"Mean Absolute Error : \" ,mean_absolute_error(y_test,y_pred))\n",
    "print(\"Mean Squared Error : \" ,mean_squared_error(y_test,y_pred))\n",
    "print(\"Root Mean Squared Error : \" ,np.sqrt(mean_squared_error(y_test,y_pred)))"
   ]
  },
  {
   "cell_type": "code",
   "execution_count": null,
   "metadata": {},
   "outputs": [],
   "source": [
    "#save the model \n",
    "\n",
    "from sklearn.externals import joblib\n",
    "\n",
    "joblib.dump(gradient,'gradientmodel.obj')\n",
    "\n",
    "gradient_from_joblib = joblib.load('gradientmodel.obj')\n",
    "\n",
    "final_output = gradient_from_joblib.predict(x_test)"
   ]
  },
  {
   "cell_type": "code",
   "execution_count": null,
   "metadata": {},
   "outputs": [],
   "source": [
    "#save final output to a csv file :\n",
    "pd.DataFrame(final_output).to_csv(\"HeartDisease_Output.csv\")"
   ]
  }
 ],
 "metadata": {
  "kernelspec": {
   "display_name": "Python 3",
   "language": "python",
   "name": "python3"
  },
  "language_info": {
   "codemirror_mode": {
    "name": "ipython",
    "version": 3
   },
   "file_extension": ".py",
   "mimetype": "text/x-python",
   "name": "python",
   "nbconvert_exporter": "python",
   "pygments_lexer": "ipython3",
   "version": "3.7.6"
  }
 },
 "nbformat": 4,
 "nbformat_minor": 4
}
